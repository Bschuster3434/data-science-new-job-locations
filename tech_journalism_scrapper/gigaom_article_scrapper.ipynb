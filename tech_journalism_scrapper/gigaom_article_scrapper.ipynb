{
 "metadata": {
  "name": ""
 },
 "nbformat": 3,
 "nbformat_minor": 0,
 "worksheets": [
  {
   "cells": [
    {
     "cell_type": "code",
     "collapsed": false,
     "input": [
      "from bs4 import BeautifulSoup\n",
      "import urllib2\n",
      "import sqlite3\n",
      "import pickle\n",
      "import time\n",
      "import re\n",
      "import os"
     ],
     "language": "python",
     "metadata": {},
     "outputs": [],
     "prompt_number": 17
    },
    {
     "cell_type": "code",
     "collapsed": false,
     "input": [
      "conn = sqlite3.connect(\"TechScrapper.db\")"
     ],
     "language": "python",
     "metadata": {},
     "outputs": [],
     "prompt_number": 18
    },
    {
     "cell_type": "code",
     "collapsed": false,
     "input": [
      "def search_locations(url):    \n",
      "    try:\n",
      "        response = urllib2.urlopen(url)\n",
      "    except:\n",
      "        return None\n",
      "    html = response.read()\n",
      "    response.close()\n",
      "    \n",
      "    soup = BeautifulSoup(html)\n",
      "    div = soup.find('div', id=lambda x: x and x.startswith('post-content-'))\n",
      "    content = div.get_text()\n",
      "    content = content.encode(\"ascii\", \"ignore\")\n",
      "    content = re.sub(\"\\n\", \"\", content)\n",
      "    content = re.sub(\"\\t\", \"\", content)\n",
      "    \n",
      "    cs_found = []\n",
      "    for key in lookup.iterkeys():\n",
      "        city_search = content.find(key)\n",
      "        if city_search >= 0:\n",
      "            cs_found.append(lookup[key])\n",
      "    return cs_found"
     ],
     "language": "python",
     "metadata": {},
     "outputs": [],
     "prompt_number": 27
    },
    {
     "cell_type": "code",
     "collapsed": false,
     "input": [
      "def add_locations(cs_found, url_id):\n",
      "    if len(cs_found) > 0:\n",
      "        for cs_i in cs_found:\n",
      "            v = coors[cs_i]\n",
      "            lat = v['lat']\n",
      "            lon = v['lon']\n",
      "            city = v['city']\n",
      "            state = v['state']\n",
      "            city_state = v['city_state']\n",
      "            c_2 = conn.cursor()\n",
      "            c_2.execute(\"INSERT INTO LocationCounts VALUES(?,?,?,?,?,?,?)\", (None, url_id, lat, lon, city, state, city_state))\n",
      "            try:\n",
      "                c_2.execute(\"INSERT INTO  LocationScrapped VALUES(?, ?)\", (None, url_id))\n",
      "            except:\n",
      "                continue\n",
      "            conn.commit()      "
     ],
     "language": "python",
     "metadata": {},
     "outputs": [],
     "prompt_number": 28
    },
    {
     "cell_type": "code",
     "collapsed": false,
     "input": [
      "def scrap_articles(notify=100):\n",
      "    c = conn.cursor()\n",
      "    c.execute(\"SELECT * FROM Articles WHERE ID not in (SELECT UrlId FROM LocationScrapped)\")\n",
      "    \n",
      "    coors_path = os.path.abspath(os.path.join(os.path.curdir, \"..\", \"inc_5000_cities\"))\n",
      "    with open(coors_path + \"\\\\city_state_coors.pickle\", \"rb\") as f:\n",
      "        coors = pickle.load(f)\n",
      "    with open(\"city_state_lookup.pickle\", \"rb\") as f:\n",
      "        lookup = pickle.load(f)\n",
      "\n",
      "    start = time.time()\n",
      "\n",
      "    for n, row in enumerate(c.fetchall()):\n",
      "        if n % notify == 0:\n",
      "            print \"Now on Number \" + str(n) + \". Time Run in seconds: \" + str(time.time() - start)\n",
      "        url_id = row[0]\n",
      "        url = row[1]\n",
      "        cs_found = search_locations(url)\n",
      "        if cs_found != None:\n",
      "            add_locations(cs_found, url_id)\n",
      "        time.sleep(.2)\n",
      "    stop = time.time()\n",
      "    conn.close()\n",
      "    print \"Seconds to Complete: \" + str(stop - start)"
     ],
     "language": "python",
     "metadata": {},
     "outputs": [],
     "prompt_number": 29
    },
    {
     "cell_type": "code",
     "collapsed": false,
     "input": [
      "scrap_articles(notify=25)"
     ],
     "language": "python",
     "metadata": {},
     "outputs": [
      {
       "output_type": "stream",
       "stream": "stdout",
       "text": [
        "Now on Number 0. Time Run in seconds: 0.021999835968\n",
        "Now on Number 25. Time Run in seconds: 23.9589998722"
       ]
      },
      {
       "output_type": "stream",
       "stream": "stdout",
       "text": [
        "\n",
        "Now on Number 50. Time Run in seconds: 56.754999876"
       ]
      },
      {
       "output_type": "stream",
       "stream": "stdout",
       "text": [
        "\n",
        "Now on Number 75. Time Run in seconds: 95.5179998875"
       ]
      },
      {
       "output_type": "stream",
       "stream": "stdout",
       "text": [
        "\n",
        "Now on Number 100. Time Run in seconds: 134.25"
       ]
      },
      {
       "output_type": "stream",
       "stream": "stdout",
       "text": [
        "\n",
        "Now on Number 125. Time Run in seconds: 176.493999958"
       ]
      },
      {
       "output_type": "stream",
       "stream": "stdout",
       "text": [
        "\n",
        "Now on Number 150. Time Run in seconds: 211.319999933"
       ]
      },
      {
       "output_type": "stream",
       "stream": "stdout",
       "text": [
        "\n",
        "Now on Number 175. Time Run in seconds: 247.363999844"
       ]
      },
      {
       "output_type": "stream",
       "stream": "stdout",
       "text": [
        "\n",
        "Now on Number 200. Time Run in seconds: 281.189999819"
       ]
      },
      {
       "output_type": "stream",
       "stream": "stdout",
       "text": [
        "\n",
        "Now on Number 225. Time Run in seconds: 314.605000019"
       ]
      },
      {
       "output_type": "stream",
       "stream": "stdout",
       "text": [
        "\n",
        "Now on Number 250. Time Run in seconds: 351.771999836"
       ]
      },
      {
       "output_type": "stream",
       "stream": "stdout",
       "text": [
        "\n",
        "Now on Number 275. Time Run in seconds: 386.941999912"
       ]
      },
      {
       "output_type": "stream",
       "stream": "stdout",
       "text": [
        "\n",
        "Now on Number 300. Time Run in seconds: 427.098999977"
       ]
      },
      {
       "output_type": "stream",
       "stream": "stdout",
       "text": [
        "\n",
        "Now on Number 325. Time Run in seconds: 460.786999941"
       ]
      },
      {
       "output_type": "stream",
       "stream": "stdout",
       "text": [
        "\n",
        "Now on Number 350. Time Run in seconds: 504.529999971"
       ]
      },
      {
       "output_type": "stream",
       "stream": "stdout",
       "text": [
        "\n",
        "Now on Number 375. Time Run in seconds: 549.090999842"
       ]
      },
      {
       "output_type": "stream",
       "stream": "stdout",
       "text": [
        "\n",
        "Now on Number 400. Time Run in seconds: 588.411000013"
       ]
      },
      {
       "output_type": "stream",
       "stream": "stdout",
       "text": [
        "\n",
        "Now on Number 425. Time Run in seconds: 620.666999817"
       ]
      },
      {
       "output_type": "stream",
       "stream": "stdout",
       "text": [
        "\n",
        "Now on Number 450. Time Run in seconds: 655.368999958"
       ]
      },
      {
       "output_type": "stream",
       "stream": "stdout",
       "text": [
        "\n",
        "Now on Number 475. Time Run in seconds: 699.814999819"
       ]
      },
      {
       "output_type": "stream",
       "stream": "stdout",
       "text": [
        "\n",
        "Now on Number 500. Time Run in seconds: 732.476999998"
       ]
      },
      {
       "output_type": "stream",
       "stream": "stdout",
       "text": [
        "\n",
        "Now on Number 525. Time Run in seconds: 773.937000036"
       ]
      },
      {
       "output_type": "stream",
       "stream": "stdout",
       "text": [
        "\n",
        "Now on Number 550. Time Run in seconds: 807.471999884"
       ]
      },
      {
       "output_type": "stream",
       "stream": "stdout",
       "text": [
        "\n",
        "Now on Number 575. Time Run in seconds: 845.220999956"
       ]
      },
      {
       "output_type": "stream",
       "stream": "stdout",
       "text": [
        "\n",
        "Now on Number 600. Time Run in seconds: 887.315999985"
       ]
      },
      {
       "output_type": "stream",
       "stream": "stdout",
       "text": [
        "\n",
        "Now on Number 625. Time Run in seconds: 924.075999975"
       ]
      },
      {
       "output_type": "stream",
       "stream": "stdout",
       "text": [
        "\n",
        "Now on Number 650. Time Run in seconds: 976.17599988"
       ]
      },
      {
       "output_type": "stream",
       "stream": "stdout",
       "text": [
        "\n",
        "Now on Number 675. Time Run in seconds: 1014.28600001"
       ]
      },
      {
       "output_type": "stream",
       "stream": "stdout",
       "text": [
        "\n",
        "Now on Number 700. Time Run in seconds: 1068.73899984"
       ]
      },
      {
       "output_type": "stream",
       "stream": "stdout",
       "text": [
        "\n",
        "Now on Number 725. Time Run in seconds: 1104.97199988"
       ]
      },
      {
       "output_type": "stream",
       "stream": "stdout",
       "text": [
        "\n",
        "Now on Number 750. Time Run in seconds: 1144.29699993"
       ]
      },
      {
       "output_type": "stream",
       "stream": "stdout",
       "text": [
        "\n",
        "Now on Number 775. Time Run in seconds: 1187.39199996"
       ]
      },
      {
       "output_type": "stream",
       "stream": "stdout",
       "text": [
        "\n",
        "Now on Number 800. Time Run in seconds: 1229.69999981"
       ]
      },
      {
       "output_type": "stream",
       "stream": "stdout",
       "text": [
        "\n",
        "Now on Number 825. Time Run in seconds: 1271.33500004"
       ]
      },
      {
       "output_type": "stream",
       "stream": "stdout",
       "text": [
        "\n",
        "Now on Number 850. Time Run in seconds: 1307.602"
       ]
      },
      {
       "output_type": "stream",
       "stream": "stdout",
       "text": [
        "\n",
        "Now on Number 875. Time Run in seconds: 1341.41599989"
       ]
      },
      {
       "output_type": "stream",
       "stream": "stdout",
       "text": [
        "\n",
        "Now on Number 900. Time Run in seconds: 1385.71099997"
       ]
      },
      {
       "output_type": "stream",
       "stream": "stdout",
       "text": [
        "\n",
        "Now on Number 925. Time Run in seconds: 1432.83299994"
       ]
      },
      {
       "output_type": "stream",
       "stream": "stdout",
       "text": [
        "\n",
        "Now on Number 950. Time Run in seconds: 1481.00099993"
       ]
      },
      {
       "output_type": "stream",
       "stream": "stdout",
       "text": [
        "\n",
        "Now on Number 975. Time Run in seconds: 1527.69400001"
       ]
      },
      {
       "output_type": "stream",
       "stream": "stdout",
       "text": [
        "\n",
        "Now on Number 1000. Time Run in seconds: 1577.70299983"
       ]
      },
      {
       "output_type": "stream",
       "stream": "stdout",
       "text": [
        "\n",
        "Now on Number 1025. Time Run in seconds: 1615.18999982"
       ]
      },
      {
       "output_type": "stream",
       "stream": "stdout",
       "text": [
        "\n",
        "Now on Number 1050. Time Run in seconds: 1657.18499994"
       ]
      },
      {
       "output_type": "stream",
       "stream": "stdout",
       "text": [
        "\n",
        "Now on Number 1075. Time Run in seconds: 1706.51399994"
       ]
      },
      {
       "output_type": "stream",
       "stream": "stdout",
       "text": [
        "\n",
        "Now on Number 1100. Time Run in seconds: 1745.92599988"
       ]
      },
      {
       "output_type": "stream",
       "stream": "stdout",
       "text": [
        "\n",
        "Now on Number 1125. Time Run in seconds: 1784.90100002"
       ]
      },
      {
       "output_type": "stream",
       "stream": "stdout",
       "text": [
        "\n",
        "Now on Number 1150. Time Run in seconds: 1827.41499996"
       ]
      },
      {
       "output_type": "stream",
       "stream": "stdout",
       "text": [
        "\n",
        "Now on Number 1175. Time Run in seconds: 1867.67999983"
       ]
      },
      {
       "output_type": "stream",
       "stream": "stdout",
       "text": [
        "\n",
        "Now on Number 1200. Time Run in seconds: 1906.74899983"
       ]
      },
      {
       "output_type": "stream",
       "stream": "stdout",
       "text": [
        "\n",
        "Now on Number 1225. Time Run in seconds: 1948.08599997"
       ]
      },
      {
       "output_type": "stream",
       "stream": "stdout",
       "text": [
        "\n",
        "Now on Number 1250. Time Run in seconds: 1985.80900002"
       ]
      },
      {
       "output_type": "stream",
       "stream": "stdout",
       "text": [
        "\n",
        "Now on Number 1275. Time Run in seconds: 2023.64499998"
       ]
      },
      {
       "output_type": "stream",
       "stream": "stdout",
       "text": [
        "\n",
        "Now on Number 1300. Time Run in seconds: 2064.36399984"
       ]
      },
      {
       "output_type": "stream",
       "stream": "stdout",
       "text": [
        "\n",
        "Now on Number 1325. Time Run in seconds: 2103.7349999"
       ]
      },
      {
       "output_type": "stream",
       "stream": "stdout",
       "text": [
        "\n",
        "Now on Number 1350. Time Run in seconds: 2147.35099983"
       ]
      },
      {
       "output_type": "stream",
       "stream": "stdout",
       "text": [
        "\n",
        "Now on Number 1375. Time Run in seconds: 2186.06799984"
       ]
      },
      {
       "output_type": "stream",
       "stream": "stdout",
       "text": [
        "\n",
        "Now on Number 1400. Time Run in seconds: 2232.15399981"
       ]
      },
      {
       "output_type": "stream",
       "stream": "stdout",
       "text": [
        "\n",
        "Now on Number 1425. Time Run in seconds: 2268.35399985"
       ]
      },
      {
       "output_type": "stream",
       "stream": "stdout",
       "text": [
        "\n",
        "Now on Number 1450. Time Run in seconds: 2304.97199988"
       ]
      },
      {
       "output_type": "stream",
       "stream": "stdout",
       "text": [
        "\n",
        "Now on Number 1475. Time Run in seconds: 2342.8499999"
       ]
      },
      {
       "output_type": "stream",
       "stream": "stdout",
       "text": [
        "\n",
        "Now on Number 1500. Time Run in seconds: 2379.5539999"
       ]
      },
      {
       "output_type": "stream",
       "stream": "stdout",
       "text": [
        "\n",
        "Now on Number 1525. Time Run in seconds: 2413.66199994"
       ]
      },
      {
       "output_type": "stream",
       "stream": "stdout",
       "text": [
        "\n",
        "Now on Number 1550. Time Run in seconds: 2448.68299985"
       ]
      },
      {
       "output_type": "stream",
       "stream": "stdout",
       "text": [
        "\n",
        "Now on Number 1575. Time Run in seconds: 2690.42999983"
       ]
      },
      {
       "output_type": "stream",
       "stream": "stdout",
       "text": [
        "\n",
        "Now on Number 1600. Time Run in seconds: 2747.04199982"
       ]
      },
      {
       "output_type": "stream",
       "stream": "stdout",
       "text": [
        "\n",
        "Now on Number 1625. Time Run in seconds: 2797.97599983"
       ]
      },
      {
       "output_type": "stream",
       "stream": "stdout",
       "text": [
        "\n",
        "Now on Number 1650. Time Run in seconds: 2847.03299999"
       ]
      },
      {
       "output_type": "stream",
       "stream": "stdout",
       "text": [
        "\n",
        "Now on Number 1675. Time Run in seconds: 2899.0769999"
       ]
      },
      {
       "output_type": "stream",
       "stream": "stdout",
       "text": [
        "\n",
        "Now on Number 1700. Time Run in seconds: 2952.35800004"
       ]
      },
      {
       "output_type": "stream",
       "stream": "stdout",
       "text": [
        "\n",
        "Now on Number 1725. Time Run in seconds: 2999.56200004"
       ]
      },
      {
       "output_type": "stream",
       "stream": "stdout",
       "text": [
        "\n",
        "Now on Number 1750. Time Run in seconds: 3049.19099998"
       ]
      },
      {
       "output_type": "stream",
       "stream": "stdout",
       "text": [
        "\n",
        "Now on Number 1775. Time Run in seconds: 3090.62399983"
       ]
      },
      {
       "output_type": "stream",
       "stream": "stdout",
       "text": [
        "\n",
        "Now on Number 1800. Time Run in seconds: 3168.64499998"
       ]
      },
      {
       "output_type": "stream",
       "stream": "stdout",
       "text": [
        "\n",
        "Now on Number 1825. Time Run in seconds: 3219.32399988"
       ]
      },
      {
       "output_type": "stream",
       "stream": "stdout",
       "text": [
        "\n",
        "Now on Number 1850. Time Run in seconds: 3269.30499983"
       ]
      },
      {
       "output_type": "stream",
       "stream": "stdout",
       "text": [
        "\n",
        "Now on Number 1875. Time Run in seconds: 3311.21499991"
       ]
      },
      {
       "output_type": "stream",
       "stream": "stdout",
       "text": [
        "\n",
        "Now on Number 1900. Time Run in seconds: 3358.33799982"
       ]
      },
      {
       "output_type": "stream",
       "stream": "stdout",
       "text": [
        "\n",
        "Now on Number 1925. Time Run in seconds: 3392.31699991"
       ]
      },
      {
       "output_type": "stream",
       "stream": "stdout",
       "text": [
        "\n",
        "Now on Number 1950. Time Run in seconds: 3428.94199991"
       ]
      },
      {
       "output_type": "stream",
       "stream": "stdout",
       "text": [
        "\n",
        "Now on Number 1975. Time Run in seconds: 3466.06399989"
       ]
      },
      {
       "output_type": "stream",
       "stream": "stdout",
       "text": [
        "\n",
        "Now on Number 2000. Time Run in seconds: 3508.93299985"
       ]
      },
      {
       "output_type": "stream",
       "stream": "stdout",
       "text": [
        "\n",
        "Now on Number 2025. Time Run in seconds: 3548.1329999"
       ]
      },
      {
       "output_type": "stream",
       "stream": "stdout",
       "text": [
        "\n",
        "Now on Number 2050. Time Run in seconds: 3583.93199992"
       ]
      },
      {
       "output_type": "stream",
       "stream": "stdout",
       "text": [
        "\n",
        "Now on Number 2075. Time Run in seconds: 3627.83699989"
       ]
      },
      {
       "output_type": "stream",
       "stream": "stdout",
       "text": [
        "\n",
        "Now on Number 2100. Time Run in seconds: 3666.53999996"
       ]
      },
      {
       "output_type": "stream",
       "stream": "stdout",
       "text": [
        "\n",
        "Now on Number 2125. Time Run in seconds: 3704.03799987"
       ]
      },
      {
       "output_type": "stream",
       "stream": "stdout",
       "text": [
        "\n",
        "Now on Number 2150. Time Run in seconds: 3738.02699995"
       ]
      },
      {
       "output_type": "stream",
       "stream": "stdout",
       "text": [
        "\n",
        "Now on Number 2175. Time Run in seconds: 3778.01499987"
       ]
      },
      {
       "output_type": "stream",
       "stream": "stdout",
       "text": [
        "\n",
        "Now on Number 2200. Time Run in seconds: 3819.96599984"
       ]
      },
      {
       "output_type": "stream",
       "stream": "stdout",
       "text": [
        "\n",
        "Now on Number 2225. Time Run in seconds: 3855.727"
       ]
      },
      {
       "output_type": "stream",
       "stream": "stdout",
       "text": [
        "\n",
        "Now on Number 2250. Time Run in seconds: 3893.45499992"
       ]
      },
      {
       "output_type": "stream",
       "stream": "stdout",
       "text": [
        "\n",
        "Now on Number 2275. Time Run in seconds: 3934.14399981"
       ]
      },
      {
       "output_type": "stream",
       "stream": "stdout",
       "text": [
        "\n",
        "Now on Number 2300. Time Run in seconds: 3969.42199993"
       ]
      },
      {
       "output_type": "stream",
       "stream": "stdout",
       "text": [
        "\n",
        "Now on Number 2325. Time Run in seconds: 4007.40899992"
       ]
      },
      {
       "output_type": "stream",
       "stream": "stdout",
       "text": [
        "\n",
        "Now on Number 2350. Time Run in seconds: 4043.10800004"
       ]
      },
      {
       "output_type": "stream",
       "stream": "stdout",
       "text": [
        "\n",
        "Now on Number 2375. Time Run in seconds: 4076.83200002"
       ]
      },
      {
       "output_type": "stream",
       "stream": "stdout",
       "text": [
        "\n",
        "Now on Number 2400. Time Run in seconds: 4123.63499999"
       ]
      },
      {
       "output_type": "stream",
       "stream": "stdout",
       "text": [
        "\n",
        "Now on Number 2425. Time Run in seconds: 4159.06799984"
       ]
      },
      {
       "output_type": "stream",
       "stream": "stdout",
       "text": [
        "\n",
        "Now on Number 2450. Time Run in seconds: 4202.8499999"
       ]
      },
      {
       "output_type": "stream",
       "stream": "stdout",
       "text": [
        "\n",
        "Now on Number 2475. Time Run in seconds: 4244.6559999"
       ]
      },
      {
       "output_type": "stream",
       "stream": "stdout",
       "text": [
        "\n",
        "Now on Number 2500. Time Run in seconds: 4278.48199987"
       ]
      },
      {
       "output_type": "stream",
       "stream": "stdout",
       "text": [
        "\n",
        "Now on Number 2525. Time Run in seconds: 4314.80999994"
       ]
      },
      {
       "output_type": "stream",
       "stream": "stdout",
       "text": [
        "\n",
        "Now on Number 2550. Time Run in seconds: 4348.14199996"
       ]
      },
      {
       "output_type": "stream",
       "stream": "stdout",
       "text": [
        "\n",
        "Now on Number 2575. Time Run in seconds: 4383.20599985"
       ]
      },
      {
       "output_type": "stream",
       "stream": "stdout",
       "text": [
        "\n",
        "Now on Number 2600. Time Run in seconds: 4424.06999993"
       ]
      },
      {
       "output_type": "stream",
       "stream": "stdout",
       "text": [
        "\n",
        "Now on Number 2625. Time Run in seconds: 4465.83500004"
       ]
      },
      {
       "output_type": "stream",
       "stream": "stdout",
       "text": [
        "\n",
        "Now on Number 2650. Time Run in seconds: 4504.33399987"
       ]
      },
      {
       "output_type": "stream",
       "stream": "stdout",
       "text": [
        "\n",
        "Now on Number 2675. Time Run in seconds: 4540.95099998"
       ]
      },
      {
       "output_type": "stream",
       "stream": "stdout",
       "text": [
        "\n",
        "Now on Number 2700. Time Run in seconds: 4578.51699996"
       ]
      },
      {
       "output_type": "stream",
       "stream": "stdout",
       "text": [
        "\n",
        "Now on Number 2725. Time Run in seconds: 4620.14699984"
       ]
      },
      {
       "output_type": "stream",
       "stream": "stdout",
       "text": [
        "\n",
        "Now on Number 2750. Time Run in seconds: 4655.18400002"
       ]
      },
      {
       "output_type": "stream",
       "stream": "stdout",
       "text": [
        "\n",
        "Now on Number 2775. Time Run in seconds: 4695.87199998"
       ]
      },
      {
       "output_type": "stream",
       "stream": "stdout",
       "text": [
        "\n",
        "Now on Number 2800. Time Run in seconds: 4728.94799995"
       ]
      },
      {
       "output_type": "stream",
       "stream": "stdout",
       "text": [
        "\n",
        "Now on Number 2825. Time Run in seconds: 4768.36800003"
       ]
      },
      {
       "output_type": "stream",
       "stream": "stdout",
       "text": [
        "\n",
        "Now on Number 2850. Time Run in seconds: 4810.04999995"
       ]
      },
      {
       "output_type": "stream",
       "stream": "stdout",
       "text": [
        "\n",
        "Now on Number 2875. Time Run in seconds: 4851.02699995"
       ]
      },
      {
       "output_type": "stream",
       "stream": "stdout",
       "text": [
        "\n",
        "Now on Number 2900. Time Run in seconds: 4892.65699983"
       ]
      },
      {
       "output_type": "stream",
       "stream": "stdout",
       "text": [
        "\n",
        "Now on Number 2925. Time Run in seconds: 4929.81499982"
       ]
      },
      {
       "output_type": "stream",
       "stream": "stdout",
       "text": [
        "\n",
        "Now on Number 2950. Time Run in seconds: 4968.19799995"
       ]
      },
      {
       "output_type": "stream",
       "stream": "stdout",
       "text": [
        "\n",
        "Now on Number 2975. Time Run in seconds: 5005.14199996"
       ]
      },
      {
       "output_type": "stream",
       "stream": "stdout",
       "text": [
        "\n",
        "Now on Number 3000. Time Run in seconds: 5042.13999987"
       ]
      },
      {
       "output_type": "stream",
       "stream": "stdout",
       "text": [
        "\n",
        "Now on Number 3025. Time Run in seconds: 5086.71399999"
       ]
      },
      {
       "output_type": "stream",
       "stream": "stdout",
       "text": [
        "\n",
        "Now on Number 3050. Time Run in seconds: 5124.16100001"
       ]
      },
      {
       "output_type": "stream",
       "stream": "stdout",
       "text": [
        "\n",
        "Now on Number 3075. Time Run in seconds: 5165.03999996"
       ]
      },
      {
       "output_type": "stream",
       "stream": "stdout",
       "text": [
        "\n",
        "Now on Number 3100. Time Run in seconds: 5216.45499992"
       ]
      },
      {
       "output_type": "stream",
       "stream": "stdout",
       "text": [
        "\n",
        "Now on Number 3125. Time Run in seconds: 5265.51899981"
       ]
      },
      {
       "output_type": "stream",
       "stream": "stdout",
       "text": [
        "\n",
        "Now on Number 3150. Time Run in seconds: 5307.82599998"
       ]
      },
      {
       "output_type": "stream",
       "stream": "stdout",
       "text": [
        "\n",
        "Now on Number 3175. Time Run in seconds: 5348.83699989"
       ]
      },
      {
       "output_type": "stream",
       "stream": "stdout",
       "text": [
        "\n",
        "Now on Number 3200. Time Run in seconds: 5397.8039999"
       ]
      },
      {
       "output_type": "stream",
       "stream": "stdout",
       "text": [
        "\n",
        "Now on Number 3225. Time Run in seconds: 5438.60099983"
       ]
      },
      {
       "output_type": "stream",
       "stream": "stdout",
       "text": [
        "\n",
        "Now on Number 3250. Time Run in seconds: 5483.47599983"
       ]
      },
      {
       "output_type": "stream",
       "stream": "stdout",
       "text": [
        "\n",
        "Now on Number 3275. Time Run in seconds: 5524.22199988"
       ]
      },
      {
       "output_type": "stream",
       "stream": "stdout",
       "text": [
        "\n",
        "Now on Number 3300. Time Run in seconds: 5560.71899986"
       ]
      },
      {
       "output_type": "stream",
       "stream": "stdout",
       "text": [
        "\n",
        "Now on Number 3325. Time Run in seconds: 5596.07599998"
       ]
      },
      {
       "output_type": "stream",
       "stream": "stdout",
       "text": [
        "\n",
        "Now on Number 3350. Time Run in seconds: 5636.96599984"
       ]
      },
      {
       "output_type": "stream",
       "stream": "stdout",
       "text": [
        "\n",
        "Now on Number 3375. Time Run in seconds: 5672.08099985"
       ]
      },
      {
       "output_type": "stream",
       "stream": "stdout",
       "text": [
        "\n",
        "Now on Number 3400. Time Run in seconds: 5710.648"
       ]
      },
      {
       "output_type": "stream",
       "stream": "stdout",
       "text": [
        "\n",
        "Now on Number 3425. Time Run in seconds: 5750.04099989"
       ]
      },
      {
       "output_type": "stream",
       "stream": "stdout",
       "text": [
        "\n",
        "Now on Number 3450. Time Run in seconds: 5790.2579999"
       ]
      },
      {
       "output_type": "stream",
       "stream": "stdout",
       "text": [
        "\n",
        "Now on Number 3475. Time Run in seconds: 5831.03999996"
       ]
      },
      {
       "output_type": "stream",
       "stream": "stdout",
       "text": [
        "\n",
        "Now on Number 3500. Time Run in seconds: 5867.91899991"
       ]
      },
      {
       "output_type": "stream",
       "stream": "stdout",
       "text": [
        "\n",
        "Now on Number 3525. Time Run in seconds: 5906.89299989"
       ]
      },
      {
       "output_type": "stream",
       "stream": "stdout",
       "text": [
        "\n",
        "Now on Number 3550. Time Run in seconds: 5939.9749999"
       ]
      },
      {
       "output_type": "stream",
       "stream": "stdout",
       "text": [
        "\n",
        "Now on Number 3575. Time Run in seconds: 5974.04499984"
       ]
      },
      {
       "output_type": "stream",
       "stream": "stdout",
       "text": [
        "\n",
        "Now on Number 3600. Time Run in seconds: 6015.28499985"
       ]
      },
      {
       "output_type": "stream",
       "stream": "stdout",
       "text": [
        "\n",
        "Now on Number 3625. Time Run in seconds: 6050.82399988"
       ]
      },
      {
       "output_type": "stream",
       "stream": "stdout",
       "text": [
        "\n",
        "Now on Number 3650. Time Run in seconds: 6086.96399999"
       ]
      },
      {
       "output_type": "stream",
       "stream": "stdout",
       "text": [
        "\n",
        "Now on Number 3675. Time Run in seconds: 6123.07099986"
       ]
      },
      {
       "output_type": "stream",
       "stream": "stdout",
       "text": [
        "\n",
        "Now on Number 3700. Time Run in seconds: 6162.0"
       ]
      },
      {
       "output_type": "stream",
       "stream": "stdout",
       "text": [
        "\n",
        "Now on Number 3725. Time Run in seconds: 6194.64899993"
       ]
      },
      {
       "output_type": "stream",
       "stream": "stdout",
       "text": [
        "\n",
        "Now on Number 3750. Time Run in seconds: 6229.96099997"
       ]
      },
      {
       "output_type": "stream",
       "stream": "stdout",
       "text": [
        "\n",
        "Now on Number 3775. Time Run in seconds: 6264.99199986"
       ]
      },
      {
       "output_type": "stream",
       "stream": "stdout",
       "text": [
        "\n",
        "Now on Number 3800. Time Run in seconds: 6298.93299985"
       ]
      },
      {
       "output_type": "stream",
       "stream": "stdout",
       "text": [
        "\n",
        "Now on Number 3825. Time Run in seconds: 6342.60099983"
       ]
      },
      {
       "output_type": "stream",
       "stream": "stdout",
       "text": [
        "\n",
        "Now on Number 3850. Time Run in seconds: 6383.15199995"
       ]
      },
      {
       "output_type": "stream",
       "stream": "stdout",
       "text": [
        "\n",
        "Now on Number 3875. Time Run in seconds: 6417.02699995"
       ]
      },
      {
       "output_type": "stream",
       "stream": "stdout",
       "text": [
        "\n",
        "Now on Number 3900. Time Run in seconds: 6459.14399981"
       ]
      },
      {
       "output_type": "stream",
       "stream": "stdout",
       "text": [
        "\n",
        "Now on Number 3925. Time Run in seconds: 6496.97799993"
       ]
      },
      {
       "output_type": "stream",
       "stream": "stdout",
       "text": [
        "\n",
        "Now on Number 3950. Time Run in seconds: 6533.19999981"
       ]
      },
      {
       "output_type": "stream",
       "stream": "stdout",
       "text": [
        "\n",
        "Now on Number 3975. Time Run in seconds: 6570.44799995"
       ]
      },
      {
       "output_type": "stream",
       "stream": "stdout",
       "text": [
        "\n",
        "Now on Number 4000. Time Run in seconds: 6606.50300002"
       ]
      },
      {
       "output_type": "stream",
       "stream": "stdout",
       "text": [
        "\n",
        "Now on Number 4025. Time Run in seconds: 6640.99799991"
       ]
      },
      {
       "output_type": "stream",
       "stream": "stdout",
       "text": [
        "\n",
        "Now on Number 4050. Time Run in seconds: 6679.6329999"
       ]
      },
      {
       "output_type": "stream",
       "stream": "stdout",
       "text": [
        "\n",
        "Now on Number 4075. Time Run in seconds: 6716.73300004"
       ]
      },
      {
       "output_type": "stream",
       "stream": "stdout",
       "text": [
        "\n",
        "Now on Number 4100. Time Run in seconds: 6752.12299991"
       ]
      },
      {
       "output_type": "stream",
       "stream": "stdout",
       "text": [
        "\n",
        "Now on Number 4125. Time Run in seconds: 6794.48199987"
       ]
      },
      {
       "output_type": "stream",
       "stream": "stdout",
       "text": [
        "\n",
        "Now on Number 4150. Time Run in seconds: 6834.72299981"
       ]
      },
      {
       "output_type": "stream",
       "stream": "stdout",
       "text": [
        "\n",
        "Now on Number 4175. Time Run in seconds: 6869.58200002"
       ]
      },
      {
       "output_type": "stream",
       "stream": "stdout",
       "text": [
        "\n",
        "Now on Number 4200. Time Run in seconds: 6908.64499998"
       ]
      },
      {
       "output_type": "stream",
       "stream": "stdout",
       "text": [
        "\n",
        "Now on Number 4225. Time Run in seconds: 6946.94799995"
       ]
      },
      {
       "output_type": "stream",
       "stream": "stdout",
       "text": [
        "\n",
        "Now on Number 4250. Time Run in seconds: 6987.82099986"
       ]
      },
      {
       "output_type": "stream",
       "stream": "stdout",
       "text": [
        "\n",
        "Now on Number 4275. Time Run in seconds: 7026.31299996"
       ]
      },
      {
       "output_type": "stream",
       "stream": "stdout",
       "text": [
        "\n",
        "Now on Number 4300. Time Run in seconds: 7063.54999995"
       ]
      },
      {
       "output_type": "stream",
       "stream": "stdout",
       "text": [
        "\n",
        "Now on Number 4325. Time Run in seconds: 7106.65799999"
       ]
      },
      {
       "output_type": "stream",
       "stream": "stdout",
       "text": [
        "\n",
        "Now on Number 4350. Time Run in seconds: 7143.57599998"
       ]
      },
      {
       "output_type": "stream",
       "stream": "stdout",
       "text": [
        "\n",
        "Now on Number 4375. Time Run in seconds: 7183.15399981"
       ]
      },
      {
       "output_type": "stream",
       "stream": "stdout",
       "text": [
        "\n",
        "Now on Number 4400. Time Run in seconds: 7219.49300003"
       ]
      },
      {
       "output_type": "stream",
       "stream": "stdout",
       "text": [
        "\n",
        "Now on Number 4425. Time Run in seconds: 7261.52399993"
       ]
      },
      {
       "output_type": "stream",
       "stream": "stdout",
       "text": [
        "\n",
        "Now on Number 4450. Time Run in seconds: 7297.79499984"
       ]
      },
      {
       "output_type": "stream",
       "stream": "stdout",
       "text": [
        "\n",
        "Now on Number 4475. Time Run in seconds: 7334.13199997"
       ]
      },
      {
       "output_type": "stream",
       "stream": "stdout",
       "text": [
        "\n",
        "Now on Number 4500. Time Run in seconds: 7375.21399999"
       ]
      },
      {
       "output_type": "stream",
       "stream": "stdout",
       "text": [
        "\n",
        "Now on Number 4525. Time Run in seconds: 7410.78299999"
       ]
      },
      {
       "output_type": "stream",
       "stream": "stdout",
       "text": [
        "\n",
        "Now on Number 4550. Time Run in seconds: 7444.78699994"
       ]
      },
      {
       "output_type": "stream",
       "stream": "stdout",
       "text": [
        "\n",
        "Now on Number 4575. Time Run in seconds: 7483.96799994"
       ]
      },
      {
       "output_type": "stream",
       "stream": "stdout",
       "text": [
        "\n",
        "Now on Number 4600. Time Run in seconds: 7521.12299991"
       ]
      },
      {
       "output_type": "stream",
       "stream": "stdout",
       "text": [
        "\n",
        "Now on Number 4625. Time Run in seconds: 7566.26499987"
       ]
      },
      {
       "output_type": "stream",
       "stream": "stdout",
       "text": [
        "\n",
        "Now on Number 4650. Time Run in seconds: 7605.59799981"
       ]
      },
      {
       "output_type": "stream",
       "stream": "stdout",
       "text": [
        "\n",
        "Now on Number 4675. Time Run in seconds: 7644.54900002"
       ]
      },
      {
       "output_type": "stream",
       "stream": "stdout",
       "text": [
        "\n",
        "Now on Number 4700. Time Run in seconds: 7684.38599992"
       ]
      },
      {
       "output_type": "stream",
       "stream": "stdout",
       "text": [
        "\n",
        "Now on Number 4725. Time Run in seconds: 7726.0769999"
       ]
      },
      {
       "output_type": "stream",
       "stream": "stdout",
       "text": [
        "\n",
        "Now on Number 4750. Time Run in seconds: 7770.70299983"
       ]
      },
      {
       "output_type": "stream",
       "stream": "stdout",
       "text": [
        "\n",
        "Now on Number 4775. Time Run in seconds: 7818.53799987"
       ]
      },
      {
       "output_type": "stream",
       "stream": "stdout",
       "text": [
        "\n",
        "Now on Number 4800. Time Run in seconds: 7862.06699991"
       ]
      },
      {
       "output_type": "stream",
       "stream": "stdout",
       "text": [
        "\n",
        "Now on Number 4825. Time Run in seconds: 7899.10699987"
       ]
      },
      {
       "output_type": "stream",
       "stream": "stdout",
       "text": [
        "\n",
        "Now on Number 4850. Time Run in seconds: 7932.59500003"
       ]
      },
      {
       "output_type": "stream",
       "stream": "stdout",
       "text": [
        "\n",
        "Now on Number 4875. Time Run in seconds: 7965.77699995"
       ]
      },
      {
       "output_type": "stream",
       "stream": "stdout",
       "text": [
        "\n",
        "Now on Number 4900. Time Run in seconds: 8000.76199985"
       ]
      },
      {
       "output_type": "stream",
       "stream": "stdout",
       "text": [
        "\n",
        "Now on Number 4925. Time Run in seconds: 8046.86199999"
       ]
      },
      {
       "output_type": "stream",
       "stream": "stdout",
       "text": [
        "\n",
        "Now on Number 4950. Time Run in seconds: 8090.96299982"
       ]
      },
      {
       "output_type": "stream",
       "stream": "stdout",
       "text": [
        "\n",
        "Now on Number 4975. Time Run in seconds: 8128.83699989"
       ]
      },
      {
       "output_type": "stream",
       "stream": "stdout",
       "text": [
        "\n",
        "Now on Number 5000. Time Run in seconds: 8173.03799987"
       ]
      },
      {
       "output_type": "stream",
       "stream": "stdout",
       "text": [
        "\n",
        "Now on Number 5025. Time Run in seconds: 8212.18799996"
       ]
      },
      {
       "output_type": "stream",
       "stream": "stdout",
       "text": [
        "\n",
        "Now on Number 5050. Time Run in seconds: 8252.09899998"
       ]
      },
      {
       "output_type": "stream",
       "stream": "stdout",
       "text": [
        "\n",
        "Now on Number 5075. Time Run in seconds: 8294.06299996"
       ]
      },
      {
       "output_type": "stream",
       "stream": "stdout",
       "text": [
        "\n",
        "Now on Number 5100. Time Run in seconds: 8329.70799994"
       ]
      },
      {
       "output_type": "stream",
       "stream": "stdout",
       "text": [
        "\n",
        "Now on Number 5125. Time Run in seconds: 8372.58500004"
       ]
      },
      {
       "output_type": "stream",
       "stream": "stdout",
       "text": [
        "\n",
        "Now on Number 5150. Time Run in seconds: 8417.1329999"
       ]
      },
      {
       "output_type": "stream",
       "stream": "stdout",
       "text": [
        "\n",
        "Now on Number 5175. Time Run in seconds: 8468.55499983"
       ]
      },
      {
       "output_type": "stream",
       "stream": "stdout",
       "text": [
        "\n",
        "Now on Number 5200. Time Run in seconds: 8508.39699984"
       ]
      },
      {
       "output_type": "stream",
       "stream": "stdout",
       "text": [
        "\n",
        "Now on Number 5225. Time Run in seconds: 8560.04900002"
       ]
      },
      {
       "output_type": "stream",
       "stream": "stdout",
       "text": [
        "\n",
        "Now on Number 5250. Time Run in seconds: 8597.102"
       ]
      },
      {
       "output_type": "stream",
       "stream": "stdout",
       "text": [
        "\n",
        "Now on Number 5275. Time Run in seconds: 8638.85500002"
       ]
      },
      {
       "output_type": "stream",
       "stream": "stdout",
       "text": [
        "\n",
        "Now on Number 5300. Time Run in seconds: 8673.77999997"
       ]
      },
      {
       "output_type": "stream",
       "stream": "stdout",
       "text": [
        "\n",
        "Now on Number 5325. Time Run in seconds: 8714.16999984"
       ]
      },
      {
       "output_type": "stream",
       "stream": "stdout",
       "text": [
        "\n",
        "Now on Number 5350. Time Run in seconds: 8759.70799994"
       ]
      },
      {
       "output_type": "stream",
       "stream": "stdout",
       "text": [
        "\n",
        "Now on Number 5375. Time Run in seconds: 8797.89599991"
       ]
      },
      {
       "output_type": "stream",
       "stream": "stdout",
       "text": [
        "\n",
        "Now on Number 5400. Time Run in seconds: 8835.02499986"
       ]
      },
      {
       "output_type": "stream",
       "stream": "stdout",
       "text": [
        "\n",
        "Now on Number 5425. Time Run in seconds: 8871.80299997"
       ]
      },
      {
       "output_type": "stream",
       "stream": "stdout",
       "text": [
        "\n",
        "Now on Number 5450. Time Run in seconds: 8907.86099982"
       ]
      },
      {
       "output_type": "stream",
       "stream": "stdout",
       "text": [
        "\n",
        "Now on Number 5475. Time Run in seconds: 8946.6559999"
       ]
      },
      {
       "output_type": "stream",
       "stream": "stdout",
       "text": [
        "\n",
        "Now on Number 5500. Time Run in seconds: 8984.00399995"
       ]
      },
      {
       "output_type": "stream",
       "stream": "stdout",
       "text": [
        "\n",
        "Now on Number 5525. Time Run in seconds: 9019.79099989"
       ]
      },
      {
       "output_type": "stream",
       "stream": "stdout",
       "text": [
        "\n",
        "Now on Number 5550. Time Run in seconds: 9055.67599988"
       ]
      },
      {
       "output_type": "stream",
       "stream": "stdout",
       "text": [
        "\n",
        "Now on Number 5575. Time Run in seconds: 9093.77199984"
       ]
      },
      {
       "output_type": "stream",
       "stream": "stdout",
       "text": [
        "\n",
        "Now on Number 5600. Time Run in seconds: 9134.66599989"
       ]
      },
      {
       "output_type": "stream",
       "stream": "stdout",
       "text": [
        "\n",
        "Now on Number 5625. Time Run in seconds: 9179.72099996"
       ]
      },
      {
       "output_type": "stream",
       "stream": "stdout",
       "text": [
        "\n",
        "Now on Number 5650. Time Run in seconds: 9224.50899982"
       ]
      },
      {
       "output_type": "stream",
       "stream": "stdout",
       "text": [
        "\n",
        "Now on Number 5675. Time Run in seconds: 9267.51199985"
       ]
      },
      {
       "output_type": "stream",
       "stream": "stdout",
       "text": [
        "\n",
        "Now on Number 5700. Time Run in seconds: 9313.54199982"
       ]
      },
      {
       "output_type": "stream",
       "stream": "stdout",
       "text": [
        "\n",
        "Now on Number 5725. Time Run in seconds: 9357.63599992"
       ]
      },
      {
       "output_type": "stream",
       "stream": "stdout",
       "text": [
        "\n",
        "Now on Number 5750. Time Run in seconds: 9396.98799992"
       ]
      },
      {
       "output_type": "stream",
       "stream": "stdout",
       "text": [
        "\n",
        "Now on Number 5775. Time Run in seconds: 9438.95799994"
       ]
      },
      {
       "output_type": "stream",
       "stream": "stdout",
       "text": [
        "\n",
        "Now on Number 5800. Time Run in seconds: 9478.75699997"
       ]
      },
      {
       "output_type": "stream",
       "stream": "stdout",
       "text": [
        "\n",
        "Now on Number 5825. Time Run in seconds: 9518.02600002"
       ]
      },
      {
       "output_type": "stream",
       "stream": "stdout",
       "text": [
        "\n",
        "Now on Number 5850. Time Run in seconds: 9555.40100002"
       ]
      },
      {
       "output_type": "stream",
       "stream": "stdout",
       "text": [
        "\n",
        "Now on Number 5875. Time Run in seconds: 9588.47000003"
       ]
      },
      {
       "output_type": "stream",
       "stream": "stdout",
       "text": [
        "\n",
        "Now on Number 5900. Time Run in seconds: 9626.04900002"
       ]
      },
      {
       "output_type": "stream",
       "stream": "stdout",
       "text": [
        "\n",
        "Now on Number 5925. Time Run in seconds: 9663.81699991"
       ]
      },
      {
       "output_type": "stream",
       "stream": "stdout",
       "text": [
        "\n",
        "Now on Number 5950. Time Run in seconds: 9703.56999993"
       ]
      },
      {
       "output_type": "stream",
       "stream": "stdout",
       "text": [
        "\n",
        "Now on Number 5975. Time Run in seconds: 9740.96599984"
       ]
      },
      {
       "output_type": "stream",
       "stream": "stdout",
       "text": [
        "\n",
        "Now on Number 6000. Time Run in seconds: 9781.71899986"
       ]
      },
      {
       "output_type": "stream",
       "stream": "stdout",
       "text": [
        "\n",
        "Now on Number 6025. Time Run in seconds: 9817.977"
       ]
      },
      {
       "output_type": "stream",
       "stream": "stdout",
       "text": [
        "\n",
        "Now on Number 6050. Time Run in seconds: 9855.87999988"
       ]
      },
      {
       "output_type": "stream",
       "stream": "stdout",
       "text": [
        "\n",
        "Now on Number 6075. Time Run in seconds: 9897.23300004"
       ]
      },
      {
       "output_type": "stream",
       "stream": "stdout",
       "text": [
        "\n",
        "Now on Number 6100. Time Run in seconds: 9931.65999985"
       ]
      },
      {
       "output_type": "stream",
       "stream": "stdout",
       "text": [
        "\n",
        "Now on Number 6125. Time Run in seconds: 9970.14100003"
       ]
      },
      {
       "output_type": "stream",
       "stream": "stdout",
       "text": [
        "\n",
        "Now on Number 6150. Time Run in seconds: 10019.674"
       ]
      },
      {
       "output_type": "stream",
       "stream": "stdout",
       "text": [
        "\n",
        "Now on Number 6175. Time Run in seconds: 10054.9489999"
       ]
      },
      {
       "output_type": "stream",
       "stream": "stdout",
       "text": [
        "\n",
        "Now on Number 6200. Time Run in seconds: 10092.277"
       ]
      },
      {
       "output_type": "stream",
       "stream": "stdout",
       "text": [
        "\n",
        "Now on Number 6225. Time Run in seconds: 10128.1529999"
       ]
      },
      {
       "output_type": "stream",
       "stream": "stdout",
       "text": [
        "\n",
        "Now on Number 6250. Time Run in seconds: 10160.954"
       ]
      },
      {
       "output_type": "stream",
       "stream": "stdout",
       "text": [
        "\n",
        "Now on Number 6275. Time Run in seconds: 10200.885"
       ]
      },
      {
       "output_type": "stream",
       "stream": "stdout",
       "text": [
        "\n",
        "Now on Number 6300. Time Run in seconds: 10239.543"
       ]
      },
      {
       "output_type": "stream",
       "stream": "stdout",
       "text": [
        "\n",
        "Now on Number 6325. Time Run in seconds: 10279.0999999"
       ]
      },
      {
       "output_type": "stream",
       "stream": "stdout",
       "text": [
        "\n",
        "Now on Number 6350. Time Run in seconds: 10319.0009999"
       ]
      },
      {
       "output_type": "stream",
       "stream": "stdout",
       "text": [
        "\n",
        "Now on Number 6375. Time Run in seconds: 10359.516"
       ]
      },
      {
       "output_type": "stream",
       "stream": "stdout",
       "text": [
        "\n",
        "Now on Number 6400. Time Run in seconds: 10401.3469999"
       ]
      },
      {
       "output_type": "stream",
       "stream": "stdout",
       "text": [
        "\n",
        "Now on Number 6425. Time Run in seconds: 10437.3399999"
       ]
      },
      {
       "output_type": "stream",
       "stream": "stdout",
       "text": [
        "\n",
        "Now on Number 6450. Time Run in seconds: 10477.8149998"
       ]
      },
      {
       "output_type": "stream",
       "stream": "stdout",
       "text": [
        "\n",
        "Now on Number 6475. Time Run in seconds: 10521.546"
       ]
      },
      {
       "output_type": "stream",
       "stream": "stdout",
       "text": [
        "\n",
        "Now on Number 6500. Time Run in seconds: 10558.6959999"
       ]
      },
      {
       "output_type": "stream",
       "stream": "stdout",
       "text": [
        "\n",
        "Now on Number 6525. Time Run in seconds: 10596.4719999"
       ]
      },
      {
       "output_type": "stream",
       "stream": "stdout",
       "text": [
        "\n",
        "Now on Number 6550. Time Run in seconds: 10643.648"
       ]
      },
      {
       "output_type": "stream",
       "stream": "stdout",
       "text": [
        "\n",
        "Now on Number 6575. Time Run in seconds: 10679.108"
       ]
      },
      {
       "output_type": "stream",
       "stream": "stdout",
       "text": [
        "\n",
        "Now on Number 6600. Time Run in seconds: 10718.142"
       ]
      },
      {
       "output_type": "stream",
       "stream": "stdout",
       "text": [
        "\n",
        "Now on Number 6625. Time Run in seconds: 10757.2579999"
       ]
      },
      {
       "output_type": "stream",
       "stream": "stdout",
       "text": [
        "\n",
        "Now on Number 6650. Time Run in seconds: 10795.2049999"
       ]
      },
      {
       "output_type": "stream",
       "stream": "stdout",
       "text": [
        "\n",
        "Now on Number 6675. Time Run in seconds: 10831.7949998"
       ]
      },
      {
       "output_type": "stream",
       "stream": "stdout",
       "text": [
        "\n",
        "Now on Number 6700. Time Run in seconds: 10874.984"
       ]
      },
      {
       "output_type": "stream",
       "stream": "stdout",
       "text": [
        "\n",
        "Now on Number 6725. Time Run in seconds: 10916.786"
       ]
      },
      {
       "output_type": "stream",
       "stream": "stdout",
       "text": [
        "\n",
        "Now on Number 6750. Time Run in seconds: 10955.803"
       ]
      },
      {
       "output_type": "stream",
       "stream": "stdout",
       "text": [
        "\n",
        "Now on Number 6775. Time Run in seconds: 10992.9129999"
       ]
      },
      {
       "output_type": "stream",
       "stream": "stdout",
       "text": [
        "\n",
        "Now on Number 6800. Time Run in seconds: 11036.0039999"
       ]
      },
      {
       "output_type": "stream",
       "stream": "stdout",
       "text": [
        "\n",
        "Now on Number 6825. Time Run in seconds: 11074.9919999"
       ]
      },
      {
       "output_type": "stream",
       "stream": "stdout",
       "text": [
        "\n",
        "Now on Number 6850. Time Run in seconds: 11111.756"
       ]
      },
      {
       "output_type": "stream",
       "stream": "stdout",
       "text": [
        "\n",
        "Now on Number 6875. Time Run in seconds: 11146.572"
       ]
      },
      {
       "output_type": "stream",
       "stream": "stdout",
       "text": [
        "\n",
        "Now on Number 6900. Time Run in seconds: 11182.9159999"
       ]
      },
      {
       "output_type": "stream",
       "stream": "stdout",
       "text": [
        "\n",
        "Now on Number 6925. Time Run in seconds: 11218.691"
       ]
      },
      {
       "output_type": "stream",
       "stream": "stdout",
       "text": [
        "\n",
        "Now on Number 6950. Time Run in seconds: 11258.2739999"
       ]
      },
      {
       "output_type": "stream",
       "stream": "stdout",
       "text": [
        "\n",
        "Now on Number 6975. Time Run in seconds: 11295.8869998"
       ]
      },
      {
       "output_type": "stream",
       "stream": "stdout",
       "text": [
        "\n",
        "Now on Number 7000. Time Run in seconds: 11329.516"
       ]
      },
      {
       "output_type": "stream",
       "stream": "stdout",
       "text": [
        "\n",
        "Now on Number 7025. Time Run in seconds: 11369.1529999"
       ]
      },
      {
       "output_type": "stream",
       "stream": "stdout",
       "text": [
        "\n",
        "Now on Number 7050. Time Run in seconds: 11403.378"
       ]
      },
      {
       "output_type": "stream",
       "stream": "stdout",
       "text": [
        "\n",
        "Now on Number 7075. Time Run in seconds: 11435.773"
       ]
      },
      {
       "output_type": "stream",
       "stream": "stdout",
       "text": [
        "\n",
        "Now on Number 7100. Time Run in seconds: 11468.382"
       ]
      },
      {
       "output_type": "stream",
       "stream": "stdout",
       "text": [
        "\n",
        "Now on Number 7125. Time Run in seconds: 11501.868"
       ]
      },
      {
       "output_type": "stream",
       "stream": "stdout",
       "text": [
        "\n",
        "Now on Number 7150. Time Run in seconds: 11539.6359999"
       ]
      },
      {
       "output_type": "stream",
       "stream": "stdout",
       "text": [
        "\n",
        "Now on Number 7175. Time Run in seconds: 11572.01"
       ]
      },
      {
       "output_type": "stream",
       "stream": "stdout",
       "text": [
        "\n",
        "Now on Number 7200. Time Run in seconds: 11607.7289999"
       ]
      },
      {
       "output_type": "stream",
       "stream": "stdout",
       "text": [
        "\n",
        "Now on Number 7225. Time Run in seconds: 11645.7409999"
       ]
      },
      {
       "output_type": "stream",
       "stream": "stdout",
       "text": [
        "\n",
        "Now on Number 7250. Time Run in seconds: 11681.881"
       ]
      },
      {
       "output_type": "stream",
       "stream": "stdout",
       "text": [
        "\n",
        "Now on Number 7275. Time Run in seconds: 11719.0809999"
       ]
      },
      {
       "output_type": "stream",
       "stream": "stdout",
       "text": [
        "\n",
        "Now on Number 7300. Time Run in seconds: 11758.9629998"
       ]
      },
      {
       "output_type": "stream",
       "stream": "stdout",
       "text": [
        "\n",
        "Now on Number 7325. Time Run in seconds: 11796.3669999"
       ]
      },
      {
       "output_type": "stream",
       "stream": "stdout",
       "text": [
        "\n",
        "Now on Number 7350. Time Run in seconds: 11835.247"
       ]
      },
      {
       "output_type": "stream",
       "stream": "stdout",
       "text": [
        "\n",
        "Now on Number 7375. Time Run in seconds: 11878.7639999"
       ]
      },
      {
       "output_type": "stream",
       "stream": "stdout",
       "text": [
        "\n",
        "Now on Number 7400. Time Run in seconds: 11911.8629999"
       ]
      },
      {
       "output_type": "stream",
       "stream": "stdout",
       "text": [
        "\n",
        "Now on Number 7425. Time Run in seconds: 11943.967"
       ]
      },
      {
       "output_type": "stream",
       "stream": "stdout",
       "text": [
        "\n",
        "Now on Number 7450. Time Run in seconds: 11983.608"
       ]
      },
      {
       "output_type": "stream",
       "stream": "stdout",
       "text": [
        "\n",
        "Now on Number 7475. Time Run in seconds: 12017.773"
       ]
      },
      {
       "output_type": "stream",
       "stream": "stdout",
       "text": [
        "\n",
        "Now on Number 7500. Time Run in seconds: 12056.632"
       ]
      },
      {
       "output_type": "stream",
       "stream": "stdout",
       "text": [
        "\n",
        "Now on Number 7525. Time Run in seconds: 12090.5879998"
       ]
      },
      {
       "output_type": "stream",
       "stream": "stdout",
       "text": [
        "\n",
        "Now on Number 7550. Time Run in seconds: 12131.638"
       ]
      },
      {
       "output_type": "stream",
       "stream": "stdout",
       "text": [
        "\n",
        "Now on Number 7575. Time Run in seconds: 12170.3639998"
       ]
      },
      {
       "output_type": "stream",
       "stream": "stdout",
       "text": [
        "\n",
        "Now on Number 7600. Time Run in seconds: 12209.4519999"
       ]
      },
      {
       "output_type": "stream",
       "stream": "stdout",
       "text": [
        "\n",
        "Now on Number 7625. Time Run in seconds: 12244.7489998"
       ]
      },
      {
       "output_type": "stream",
       "stream": "stdout",
       "text": [
        "\n",
        "Now on Number 7650. Time Run in seconds: 12281.3509998"
       ]
      },
      {
       "output_type": "stream",
       "stream": "stdout",
       "text": [
        "\n",
        "Now on Number 7675. Time Run in seconds: 12320.388"
       ]
      },
      {
       "output_type": "stream",
       "stream": "stdout",
       "text": [
        "\n",
        "Now on Number 7700. Time Run in seconds: 12361.0209999"
       ]
      },
      {
       "output_type": "stream",
       "stream": "stdout",
       "text": [
        "\n",
        "Now on Number 7725. Time Run in seconds: 12398.2749999"
       ]
      },
      {
       "output_type": "stream",
       "stream": "stdout",
       "text": [
        "\n",
        "Now on Number 7750. Time Run in seconds: 12437.562"
       ]
      },
      {
       "output_type": "stream",
       "stream": "stdout",
       "text": [
        "\n",
        "Now on Number 7775. Time Run in seconds: 12473.9399998"
       ]
      },
      {
       "output_type": "stream",
       "stream": "stdout",
       "text": [
        "\n",
        "Now on Number 7800. Time Run in seconds: 12509.569"
       ]
      },
      {
       "output_type": "stream",
       "stream": "stdout",
       "text": [
        "\n",
        "Now on Number 7825. Time Run in seconds: 12552.941"
       ]
      },
      {
       "output_type": "stream",
       "stream": "stdout",
       "text": [
        "\n",
        "Now on Number 7850. Time Run in seconds: 12603.4429998"
       ]
      },
      {
       "output_type": "stream",
       "stream": "stdout",
       "text": [
        "\n",
        "Now on Number 7875. Time Run in seconds: 12642.2909999"
       ]
      },
      {
       "output_type": "stream",
       "stream": "stdout",
       "text": [
        "\n",
        "Now on Number 7900. Time Run in seconds: 12679.5749998"
       ]
      },
      {
       "output_type": "stream",
       "stream": "stdout",
       "text": [
        "\n",
        "Now on Number 7925. Time Run in seconds: 12721.5039999"
       ]
      },
      {
       "output_type": "stream",
       "stream": "stdout",
       "text": [
        "\n",
        "Now on Number 7950. Time Run in seconds: 12759.069"
       ]
      },
      {
       "output_type": "stream",
       "stream": "stdout",
       "text": [
        "\n",
        "Now on Number 7975. Time Run in seconds: 12796.6759999"
       ]
      },
      {
       "output_type": "stream",
       "stream": "stdout",
       "text": [
        "\n",
        "Now on Number 8000. Time Run in seconds: 12835.224"
       ]
      },
      {
       "output_type": "stream",
       "stream": "stdout",
       "text": [
        "\n",
        "Now on Number 8025. Time Run in seconds: 12871.3039999"
       ]
      },
      {
       "output_type": "stream",
       "stream": "stdout",
       "text": [
        "\n",
        "Now on Number 8050. Time Run in seconds: 12910.9809999"
       ]
      },
      {
       "output_type": "stream",
       "stream": "stdout",
       "text": [
        "\n",
        "Now on Number 8075. Time Run in seconds: 12949.1949999"
       ]
      },
      {
       "output_type": "stream",
       "stream": "stdout",
       "text": [
        "\n",
        "Now on Number 8100. Time Run in seconds: 12986.842"
       ]
      },
      {
       "output_type": "stream",
       "stream": "stdout",
       "text": [
        "\n",
        "Now on Number 8125. Time Run in seconds: 13026.142"
       ]
      },
      {
       "output_type": "stream",
       "stream": "stdout",
       "text": [
        "\n",
        "Now on Number 8150. Time Run in seconds: 13068.5319998"
       ]
      },
      {
       "output_type": "stream",
       "stream": "stdout",
       "text": [
        "\n",
        "Now on Number 8175. Time Run in seconds: 13107.2709999"
       ]
      },
      {
       "output_type": "stream",
       "stream": "stdout",
       "text": [
        "\n",
        "Now on Number 8200. Time Run in seconds: 13147.631"
       ]
      },
      {
       "output_type": "stream",
       "stream": "stdout",
       "text": [
        "\n",
        "Now on Number 8225. Time Run in seconds: 13188.408"
       ]
      },
      {
       "output_type": "stream",
       "stream": "stdout",
       "text": [
        "\n",
        "Now on Number 8250. Time Run in seconds: 13229.0439999"
       ]
      },
      {
       "output_type": "stream",
       "stream": "stdout",
       "text": [
        "\n",
        "Now on Number 8275. Time Run in seconds: 13284.631"
       ]
      },
      {
       "output_type": "stream",
       "stream": "stdout",
       "text": [
        "\n",
        "Now on Number 8300. Time Run in seconds: 13324.2479999"
       ]
      },
      {
       "output_type": "stream",
       "stream": "stdout",
       "text": [
        "\n",
        "Now on Number 8325. Time Run in seconds: 13372.846"
       ]
      },
      {
       "output_type": "stream",
       "stream": "stdout",
       "text": [
        "\n",
        "Now on Number 8350. Time Run in seconds: 13412.1389999"
       ]
      },
      {
       "output_type": "stream",
       "stream": "stdout",
       "text": [
        "\n",
        "Now on Number 8375. Time Run in seconds: 13453.3479998"
       ]
      },
      {
       "output_type": "stream",
       "stream": "stdout",
       "text": [
        "\n",
        "Now on Number 8400. Time Run in seconds: 13495.299"
       ]
      },
      {
       "output_type": "stream",
       "stream": "stdout",
       "text": [
        "\n",
        "Now on Number 8425. Time Run in seconds: 13530.2649999"
       ]
      },
      {
       "output_type": "stream",
       "stream": "stdout",
       "text": [
        "\n",
        "Now on Number 8450. Time Run in seconds: 13566.885"
       ]
      },
      {
       "output_type": "stream",
       "stream": "stdout",
       "text": [
        "\n",
        "Now on Number 8475. Time Run in seconds: 13605.799"
       ]
      },
      {
       "output_type": "stream",
       "stream": "stdout",
       "text": [
        "\n",
        "Now on Number 8500. Time Run in seconds: 13642.2609999"
       ]
      },
      {
       "output_type": "stream",
       "stream": "stdout",
       "text": [
        "\n",
        "Now on Number 8525. Time Run in seconds: 13679.9949999"
       ]
      },
      {
       "output_type": "stream",
       "stream": "stdout",
       "text": [
        "\n",
        "Now on Number 8550. Time Run in seconds: 13712.234"
       ]
      },
      {
       "output_type": "stream",
       "stream": "stdout",
       "text": [
        "\n",
        "Now on Number 8575. Time Run in seconds: 13756.78"
       ]
      },
      {
       "output_type": "stream",
       "stream": "stdout",
       "text": [
        "\n",
        "Now on Number 8600. Time Run in seconds: 13797.8099999"
       ]
      },
      {
       "output_type": "stream",
       "stream": "stdout",
       "text": [
        "\n",
        "Now on Number 8625. Time Run in seconds: 13836.273"
       ]
      },
      {
       "output_type": "stream",
       "stream": "stdout",
       "text": [
        "\n",
        "Now on Number 8650. Time Run in seconds: 13874.6789999"
       ]
      },
      {
       "output_type": "stream",
       "stream": "stdout",
       "text": [
        "\n",
        "Now on Number 8675. Time Run in seconds: 13911.378"
       ]
      },
      {
       "output_type": "stream",
       "stream": "stdout",
       "text": [
        "\n",
        "Now on Number 8700. Time Run in seconds: 13947.957"
       ]
      },
      {
       "output_type": "stream",
       "stream": "stdout",
       "text": [
        "\n",
        "Now on Number 8725. Time Run in seconds: 13984.773"
       ]
      },
      {
       "output_type": "stream",
       "stream": "stdout",
       "text": [
        "\n",
        "Now on Number 8750. Time Run in seconds: 14021.628"
       ]
      },
      {
       "output_type": "stream",
       "stream": "stdout",
       "text": [
        "\n",
        "Now on Number 8775. Time Run in seconds: 14056.066"
       ]
      },
      {
       "output_type": "stream",
       "stream": "stdout",
       "text": [
        "\n",
        "Now on Number 8800. Time Run in seconds: 14098.8279998"
       ]
      },
      {
       "output_type": "stream",
       "stream": "stdout",
       "text": [
        "\n",
        "Now on Number 8825. Time Run in seconds: 14141.7479999"
       ]
      },
      {
       "output_type": "stream",
       "stream": "stdout",
       "text": [
        "\n",
        "Now on Number 8850. Time Run in seconds: 14176.9319999"
       ]
      },
      {
       "output_type": "stream",
       "stream": "stdout",
       "text": [
        "\n",
        "Seconds to Complete: 14182.582"
       ]
      },
      {
       "output_type": "stream",
       "stream": "stdout",
       "text": [
        "\n"
       ]
      }
     ],
     "prompt_number": 30
    },
    {
     "cell_type": "code",
     "collapsed": false,
     "input": [],
     "language": "python",
     "metadata": {},
     "outputs": []
    }
   ],
   "metadata": {}
  }
 ]
}