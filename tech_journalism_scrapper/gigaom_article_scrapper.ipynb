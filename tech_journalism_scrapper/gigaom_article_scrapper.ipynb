{
 "metadata": {
  "name": ""
 },
 "nbformat": 3,
 "nbformat_minor": 0,
 "worksheets": [
  {
   "cells": [
    {
     "cell_type": "code",
     "collapsed": false,
     "input": [
      "from bs4 import BeautifulSoup\n",
      "import urllib2\n",
      "import sqlite3\n",
      "import pickle\n",
      "import time\n",
      "import re\n",
      "import os"
     ],
     "language": "python",
     "metadata": {},
     "outputs": [],
     "prompt_number": 1
    },
    {
     "cell_type": "code",
     "collapsed": false,
     "input": [
      "coors_path = os.path.abspath(os.path.join(os.path.curdir, \"..\", \"inc_5000_cities\"))\n",
      "with open(coors_path + \"\\\\city_state_coors.pickle\", \"rb\") as f:\n",
      "    coors = pickle.load(f)\n",
      "with open(\"city_state_lookup.pickle\", \"rb\") as f:\n",
      "    lookup = pickle.load(f)"
     ],
     "language": "python",
     "metadata": {},
     "outputs": [],
     "prompt_number": 2
    },
    {
     "cell_type": "code",
     "collapsed": false,
     "input": [
      "conn = sqlite3.connect(\"TechScrapper.db\")\n",
      "c = conn.cursor()\n",
      "c.execute(\"SELECT * FROM Articles\")"
     ],
     "language": "python",
     "metadata": {},
     "outputs": [
      {
       "metadata": {},
       "output_type": "pyout",
       "prompt_number": 3,
       "text": [
        "<sqlite3.Cursor at 0x256a960>"
       ]
      }
     ],
     "prompt_number": 3
    },
    {
     "cell_type": "code",
     "collapsed": false,
     "input": [
      "def search_locations(url):    \n",
      "    response = urllib2.urlopen(url)\n",
      "    html = response.read()\n",
      "    response.close()\n",
      "    \n",
      "    soup = BeautifulSoup(html)\n",
      "    div = soup.find('div', id=lambda x: x and x.startswith('post-content-'))\n",
      "    content = div.get_text()\n",
      "    content = content.encode(\"ascii\", \"ignore\")\n",
      "    content = re.sub(\"\\n\", \"\", content)\n",
      "    content = re.sub(\"\\t\", \"\", content)\n",
      "    \n",
      "    cs_found = []\n",
      "    for key in lookup.iterkeys():\n",
      "        city_search = content.find(key)\n",
      "        if city_search >= 0:\n",
      "            cs_found.append(lookup[key])\n",
      "    return cs_found"
     ],
     "language": "python",
     "metadata": {},
     "outputs": [],
     "prompt_number": 4
    },
    {
     "cell_type": "code",
     "collapsed": false,
     "input": [
      "def add_locations(cs_found, url_id):\n",
      "    if len(cs_found) > 0:\n",
      "        for cs_i in cs_found:\n",
      "            v = coors[cs_i]\n",
      "            lat = v['lat']\n",
      "            lon = v['lon']\n",
      "            city = v['city']\n",
      "            state = v['state']\n",
      "            city_state = v['city_state']\n",
      "            c_2 = conn.cursor()\n",
      "            c_2.execute(\"INSERT INTO LocationCounts VALUES(?,?,?,?,?,?,?)\", (None, url_id, lat, lon, city, state, city_state))\n",
      "            conn.commit()      "
     ],
     "language": "python",
     "metadata": {},
     "outputs": [],
     "prompt_number": 5
    },
    {
     "cell_type": "code",
     "collapsed": false,
     "input": [
      "start = time.time()\n",
      "\n",
      "for n, row in enumerate(c.fetchall()):\n",
      "    if n%25 == 0:\n",
      "        print \"Now on Number \" + str(n) + \". Time Run in seconds: \" + str(time.time() - start)\n",
      "    url_id = row[0]\n",
      "    url = row[1]\n",
      "    cs_found = search_locations(url)\n",
      "    add_locations(cs_found, url_id)\n",
      "    time.sleep(.2)\n",
      "stop = time.time()\n",
      "print \"Seconds: \" + str(stop - start)"
     ],
     "language": "python",
     "metadata": {},
     "outputs": [
      {
       "output_type": "stream",
       "stream": "stdout",
       "text": [
        "Now on Number 0. Time Run in seconds: 0.00500011444092\n",
        "Now on Number 25. Time Run in seconds: 23.2980000973"
       ]
      },
      {
       "output_type": "stream",
       "stream": "stdout",
       "text": [
        "\n",
        "Now on Number 50. Time Run in seconds: 44.3259999752"
       ]
      },
      {
       "output_type": "stream",
       "stream": "stdout",
       "text": [
        "\n",
        "Now on Number 75. Time Run in seconds: 73.7130000591"
       ]
      },
      {
       "output_type": "stream",
       "stream": "stdout",
       "text": [
        "\n",
        "Now on Number 100. Time Run in seconds: 102.915999889"
       ]
      },
      {
       "output_type": "stream",
       "stream": "stdout",
       "text": [
        "\n",
        "Now on Number 125. Time Run in seconds: 134.184000015"
       ]
      },
      {
       "output_type": "stream",
       "stream": "stdout",
       "text": [
        "\n",
        "Now on Number 150. Time Run in seconds: 163.836999893"
       ]
      },
      {
       "output_type": "stream",
       "stream": "stdout",
       "text": [
        "\n",
        "Now on Number 175. Time Run in seconds: 196.809000015"
       ]
      },
      {
       "output_type": "stream",
       "stream": "stdout",
       "text": [
        "\n",
        "Now on Number 200. Time Run in seconds: 231.280999899"
       ]
      },
      {
       "output_type": "stream",
       "stream": "stdout",
       "text": [
        "\n",
        "Now on Number 225. Time Run in seconds: 263.934000015"
       ]
      },
      {
       "output_type": "stream",
       "stream": "stdout",
       "text": [
        "\n",
        "Now on Number 250. Time Run in seconds: 299.40899992"
       ]
      },
      {
       "output_type": "stream",
       "stream": "stdout",
       "text": [
        "\n",
        "Now on Number 275. Time Run in seconds: 333.832000017"
       ]
      },
      {
       "output_type": "stream",
       "stream": "stdout",
       "text": [
        "\n",
        "Now on Number 300. Time Run in seconds: 367.954999924"
       ]
      },
      {
       "output_type": "stream",
       "stream": "stdout",
       "text": [
        "\n",
        "Now on Number 325. Time Run in seconds: 408.28399992"
       ]
      },
      {
       "output_type": "stream",
       "stream": "stdout",
       "text": [
        "\n",
        "Now on Number 350. Time Run in seconds: 441.969000101"
       ]
      },
      {
       "output_type": "stream",
       "stream": "stdout",
       "text": [
        "\n",
        "Now on Number 375. Time Run in seconds: 476.775000095"
       ]
      },
      {
       "output_type": "stream",
       "stream": "stdout",
       "text": [
        "\n",
        "Now on Number 400. Time Run in seconds: 515.673000097"
       ]
      },
      {
       "output_type": "stream",
       "stream": "stdout",
       "text": [
        "\n",
        "Now on Number 425. Time Run in seconds: 551.203999996"
       ]
      },
      {
       "output_type": "stream",
       "stream": "stdout",
       "text": [
        "\n",
        "Now on Number 450. Time Run in seconds: 585.496000051"
       ]
      },
      {
       "output_type": "stream",
       "stream": "stdout",
       "text": [
        "\n",
        "Now on Number 475. Time Run in seconds: 623.424999952"
       ]
      },
      {
       "output_type": "stream",
       "stream": "stdout",
       "text": [
        "\n",
        "Now on Number 500. Time Run in seconds: 661.746999979"
       ]
      },
      {
       "output_type": "stream",
       "stream": "stdout",
       "text": [
        "\n",
        "Now on Number 525. Time Run in seconds: 699.55099988"
       ]
      },
      {
       "output_type": "stream",
       "stream": "stdout",
       "text": [
        "\n",
        "Now on Number 550. Time Run in seconds: 736.599999905"
       ]
      },
      {
       "output_type": "stream",
       "stream": "stdout",
       "text": [
        "\n",
        "Now on Number 575. Time Run in seconds: 777.471999884"
       ]
      },
      {
       "output_type": "stream",
       "stream": "stdout",
       "text": [
        "\n",
        "Now on Number 600. Time Run in seconds: 816.184999943"
       ]
      },
      {
       "output_type": "stream",
       "stream": "stdout",
       "text": [
        "\n",
        "Now on Number 625. Time Run in seconds: 855.270999908"
       ]
      },
      {
       "output_type": "stream",
       "stream": "stdout",
       "text": [
        "\n",
        "Now on Number 650. Time Run in seconds: 893.618999958"
       ]
      },
      {
       "output_type": "stream",
       "stream": "stdout",
       "text": [
        "\n",
        "Now on Number 675. Time Run in seconds: 935.703999996"
       ]
      },
      {
       "output_type": "stream",
       "stream": "stdout",
       "text": [
        "\n",
        "Now on Number 700. Time Run in seconds: 979.017999887"
       ]
      },
      {
       "output_type": "stream",
       "stream": "stdout",
       "text": [
        "\n",
        "Now on Number 725. Time Run in seconds: 1019.65299988"
       ]
      },
      {
       "output_type": "stream",
       "stream": "stdout",
       "text": [
        "\n",
        "Seconds: 1048.50600004"
       ]
      },
      {
       "output_type": "stream",
       "stream": "stdout",
       "text": [
        "\n"
       ]
      }
     ],
     "prompt_number": 6
    },
    {
     "cell_type": "code",
     "collapsed": false,
     "input": [
      "conn.close()"
     ],
     "language": "python",
     "metadata": {},
     "outputs": [],
     "prompt_number": 7
    },
    {
     "cell_type": "code",
     "collapsed": false,
     "input": [],
     "language": "python",
     "metadata": {},
     "outputs": []
    }
   ],
   "metadata": {}
  }
 ]
}