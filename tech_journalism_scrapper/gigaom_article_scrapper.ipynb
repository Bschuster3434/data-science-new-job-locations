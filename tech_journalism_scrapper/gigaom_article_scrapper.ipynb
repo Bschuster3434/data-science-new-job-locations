{
 "metadata": {
  "name": ""
 },
 "nbformat": 3,
 "nbformat_minor": 0,
 "worksheets": [
  {
   "cells": [
    {
     "cell_type": "code",
     "collapsed": false,
     "input": [
      "import pandas as pd\n",
      "import numpy as np\n",
      "from pandas import DataFrame, Series\n",
      "from bs4 import BeautifulSoup\n",
      "import urllib2\n",
      "import datetime\n",
      "import sqlite3\n",
      "import pickle\n",
      "import time\n",
      "import re\n",
      "import os"
     ],
     "language": "python",
     "metadata": {},
     "outputs": [],
     "prompt_number": 15
    },
    {
     "cell_type": "code",
     "collapsed": false,
     "input": [
      "conn = sqlite3.connect(\"TechScrapper.db\")"
     ],
     "language": "python",
     "metadata": {},
     "outputs": [],
     "prompt_number": 2
    },
    {
     "cell_type": "code",
     "collapsed": false,
     "input": [
      "c = conn.cursor()\n",
      "c = conn.execute(\"SELECT * FROM Articles LIMIT 1\")\n",
      "record = c.fetchone()\n",
      "url = record[1]"
     ],
     "language": "python",
     "metadata": {},
     "outputs": [],
     "prompt_number": 3
    },
    {
     "cell_type": "code",
     "collapsed": false,
     "input": [
      "response = urllib2.urlopen(url)\n",
      "html = response.read()\n",
      "response.close()"
     ],
     "language": "python",
     "metadata": {},
     "outputs": [],
     "prompt_number": 4
    },
    {
     "cell_type": "code",
     "collapsed": false,
     "input": [
      "soup = BeautifulSoup(html)"
     ],
     "language": "python",
     "metadata": {},
     "outputs": [],
     "prompt_number": 5
    },
    {
     "cell_type": "code",
     "collapsed": false,
     "input": [
      "post = soup.find('div', id = lambda x: x and x.startswith(\"post-content-\")) "
     ],
     "language": "python",
     "metadata": {},
     "outputs": [],
     "prompt_number": 6
    },
    {
     "cell_type": "code",
     "collapsed": false,
     "input": [
      "contents = post.get_text()\n",
      "contents = contents.encode(\"ascii\", \"ignore\")\n",
      "contents = re.sub(\"\\n\", ' ', contents)\n",
      "contents = re.sub(\"\\t\", ' ', contents)"
     ],
     "language": "python",
     "metadata": {},
     "outputs": [],
     "prompt_number": 8
    },
    {
     "cell_type": "code",
     "collapsed": false,
     "input": [
      "coors_path = os.path.abspath(os.path.join(os.path.curdir, \"..\", \"inc_5000_cities\"))"
     ],
     "language": "python",
     "metadata": {},
     "outputs": [],
     "prompt_number": 13
    },
    {
     "cell_type": "code",
     "collapsed": false,
     "input": [
      "with open(coors_path + \"\\\\city_state_coors.pickle\", \"rb\") as f:\n",
      "    coors = pickle.load(f)"
     ],
     "language": "python",
     "metadata": {},
     "outputs": [],
     "prompt_number": 16
    },
    {
     "cell_type": "code",
     "collapsed": false,
     "input": [
      "with open(\"city_state_lookup.pickle\", \"rb\") as f:\n",
      "    lookup = pickle.load(f)"
     ],
     "language": "python",
     "metadata": {},
     "outputs": [],
     "prompt_number": 19
    },
    {
     "cell_type": "code",
     "collapsed": false,
     "input": [
      "start = time.time()\n",
      "cs_found = []\n",
      "for n, key in enumerate(lookup.iterkeys()):\n",
      "    if n%100 == 0:\n",
      "        print \"Examining \" + str(n) + \" out of \" + str(len(lookup))\n",
      "        print \"Seconds Since Start: \" + str( time.time() - start)\n",
      "    city_search = contents.find(key)\n",
      "    if city_search >= 0:\n",
      "        cs_found.append(key)    \n",
      "    \n",
      "total_run_time = time.time() - start\n",
      "print \"Total Run Time: \" + str(total_run_time)"
     ],
     "language": "python",
     "metadata": {},
     "outputs": [
      {
       "output_type": "stream",
       "stream": "stdout",
       "text": [
        "Examining 0 out of 6268\n",
        "Seconds Since Start: 0.0\n",
        "Examining 100 out of 6268\n",
        "Seconds Since Start: 0.000999927520752\n",
        "Examining 200 out of 6268\n",
        "Seconds Since Start: 0.000999927520752\n",
        "Examining 300 out of 6268\n",
        "Seconds Since Start: 0.00200009346008\n",
        "Examining 400 out of 6268\n",
        "Seconds Since Start: 0.00300002098083\n",
        "Examining 500 out of 6268\n",
        "Seconds Since Start: 0.00300002098083\n",
        "Examining 600 out of 6268\n",
        "Seconds Since Start: 0.00399994850159\n",
        "Examining 700 out of 6268\n",
        "Seconds Since Start: 0.00500011444092\n",
        "Examining 800 out of 6268\n",
        "Seconds Since Start: 0.00500011444092\n",
        "Examining 900 out of 6268\n",
        "Seconds Since Start: 0.00699996948242\n",
        "Examining 1000 out of 6268\n",
        "Seconds Since Start: 0.00800013542175\n",
        "Examining 1100 out of 6268\n",
        "Seconds Since Start: 0.00800013542175\n",
        "Examining 1200 out of 6268\n",
        "Seconds Since Start: 0.0090000629425\n",
        "Examining 1300 out of 6268\n",
        "Seconds Since Start: 0.00999999046326\n",
        "Examining 1400 out of 6268\n",
        "Seconds Since Start: 0.010999917984\n",
        "Examining 1500 out of 6268\n",
        "Seconds Since Start: 0.010999917984\n",
        "Examining 1600 out of 6268\n",
        "Seconds Since Start: 0.0120000839233\n",
        "Examining 1700 out of 6268\n",
        "Seconds Since Start: 0.0120000839233\n",
        "Examining 1800 out of 6268\n",
        "Seconds Since Start: 0.0130000114441\n",
        "Examining 1900 out of 6268\n",
        "Seconds Since Start: 0.0139999389648\n",
        "Examining 2000 out of 6268\n",
        "Seconds Since Start: 0.0139999389648\n",
        "Examining 2100 out of 6268\n",
        "Seconds Since Start: 0.0150001049042\n",
        "Examining 2200 out of 6268\n",
        "Seconds Since Start: 0.0160000324249\n",
        "Examining 2300 out of 6268\n",
        "Seconds Since Start: 0.0169999599457\n",
        "Examining 2400 out of 6268\n",
        "Seconds Since Start: 0.0169999599457\n",
        "Examining 2500 out of 6268\n",
        "Seconds Since Start: 0.018000125885\n",
        "Examining 2600 out of 6268\n",
        "Seconds Since Start: 0.0190000534058\n",
        "Examining 2700 out of 6268\n",
        "Seconds Since Start: 0.0190000534058\n",
        "Examining 2800 out of 6268\n",
        "Seconds Since Start: 0.0199999809265\n",
        "Examining 2900 out of 6268\n",
        "Seconds Since Start: 0.0209999084473\n",
        "Examining 3000 out of 6268\n",
        "Seconds Since Start: 0.0209999084473\n",
        "Examining 3100 out of 6268\n",
        "Seconds Since Start: 0.0220000743866\n",
        "Examining 3200 out of 6268\n",
        "Seconds Since Start: 0.0230000019073\n",
        "Examining 3300 out of 6268\n",
        "Seconds Since Start: 0.0230000019073\n",
        "Examining 3400 out of 6268\n",
        "Seconds Since Start: 0.0239999294281\n",
        "Examining 3500 out of 6268\n",
        "Seconds Since Start: 0.0239999294281\n",
        "Examining 3600 out of 6268\n",
        "Seconds Since Start: 0.0250000953674\n",
        "Examining 3700 out of 6268\n",
        "Seconds Since Start: 0.0260000228882\n",
        "Examining 3800 out of 6268\n",
        "Seconds Since Start: 0.0260000228882\n",
        "Examining 3900 out of 6268\n",
        "Seconds Since Start: 0.0269999504089\n",
        "Examining 4000 out of 6268\n",
        "Seconds Since Start: 0.0269999504089\n",
        "Examining 4100 out of 6268\n",
        "Seconds Since Start: 0.0280001163483\n",
        "Examining 4200 out of 6268\n",
        "Seconds Since Start: 0.029000043869\n",
        "Examining 4300 out of 6268\n",
        "Seconds Since Start: 0.029000043869\n",
        "Examining 4400 out of 6268\n",
        "Seconds Since Start: 0.0299999713898\n",
        "Examining 4500 out of 6268\n",
        "Seconds Since Start: 0.0310001373291\n",
        "Examining 4600 out of 6268\n",
        "Seconds Since Start: 0.0310001373291\n",
        "Examining 4700 out of 6268\n",
        "Seconds Since Start: 0.0320000648499\n",
        "Examining 4800 out of 6268\n",
        "Seconds Since Start: 0.0320000648499\n",
        "Examining 4900 out of 6268\n",
        "Seconds Since Start: 0.0329999923706\n",
        "Examining 5000 out of 6268\n",
        "Seconds Since Start: 0.0339999198914\n",
        "Examining 5100 out of 6268\n",
        "Seconds Since Start: 0.0339999198914\n",
        "Examining 5200 out of 6268\n",
        "Seconds Since Start: 0.0350000858307\n",
        "Examining 5300 out of 6268\n",
        "Seconds Since Start: 0.0350000858307\n",
        "Examining 5400 out of 6268\n",
        "Seconds Since Start: 0.0360000133514\n",
        "Examining 5500 out of 6268\n",
        "Seconds Since Start: 0.0360000133514\n",
        "Examining 5600 out of 6268\n",
        "Seconds Since Start: 0.0369999408722\n",
        "Examining 5700 out of 6268\n",
        "Seconds Since Start: 0.0380001068115\n",
        "Examining 5800 out of 6268\n",
        "Seconds Since Start: 0.0380001068115\n",
        "Examining 5900 out of 6268\n",
        "Seconds Since Start: 0.0390000343323\n",
        "Examining 6000 out of 6268\n",
        "Seconds Since Start: 0.0390000343323\n",
        "Examining 6100 out of 6268\n",
        "Seconds Since Start: 0.039999961853\n",
        "Examining 6200 out of 6268\n",
        "Seconds Since Start: 0.0410001277924\n",
        "Total Run Time: 0.0410001277924\n"
       ]
      }
     ],
     "prompt_number": 30
    },
    {
     "cell_type": "code",
     "collapsed": false,
     "input": [
      "cs_found"
     ],
     "language": "python",
     "metadata": {},
     "outputs": [
      {
       "metadata": {},
       "output_type": "pyout",
       "prompt_number": 32,
       "text": [
        "['Washington, DC']"
       ]
      }
     ],
     "prompt_number": 32
    },
    {
     "cell_type": "code",
     "collapsed": false,
     "input": [],
     "language": "python",
     "metadata": {},
     "outputs": []
    }
   ],
   "metadata": {}
  }
 ]
}