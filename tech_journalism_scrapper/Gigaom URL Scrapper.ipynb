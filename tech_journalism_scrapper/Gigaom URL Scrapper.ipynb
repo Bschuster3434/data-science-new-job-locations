{
 "metadata": {
  "name": ""
 },
 "nbformat": 3,
 "nbformat_minor": 0,
 "worksheets": [
  {
   "cells": [
    {
     "cell_type": "code",
     "collapsed": false,
     "input": [
      "import pandas as pd\n",
      "import numpy as np\n",
      "from pandas import DataFrame, Series\n",
      "from bs4 import BeautifulSoup\n",
      "import urllib2\n",
      "import datetime\n",
      "from dateutil.relativedelta import relativedelta\n",
      "import sqlite3\n",
      "import time"
     ],
     "language": "python",
     "metadata": {},
     "outputs": [],
     "prompt_number": 9
    },
    {
     "cell_type": "code",
     "collapsed": false,
     "input": [
      "def grab_gigaom_articles_list(html):\n",
      "    \"\"\"\n",
      "    Takes a full html block and returns the article blocks from gigaom.com.\n",
      "    Using BeautifulSoup to grab all articles\n",
      "    Giagom has articles in groups of divs\n",
      "    Two findAll's are necessary per page to grab the correct info\n",
      "    \"\"\"\n",
      "    articles = []\n",
      "    soup = BeautifulSoup(html)\n",
      "    art_divs = soup.findAll('div', id=lambda x: x and x.startswith('postloop-'))\n",
      "    articles = [ div.findAll('article', id = lambda x: x and x.startswith(\"post-\")) for div in art_divs]\n",
      "    ##articles has all articles in 2d-array. The below code flattens this into a 1d-array.\n",
      "    articles = [item for sublist in articles for item in sublist] \n",
      "    return articles"
     ],
     "language": "python",
     "metadata": {},
     "outputs": [],
     "prompt_number": 18
    },
    {
     "cell_type": "code",
     "collapsed": false,
     "input": [
      "def scrap_page(webpage, stop_date):\n",
      "    \"\"\"\n",
      "    Takes a Giagom Webpage and returns a list of the urls and published times.\n",
      "    Has functionality to include a Stop Date if we do not wish to scrap their entire site\n",
      "    \"\"\"\n",
      "    ##Opening the page and grabbing the html, as well as time stamping\n",
      "    try:\n",
      "        response = urllib2.urlopen(webpage)\n",
      "    except:\n",
      "        print \"Error Opening Page: \" + webpage\n",
      "    html = response.read()\n",
      "    time_collected = datetime.datetime.now() #Retrieved DateTime\n",
      "    response.close()\n",
      "\n",
      "    articles = grab_giagom_articles_list(html)\n",
      "\n",
      "    ##Searching article and grabbing basic elements necessary for scrapping\n",
      "    ##This section also has a logic statement looking for a stopping point\n",
      "    \n",
      "    scrapped_articles = []\n",
      "    continue_search = 1 #If 1, then continue. If 0, stop scrapper\n",
      "    for a in articles:\n",
      "        a_values = {}\n",
      "        published_datetime = a.find(\"time\", { \"class\" : \"time published\" })['title']\n",
      "        published_datetime = datetime.datetime.strptime(published_datetime, \"%Y/%m/%d %H:%M:%S %p\")\n",
      "        if published_datetime <= stop_date:\n",
      "            continue_search = 0\n",
      "            break\n",
      "        a_values[\"published_datetime\"] = published_datetime.strftime(\"%Y-%m-%d %H:%m:%S\")\n",
      "        a_values[\"article_link\"] = a.find(\"h1\", {\"class\" : \"entry-title\"}).find(\"a\")['href']\n",
      "        a_values[\"datetime_collected\"] = time_collected.strftime(\"%Y-%m-%d %H:%m:%S\")\n",
      "        scrapped_articles.append(a_values)\n",
      "    return scrapped_articles, continue_search"
     ],
     "language": "python",
     "metadata": {},
     "outputs": [],
     "prompt_number": 19
    },
    {
     "cell_type": "code",
     "collapsed": false,
     "input": [
      "##Grabbing the website and adding functionality to go through multiple pages\n",
      "website = \"https://gigaom.com\"\n",
      "page_end = \"/page/\"\n",
      "next_page_int = 1\n",
      "##Adding functionality to stop searching on or before a certain date\n",
      "\n",
      "stop_date = datetime.datetime.now()-relativedelta(years=+1)\n",
      "\n",
      "##Opening connection to db\n",
      "conn = sqlite3.connect(\"TechScrapper.db\")\n",
      "c = conn.cursor()\n",
      "\n",
      "#Loop to Search for Articles\n",
      "continue_search = 1\n",
      "next_page = website #Creating a new variable for searching pages\n",
      "while continue_search == 1 and next_page_int <= 500: #Forcing Termination after a certain number of pages\n",
      "    scrapped_articles, continue_search = scrap_page(next_page, stop_date)\n",
      "    for article in scrapped_articles:\n",
      "        a_url = article[\"article_link\"]\n",
      "        if a_url.find(\"gigaom.com\") >= 0: #Must be a gigaom link\n",
      "            a_published = article[\"published_datetime\"]\n",
      "            a_retrieved = article[\"datetime_collected\"]\n",
      "            c.execute(\"INSERT INTO Articles VALUES(?,?,?,?,?)\", (None, a_url, a_published, website, a_retrieved))\n",
      "            conn.commit()\n",
      "    time.sleep(.2)\n",
      "    print \"Completed Page \" + str(next_page_int) +\". Latest Published DateTime \" + a_published + \".\"\n",
      "    next_page_int += 1\n",
      "    next_page = website + page_end + str(next_page_int)\n",
      "\n",
      "conn.close()"
     ],
     "language": "python",
     "metadata": {},
     "outputs": [
      {
       "output_type": "stream",
       "stream": "stdout",
       "text": [
        "\n",
        "Completed Page 46"
       ]
      },
      {
       "output_type": "stream",
       "stream": "stdout",
       "text": [
        "\n",
        "Completed Page 47"
       ]
      },
      {
       "output_type": "stream",
       "stream": "stdout",
       "text": [
        "\n",
        "Completed Page 48"
       ]
      },
      {
       "output_type": "stream",
       "stream": "stdout",
       "text": [
        "\n",
        "Completed Page 49"
       ]
      },
      {
       "output_type": "stream",
       "stream": "stdout",
       "text": [
        "\n",
        "Completed Page 50"
       ]
      },
      {
       "output_type": "stream",
       "stream": "stdout",
       "text": [
        "\n",
        "Completed Page 51"
       ]
      },
      {
       "output_type": "stream",
       "stream": "stdout",
       "text": [
        "\n",
        "Completed Page 52"
       ]
      },
      {
       "output_type": "stream",
       "stream": "stdout",
       "text": [
        "\n",
        "Completed Page 53"
       ]
      },
      {
       "output_type": "stream",
       "stream": "stdout",
       "text": [
        "\n",
        "Completed Page 54"
       ]
      },
      {
       "output_type": "stream",
       "stream": "stdout",
       "text": [
        "\n",
        "Completed Page 55"
       ]
      },
      {
       "output_type": "stream",
       "stream": "stdout",
       "text": [
        "\n",
        "Completed Page 56"
       ]
      },
      {
       "output_type": "stream",
       "stream": "stdout",
       "text": [
        "\n",
        "Completed Page 57"
       ]
      },
      {
       "output_type": "stream",
       "stream": "stdout",
       "text": [
        "\n",
        "Completed Page 58"
       ]
      },
      {
       "output_type": "stream",
       "stream": "stdout",
       "text": [
        "\n",
        "Completed Page 59"
       ]
      },
      {
       "output_type": "stream",
       "stream": "stdout",
       "text": [
        "\n",
        "Completed Page 60"
       ]
      },
      {
       "output_type": "stream",
       "stream": "stdout",
       "text": [
        "\n",
        "Completed Page 61"
       ]
      },
      {
       "output_type": "stream",
       "stream": "stdout",
       "text": [
        "\n",
        "Completed Page 62"
       ]
      },
      {
       "output_type": "stream",
       "stream": "stdout",
       "text": [
        "\n",
        "Completed Page 63"
       ]
      },
      {
       "output_type": "stream",
       "stream": "stdout",
       "text": [
        "\n",
        "Completed Page 64"
       ]
      },
      {
       "output_type": "stream",
       "stream": "stdout",
       "text": [
        "\n",
        "Completed Page 65"
       ]
      },
      {
       "output_type": "stream",
       "stream": "stdout",
       "text": [
        "\n",
        "Completed Page 66"
       ]
      },
      {
       "output_type": "stream",
       "stream": "stdout",
       "text": [
        "\n",
        "Completed Page 67"
       ]
      },
      {
       "output_type": "stream",
       "stream": "stdout",
       "text": [
        "\n",
        "Completed Page 68"
       ]
      },
      {
       "output_type": "stream",
       "stream": "stdout",
       "text": [
        "\n",
        "Completed Page 69"
       ]
      },
      {
       "output_type": "stream",
       "stream": "stdout",
       "text": [
        "\n",
        "Completed Page 70"
       ]
      },
      {
       "output_type": "stream",
       "stream": "stdout",
       "text": [
        "\n",
        "Completed Page 71"
       ]
      },
      {
       "output_type": "stream",
       "stream": "stdout",
       "text": [
        "\n",
        "Completed Page 72"
       ]
      },
      {
       "output_type": "stream",
       "stream": "stdout",
       "text": [
        "\n",
        "Completed Page 73"
       ]
      },
      {
       "output_type": "stream",
       "stream": "stdout",
       "text": [
        "\n",
        "Completed Page 74"
       ]
      },
      {
       "output_type": "stream",
       "stream": "stdout",
       "text": [
        "\n",
        "Completed Page 75"
       ]
      },
      {
       "output_type": "stream",
       "stream": "stdout",
       "text": [
        "\n",
        "Completed Page 76"
       ]
      },
      {
       "output_type": "stream",
       "stream": "stdout",
       "text": [
        "\n",
        "Completed Page 77"
       ]
      },
      {
       "output_type": "stream",
       "stream": "stdout",
       "text": [
        "\n",
        "Completed Page 78"
       ]
      },
      {
       "output_type": "stream",
       "stream": "stdout",
       "text": [
        "\n",
        "Completed Page 79"
       ]
      },
      {
       "output_type": "stream",
       "stream": "stdout",
       "text": [
        "\n",
        "Completed Page 80"
       ]
      },
      {
       "output_type": "stream",
       "stream": "stdout",
       "text": [
        "\n",
        "Completed Page 81"
       ]
      },
      {
       "output_type": "stream",
       "stream": "stdout",
       "text": [
        "\n",
        "Completed Page 82"
       ]
      },
      {
       "output_type": "stream",
       "stream": "stdout",
       "text": [
        "\n",
        "Completed Page 83"
       ]
      },
      {
       "output_type": "stream",
       "stream": "stdout",
       "text": [
        "\n",
        "Completed Page 84"
       ]
      },
      {
       "output_type": "stream",
       "stream": "stdout",
       "text": [
        "\n",
        "Completed Page 85"
       ]
      },
      {
       "output_type": "stream",
       "stream": "stdout",
       "text": [
        "\n",
        "Completed Page 86"
       ]
      },
      {
       "output_type": "stream",
       "stream": "stdout",
       "text": [
        "\n",
        "Completed Page 87"
       ]
      },
      {
       "output_type": "stream",
       "stream": "stdout",
       "text": [
        "\n",
        "Completed Page 88"
       ]
      },
      {
       "output_type": "stream",
       "stream": "stdout",
       "text": [
        "\n",
        "Completed Page 89"
       ]
      },
      {
       "output_type": "stream",
       "stream": "stdout",
       "text": [
        "\n",
        "Completed Page 90"
       ]
      },
      {
       "output_type": "stream",
       "stream": "stdout",
       "text": [
        "\n",
        "Completed Page 91"
       ]
      },
      {
       "output_type": "stream",
       "stream": "stdout",
       "text": [
        "\n",
        "Completed Page 92"
       ]
      },
      {
       "output_type": "stream",
       "stream": "stdout",
       "text": [
        "\n",
        "Completed Page 93"
       ]
      },
      {
       "output_type": "stream",
       "stream": "stdout",
       "text": [
        "\n",
        "Completed Page 94"
       ]
      },
      {
       "output_type": "stream",
       "stream": "stdout",
       "text": [
        "\n",
        "Completed Page 95"
       ]
      },
      {
       "output_type": "stream",
       "stream": "stdout",
       "text": [
        "\n",
        "Completed Page 96"
       ]
      },
      {
       "output_type": "stream",
       "stream": "stdout",
       "text": [
        "\n",
        "Completed Page 97"
       ]
      },
      {
       "output_type": "stream",
       "stream": "stdout",
       "text": [
        "\n",
        "Completed Page 98"
       ]
      },
      {
       "output_type": "stream",
       "stream": "stdout",
       "text": [
        "\n",
        "Completed Page 99"
       ]
      },
      {
       "output_type": "stream",
       "stream": "stdout",
       "text": [
        "\n",
        "Completed Page 100"
       ]
      },
      {
       "output_type": "stream",
       "stream": "stdout",
       "text": [
        "\n",
        "Completed Page 101"
       ]
      },
      {
       "output_type": "stream",
       "stream": "stdout",
       "text": [
        "\n",
        "Completed Page 102"
       ]
      },
      {
       "output_type": "stream",
       "stream": "stdout",
       "text": [
        "\n",
        "Completed Page 103"
       ]
      },
      {
       "output_type": "stream",
       "stream": "stdout",
       "text": [
        "\n",
        "Completed Page 104"
       ]
      },
      {
       "output_type": "stream",
       "stream": "stdout",
       "text": [
        "\n",
        "Completed Page 105"
       ]
      },
      {
       "output_type": "stream",
       "stream": "stdout",
       "text": [
        "\n",
        "Completed Page 106"
       ]
      },
      {
       "output_type": "stream",
       "stream": "stdout",
       "text": [
        "\n",
        "Completed Page 107"
       ]
      },
      {
       "output_type": "stream",
       "stream": "stdout",
       "text": [
        "\n",
        "Completed Page 108"
       ]
      },
      {
       "output_type": "stream",
       "stream": "stdout",
       "text": [
        "\n",
        "Completed Page 109"
       ]
      },
      {
       "output_type": "stream",
       "stream": "stdout",
       "text": [
        "\n",
        "Completed Page 110"
       ]
      },
      {
       "output_type": "stream",
       "stream": "stdout",
       "text": [
        "\n",
        "Completed Page 111"
       ]
      },
      {
       "output_type": "stream",
       "stream": "stdout",
       "text": [
        "\n",
        "Completed Page 112"
       ]
      },
      {
       "output_type": "stream",
       "stream": "stdout",
       "text": [
        "\n",
        "Completed Page 113"
       ]
      },
      {
       "output_type": "stream",
       "stream": "stdout",
       "text": [
        "\n",
        "Completed Page 114"
       ]
      },
      {
       "output_type": "stream",
       "stream": "stdout",
       "text": [
        "\n",
        "Completed Page 115"
       ]
      },
      {
       "output_type": "stream",
       "stream": "stdout",
       "text": [
        "\n",
        "Completed Page 116"
       ]
      },
      {
       "output_type": "stream",
       "stream": "stdout",
       "text": [
        "\n",
        "Completed Page 117"
       ]
      },
      {
       "output_type": "stream",
       "stream": "stdout",
       "text": [
        "\n",
        "Completed Page 118"
       ]
      },
      {
       "output_type": "stream",
       "stream": "stdout",
       "text": [
        "\n",
        "Completed Page 119"
       ]
      },
      {
       "output_type": "stream",
       "stream": "stdout",
       "text": [
        "\n",
        "Completed Page 120"
       ]
      },
      {
       "output_type": "stream",
       "stream": "stdout",
       "text": [
        "\n",
        "Completed Page 121"
       ]
      },
      {
       "output_type": "stream",
       "stream": "stdout",
       "text": [
        "\n",
        "Completed Page 122"
       ]
      },
      {
       "output_type": "stream",
       "stream": "stdout",
       "text": [
        "\n",
        "Completed Page 123"
       ]
      },
      {
       "output_type": "stream",
       "stream": "stdout",
       "text": [
        "\n",
        "Completed Page 124"
       ]
      },
      {
       "output_type": "stream",
       "stream": "stdout",
       "text": [
        "\n",
        "Completed Page 125"
       ]
      },
      {
       "output_type": "stream",
       "stream": "stdout",
       "text": [
        "\n",
        "Completed Page 126"
       ]
      },
      {
       "output_type": "stream",
       "stream": "stdout",
       "text": [
        "\n",
        "Completed Page 127"
       ]
      },
      {
       "output_type": "stream",
       "stream": "stdout",
       "text": [
        "\n",
        "Completed Page 128"
       ]
      },
      {
       "output_type": "stream",
       "stream": "stdout",
       "text": [
        "\n",
        "Completed Page 129"
       ]
      },
      {
       "output_type": "stream",
       "stream": "stdout",
       "text": [
        "\n",
        "Completed Page 130"
       ]
      },
      {
       "output_type": "stream",
       "stream": "stdout",
       "text": [
        "\n",
        "Completed Page 131"
       ]
      },
      {
       "output_type": "stream",
       "stream": "stdout",
       "text": [
        "\n",
        "Completed Page 132"
       ]
      },
      {
       "output_type": "stream",
       "stream": "stdout",
       "text": [
        "\n",
        "Completed Page 133"
       ]
      },
      {
       "output_type": "stream",
       "stream": "stdout",
       "text": [
        "\n",
        "Completed Page 134"
       ]
      },
      {
       "output_type": "stream",
       "stream": "stdout",
       "text": [
        "\n",
        "Completed Page 135"
       ]
      },
      {
       "output_type": "stream",
       "stream": "stdout",
       "text": [
        "\n",
        "Completed Page 136"
       ]
      },
      {
       "output_type": "stream",
       "stream": "stdout",
       "text": [
        "\n",
        "Completed Page 137"
       ]
      },
      {
       "output_type": "stream",
       "stream": "stdout",
       "text": [
        "\n",
        "Completed Page 138"
       ]
      },
      {
       "output_type": "stream",
       "stream": "stdout",
       "text": [
        "\n",
        "Completed Page 139"
       ]
      },
      {
       "output_type": "stream",
       "stream": "stdout",
       "text": [
        "\n",
        "Completed Page 140"
       ]
      },
      {
       "output_type": "stream",
       "stream": "stdout",
       "text": [
        "\n",
        "Completed Page 141"
       ]
      },
      {
       "output_type": "stream",
       "stream": "stdout",
       "text": [
        "\n",
        "Completed Page 142"
       ]
      },
      {
       "output_type": "stream",
       "stream": "stdout",
       "text": [
        "\n",
        "Completed Page 143"
       ]
      },
      {
       "output_type": "stream",
       "stream": "stdout",
       "text": [
        "\n",
        "Completed Page 144"
       ]
      },
      {
       "output_type": "stream",
       "stream": "stdout",
       "text": [
        "\n",
        "Completed Page 145"
       ]
      },
      {
       "output_type": "stream",
       "stream": "stdout",
       "text": [
        "\n",
        "Completed Page 146"
       ]
      },
      {
       "output_type": "stream",
       "stream": "stdout",
       "text": [
        "\n",
        "Completed Page 147"
       ]
      },
      {
       "output_type": "stream",
       "stream": "stdout",
       "text": [
        "\n",
        "Completed Page 148"
       ]
      },
      {
       "output_type": "stream",
       "stream": "stdout",
       "text": [
        "\n",
        "Completed Page 149"
       ]
      },
      {
       "output_type": "stream",
       "stream": "stdout",
       "text": [
        "\n",
        "Completed Page 150"
       ]
      },
      {
       "output_type": "stream",
       "stream": "stdout",
       "text": [
        "\n",
        "Completed Page 151"
       ]
      },
      {
       "output_type": "stream",
       "stream": "stdout",
       "text": [
        "\n",
        "Completed Page 152"
       ]
      },
      {
       "output_type": "stream",
       "stream": "stdout",
       "text": [
        "\n",
        "Completed Page 153"
       ]
      },
      {
       "output_type": "stream",
       "stream": "stdout",
       "text": [
        "\n",
        "Completed Page 154"
       ]
      },
      {
       "output_type": "stream",
       "stream": "stdout",
       "text": [
        "\n",
        "Completed Page 155"
       ]
      },
      {
       "output_type": "stream",
       "stream": "stdout",
       "text": [
        "\n",
        "Completed Page 156"
       ]
      },
      {
       "output_type": "stream",
       "stream": "stdout",
       "text": [
        "\n",
        "Completed Page 157"
       ]
      },
      {
       "output_type": "stream",
       "stream": "stdout",
       "text": [
        "\n",
        "Completed Page 158"
       ]
      },
      {
       "output_type": "stream",
       "stream": "stdout",
       "text": [
        "\n",
        "Completed Page 159"
       ]
      },
      {
       "output_type": "stream",
       "stream": "stdout",
       "text": [
        "\n",
        "Completed Page 160"
       ]
      },
      {
       "output_type": "stream",
       "stream": "stdout",
       "text": [
        "\n",
        "Completed Page 161"
       ]
      },
      {
       "output_type": "stream",
       "stream": "stdout",
       "text": [
        "\n",
        "Completed Page 162"
       ]
      },
      {
       "output_type": "stream",
       "stream": "stdout",
       "text": [
        "\n",
        "Completed Page 163"
       ]
      },
      {
       "output_type": "stream",
       "stream": "stdout",
       "text": [
        "\n",
        "Completed Page 164"
       ]
      },
      {
       "output_type": "stream",
       "stream": "stdout",
       "text": [
        "\n",
        "Completed Page 165"
       ]
      },
      {
       "output_type": "stream",
       "stream": "stdout",
       "text": [
        "\n",
        "Completed Page 166"
       ]
      },
      {
       "output_type": "stream",
       "stream": "stdout",
       "text": [
        "\n",
        "Completed Page 167"
       ]
      },
      {
       "output_type": "stream",
       "stream": "stdout",
       "text": [
        "\n",
        "Completed Page 168"
       ]
      },
      {
       "output_type": "stream",
       "stream": "stdout",
       "text": [
        "\n",
        "Completed Page 169"
       ]
      },
      {
       "output_type": "stream",
       "stream": "stdout",
       "text": [
        "\n",
        "Completed Page 170"
       ]
      },
      {
       "output_type": "stream",
       "stream": "stdout",
       "text": [
        "\n",
        "Completed Page 171"
       ]
      },
      {
       "output_type": "stream",
       "stream": "stdout",
       "text": [
        "\n",
        "Completed Page 172"
       ]
      },
      {
       "output_type": "stream",
       "stream": "stdout",
       "text": [
        "\n",
        "Completed Page 173"
       ]
      },
      {
       "output_type": "stream",
       "stream": "stdout",
       "text": [
        "\n",
        "Completed Page 174"
       ]
      },
      {
       "output_type": "stream",
       "stream": "stdout",
       "text": [
        "\n",
        "Completed Page 175"
       ]
      },
      {
       "output_type": "stream",
       "stream": "stdout",
       "text": [
        "\n",
        "Completed Page 176"
       ]
      },
      {
       "output_type": "stream",
       "stream": "stdout",
       "text": [
        "\n",
        "Completed Page 177"
       ]
      },
      {
       "output_type": "stream",
       "stream": "stdout",
       "text": [
        "\n",
        "Completed Page 178"
       ]
      },
      {
       "output_type": "stream",
       "stream": "stdout",
       "text": [
        "\n",
        "Completed Page 179"
       ]
      },
      {
       "output_type": "stream",
       "stream": "stdout",
       "text": [
        "\n",
        "Completed Page 180"
       ]
      },
      {
       "output_type": "stream",
       "stream": "stdout",
       "text": [
        "\n",
        "Completed Page 181"
       ]
      },
      {
       "output_type": "stream",
       "stream": "stdout",
       "text": [
        "\n",
        "Completed Page 182"
       ]
      },
      {
       "output_type": "stream",
       "stream": "stdout",
       "text": [
        "\n",
        "Completed Page 183"
       ]
      },
      {
       "output_type": "stream",
       "stream": "stdout",
       "text": [
        "\n",
        "Completed Page 184"
       ]
      },
      {
       "output_type": "stream",
       "stream": "stdout",
       "text": [
        "\n",
        "Completed Page 185"
       ]
      },
      {
       "output_type": "stream",
       "stream": "stdout",
       "text": [
        "\n",
        "Completed Page 186"
       ]
      },
      {
       "output_type": "stream",
       "stream": "stdout",
       "text": [
        "\n",
        "Completed Page 187"
       ]
      },
      {
       "output_type": "stream",
       "stream": "stdout",
       "text": [
        "\n",
        "Completed Page 188"
       ]
      },
      {
       "output_type": "stream",
       "stream": "stdout",
       "text": [
        "\n",
        "Completed Page 189"
       ]
      },
      {
       "output_type": "stream",
       "stream": "stdout",
       "text": [
        "\n",
        "Completed Page 190"
       ]
      },
      {
       "output_type": "stream",
       "stream": "stdout",
       "text": [
        "\n",
        "Completed Page 191"
       ]
      },
      {
       "output_type": "stream",
       "stream": "stdout",
       "text": [
        "\n",
        "Completed Page 192"
       ]
      },
      {
       "output_type": "stream",
       "stream": "stdout",
       "text": [
        "\n",
        "Completed Page 193"
       ]
      },
      {
       "output_type": "stream",
       "stream": "stdout",
       "text": [
        "\n",
        "Completed Page 194"
       ]
      },
      {
       "output_type": "stream",
       "stream": "stdout",
       "text": [
        "\n",
        "Completed Page 195"
       ]
      },
      {
       "output_type": "stream",
       "stream": "stdout",
       "text": [
        "\n",
        "Completed Page 196"
       ]
      },
      {
       "output_type": "stream",
       "stream": "stdout",
       "text": [
        "\n",
        "Completed Page 197"
       ]
      },
      {
       "output_type": "stream",
       "stream": "stdout",
       "text": [
        "\n",
        "Completed Page 198"
       ]
      },
      {
       "output_type": "stream",
       "stream": "stdout",
       "text": [
        "\n",
        "Completed Page 199"
       ]
      },
      {
       "output_type": "stream",
       "stream": "stdout",
       "text": [
        "\n",
        "Completed Page 200"
       ]
      },
      {
       "output_type": "stream",
       "stream": "stdout",
       "text": [
        "\n",
        "Completed Page 201"
       ]
      },
      {
       "output_type": "stream",
       "stream": "stdout",
       "text": [
        "\n",
        "Completed Page 202"
       ]
      },
      {
       "output_type": "stream",
       "stream": "stdout",
       "text": [
        "\n",
        "Completed Page 203"
       ]
      },
      {
       "output_type": "stream",
       "stream": "stdout",
       "text": [
        "\n",
        "Completed Page 204"
       ]
      },
      {
       "output_type": "stream",
       "stream": "stdout",
       "text": [
        "\n",
        "Completed Page 205"
       ]
      },
      {
       "output_type": "stream",
       "stream": "stdout",
       "text": [
        "\n",
        "Completed Page 206"
       ]
      },
      {
       "output_type": "stream",
       "stream": "stdout",
       "text": [
        "\n",
        "Completed Page 207"
       ]
      },
      {
       "output_type": "stream",
       "stream": "stdout",
       "text": [
        "\n",
        "Completed Page 208"
       ]
      },
      {
       "output_type": "stream",
       "stream": "stdout",
       "text": [
        "\n",
        "Completed Page 209"
       ]
      },
      {
       "output_type": "stream",
       "stream": "stdout",
       "text": [
        "\n",
        "Completed Page 210"
       ]
      },
      {
       "output_type": "stream",
       "stream": "stdout",
       "text": [
        "\n",
        "Completed Page 211"
       ]
      },
      {
       "output_type": "stream",
       "stream": "stdout",
       "text": [
        "\n",
        "Completed Page 212"
       ]
      },
      {
       "output_type": "stream",
       "stream": "stdout",
       "text": [
        "\n",
        "Completed Page 213"
       ]
      },
      {
       "output_type": "stream",
       "stream": "stdout",
       "text": [
        "\n",
        "Completed Page 214"
       ]
      },
      {
       "output_type": "stream",
       "stream": "stdout",
       "text": [
        "\n",
        "Completed Page 215"
       ]
      },
      {
       "output_type": "stream",
       "stream": "stdout",
       "text": [
        "\n",
        "Completed Page 216"
       ]
      },
      {
       "output_type": "stream",
       "stream": "stdout",
       "text": [
        "\n",
        "Completed Page 217"
       ]
      },
      {
       "output_type": "stream",
       "stream": "stdout",
       "text": [
        "\n",
        "Completed Page 218"
       ]
      },
      {
       "output_type": "stream",
       "stream": "stdout",
       "text": [
        "\n",
        "Completed Page 219"
       ]
      },
      {
       "output_type": "stream",
       "stream": "stdout",
       "text": [
        "\n",
        "Completed Page 220"
       ]
      },
      {
       "output_type": "stream",
       "stream": "stdout",
       "text": [
        "\n",
        "Completed Page 221"
       ]
      },
      {
       "output_type": "stream",
       "stream": "stdout",
       "text": [
        "\n",
        "Completed Page 222"
       ]
      },
      {
       "output_type": "stream",
       "stream": "stdout",
       "text": [
        "\n",
        "Completed Page 223"
       ]
      },
      {
       "output_type": "stream",
       "stream": "stdout",
       "text": [
        "\n",
        "Completed Page 224"
       ]
      },
      {
       "output_type": "stream",
       "stream": "stdout",
       "text": [
        "\n",
        "Completed Page 225"
       ]
      },
      {
       "output_type": "stream",
       "stream": "stdout",
       "text": [
        "\n",
        "Completed Page 226"
       ]
      },
      {
       "output_type": "stream",
       "stream": "stdout",
       "text": [
        "\n",
        "Completed Page 227"
       ]
      },
      {
       "output_type": "stream",
       "stream": "stdout",
       "text": [
        "\n",
        "Completed Page 228"
       ]
      },
      {
       "output_type": "stream",
       "stream": "stdout",
       "text": [
        "\n",
        "Completed Page 229"
       ]
      },
      {
       "output_type": "stream",
       "stream": "stdout",
       "text": [
        "\n",
        "Completed Page 230"
       ]
      },
      {
       "output_type": "stream",
       "stream": "stdout",
       "text": [
        "\n",
        "Completed Page 231"
       ]
      },
      {
       "output_type": "stream",
       "stream": "stdout",
       "text": [
        "\n",
        "Completed Page 232"
       ]
      },
      {
       "output_type": "stream",
       "stream": "stdout",
       "text": [
        "\n",
        "Completed Page 233"
       ]
      },
      {
       "output_type": "stream",
       "stream": "stdout",
       "text": [
        "\n",
        "Completed Page 234"
       ]
      },
      {
       "output_type": "stream",
       "stream": "stdout",
       "text": [
        "\n",
        "Completed Page 235"
       ]
      },
      {
       "output_type": "stream",
       "stream": "stdout",
       "text": [
        "\n",
        "Completed Page 236"
       ]
      },
      {
       "output_type": "stream",
       "stream": "stdout",
       "text": [
        "\n",
        "Completed Page 237"
       ]
      },
      {
       "output_type": "stream",
       "stream": "stdout",
       "text": [
        "\n",
        "Completed Page 238"
       ]
      },
      {
       "output_type": "stream",
       "stream": "stdout",
       "text": [
        "\n",
        "Completed Page 239"
       ]
      },
      {
       "output_type": "stream",
       "stream": "stdout",
       "text": [
        "\n",
        "Completed Page 240"
       ]
      },
      {
       "output_type": "stream",
       "stream": "stdout",
       "text": [
        "\n",
        "Completed Page 241"
       ]
      },
      {
       "output_type": "stream",
       "stream": "stdout",
       "text": [
        "\n",
        "Completed Page 242"
       ]
      },
      {
       "output_type": "stream",
       "stream": "stdout",
       "text": [
        "\n",
        "Completed Page 243"
       ]
      },
      {
       "output_type": "stream",
       "stream": "stdout",
       "text": [
        "\n",
        "Completed Page 244"
       ]
      },
      {
       "output_type": "stream",
       "stream": "stdout",
       "text": [
        "\n",
        "Completed Page 245"
       ]
      },
      {
       "output_type": "stream",
       "stream": "stdout",
       "text": [
        "\n",
        "Completed Page 246"
       ]
      },
      {
       "output_type": "stream",
       "stream": "stdout",
       "text": [
        "\n",
        "Completed Page 247"
       ]
      },
      {
       "output_type": "stream",
       "stream": "stdout",
       "text": [
        "\n",
        "Completed Page 248"
       ]
      },
      {
       "output_type": "stream",
       "stream": "stdout",
       "text": [
        "\n"
       ]
      },
      {
       "output_type": "stream",
       "stream": "stdout",
       "text": [
        "Completed Page 1\n",
        "Latest Published DateTime 2014-09-12 11:09:34\n",
        "Completed Page 2"
       ]
      },
      {
       "output_type": "stream",
       "stream": "stdout",
       "text": [
        "\n",
        "Latest Published DateTime 2014-09-11 07:09:11\n",
        "Completed Page 3"
       ]
      },
      {
       "output_type": "stream",
       "stream": "stdout",
       "text": [
        "\n",
        "Latest Published DateTime 2014-09-10 06:09:32\n",
        "Completed Page 4"
       ]
      },
      {
       "output_type": "stream",
       "stream": "stdout",
       "text": [
        "\n",
        "Latest Published DateTime 2014-09-09 05:09:52\n",
        "Completed Page 5"
       ]
      },
      {
       "output_type": "stream",
       "stream": "stdout",
       "text": [
        "\n",
        "Latest Published DateTime 2014-09-07 02:09:01\n",
        "Completed Page 6"
       ]
      },
      {
       "output_type": "stream",
       "stream": "stdout",
       "text": [
        "\n",
        "Latest Published DateTime 2014-09-04 11:09:56\n",
        "Completed Page 7"
       ]
      },
      {
       "output_type": "stream",
       "stream": "stdout",
       "text": [
        "\n",
        "Latest Published DateTime 2014-09-04 07:09:02\n",
        "Completed Page 8"
       ]
      },
      {
       "output_type": "stream",
       "stream": "stdout",
       "text": [
        "\n",
        "Latest Published DateTime 2014-09-03 07:09:47\n",
        "Completed Page 9"
       ]
      },
      {
       "output_type": "stream",
       "stream": "stdout",
       "text": [
        "\n",
        "Latest Published DateTime 2014-09-02 07:09:30\n",
        "Completed Page 10"
       ]
      },
      {
       "output_type": "stream",
       "stream": "stdout",
       "text": [
        "\n",
        "Latest Published DateTime 2014-08-29 10:08:53\n",
        "Completed Page 11"
       ]
      },
      {
       "output_type": "stream",
       "stream": "stdout",
       "text": [
        "\n",
        "Latest Published DateTime 2014-08-28 06:08:24\n",
        "Completed Page 12"
       ]
      },
      {
       "output_type": "stream",
       "stream": "stdout",
       "text": [
        "\n",
        "Latest Published DateTime 2014-08-27 05:08:39\n",
        "Completed Page 13"
       ]
      },
      {
       "output_type": "stream",
       "stream": "stdout",
       "text": [
        "\n",
        "Latest Published DateTime 2014-08-26 06:08:29\n",
        "Completed Page 14"
       ]
      },
      {
       "output_type": "stream",
       "stream": "stdout",
       "text": [
        "\n",
        "Latest Published DateTime 2014-08-24 10:08:19\n",
        "Completed Page 15"
       ]
      },
      {
       "output_type": "stream",
       "stream": "stdout",
       "text": [
        "\n",
        "Latest Published DateTime 2014-08-21 05:08:35\n",
        "Completed Page 16"
       ]
      },
      {
       "output_type": "stream",
       "stream": "stdout",
       "text": [
        "\n",
        "Latest Published DateTime 2014-08-20 11:08:44\n",
        "Completed Page 17"
       ]
      },
      {
       "output_type": "stream",
       "stream": "stdout",
       "text": [
        "\n",
        "Latest Published DateTime 2014-08-19 11:08:36\n",
        "Completed Page 18"
       ]
      },
      {
       "output_type": "stream",
       "stream": "stdout",
       "text": [
        "\n",
        "Latest Published DateTime 2014-08-18 11:08:50\n",
        "Completed Page 19"
       ]
      },
      {
       "output_type": "stream",
       "stream": "stdout",
       "text": [
        "\n",
        "Latest Published DateTime 2014-08-15 11:08:35\n",
        "Completed Page 20"
       ]
      },
      {
       "output_type": "stream",
       "stream": "stdout",
       "text": [
        "\n",
        "Latest Published DateTime 2014-08-14 07:08:14\n",
        "Completed Page 21"
       ]
      },
      {
       "output_type": "stream",
       "stream": "stdout",
       "text": [
        "\n",
        "Latest Published DateTime 2014-08-13 05:08:28\n",
        "Completed Page 22"
       ]
      },
      {
       "output_type": "stream",
       "stream": "stdout",
       "text": [
        "\n",
        "Latest Published DateTime 2014-08-11 09:08:15\n",
        "Completed Page 23"
       ]
      },
      {
       "output_type": "stream",
       "stream": "stdout",
       "text": [
        "\n",
        "Latest Published DateTime 2014-08-08 09:08:10\n",
        "Completed Page 24"
       ]
      },
      {
       "output_type": "stream",
       "stream": "stdout",
       "text": [
        "\n",
        "Latest Published DateTime 2014-08-06 10:08:54\n",
        "Completed Page 25"
       ]
      },
      {
       "output_type": "stream",
       "stream": "stdout",
       "text": [
        "\n",
        "Latest Published DateTime 2014-08-05 11:08:40\n",
        "Completed Page 26"
       ]
      },
      {
       "output_type": "stream",
       "stream": "stdout",
       "text": [
        "\n",
        "Latest Published DateTime 2014-08-04 08:08:22\n",
        "Completed Page 27"
       ]
      },
      {
       "output_type": "stream",
       "stream": "stdout",
       "text": [
        "\n",
        "Latest Published DateTime 2014-08-01 01:08:37\n",
        "Completed Page 28"
       ]
      },
      {
       "output_type": "stream",
       "stream": "stdout",
       "text": [
        "\n",
        "Latest Published DateTime 2014-07-30 05:07:51\n",
        "Completed Page 29"
       ]
      },
      {
       "output_type": "stream",
       "stream": "stdout",
       "text": [
        "\n",
        "Latest Published DateTime 2014-07-29 01:07:09\n",
        "Completed Page 30"
       ]
      },
      {
       "output_type": "stream",
       "stream": "stdout",
       "text": [
        "\n",
        "Latest Published DateTime 2014-07-28 09:07:50\n",
        "Completed Page 31"
       ]
      },
      {
       "output_type": "stream",
       "stream": "stdout",
       "text": [
        "\n",
        "Latest Published DateTime 2014-07-25 06:07:40\n",
        "Completed Page 32"
       ]
      },
      {
       "output_type": "stream",
       "stream": "stdout",
       "text": [
        "\n",
        "Latest Published DateTime 2014-07-23 11:07:08\n",
        "Completed Page 33"
       ]
      },
      {
       "output_type": "stream",
       "stream": "stdout",
       "text": [
        "\n",
        "Latest Published DateTime 2014-07-22 08:07:25\n",
        "Completed Page 34"
       ]
      },
      {
       "output_type": "stream",
       "stream": "stdout",
       "text": [
        "\n",
        "Latest Published DateTime 2014-07-21 09:07:58\n",
        "Completed Page 35"
       ]
      },
      {
       "output_type": "stream",
       "stream": "stdout",
       "text": [
        "\n",
        "Latest Published DateTime 2014-07-18 09:07:58\n",
        "Completed Page 36"
       ]
      },
      {
       "output_type": "stream",
       "stream": "stdout",
       "text": [
        "\n",
        "Latest Published DateTime 2014-07-16 11:07:32\n",
        "Completed Page 37"
       ]
      },
      {
       "output_type": "stream",
       "stream": "stdout",
       "text": [
        "\n",
        "Latest Published DateTime 2014-07-15 06:07:12\n",
        "Completed Page 38"
       ]
      },
      {
       "output_type": "stream",
       "stream": "stdout",
       "text": [
        "\n",
        "Latest Published DateTime 2014-07-15 12:07:03\n",
        "Completed Page 39"
       ]
      },
      {
       "output_type": "stream",
       "stream": "stdout",
       "text": [
        "\n",
        "Latest Published DateTime 2014-07-11 01:07:46\n",
        "Completed Page 40"
       ]
      },
      {
       "output_type": "stream",
       "stream": "stdout",
       "text": [
        "\n",
        "Latest Published DateTime 2014-07-10 07:07:54\n",
        "Completed Page 41"
       ]
      },
      {
       "output_type": "stream",
       "stream": "stdout",
       "text": [
        "\n",
        "Latest Published DateTime 2014-07-09 01:07:04\n",
        "Completed Page 42"
       ]
      },
      {
       "output_type": "stream",
       "stream": "stdout",
       "text": [
        "\n",
        "Latest Published DateTime 2014-07-07 01:07:23\n",
        "Completed Page 43"
       ]
      },
      {
       "output_type": "stream",
       "stream": "stdout",
       "text": [
        "\n",
        "Latest Published DateTime 2014-07-04 07:07:49\n",
        "Completed Page 44"
       ]
      },
      {
       "output_type": "stream",
       "stream": "stdout",
       "text": [
        "\n",
        "Latest Published DateTime 2014-07-02 11:07:19\n",
        "Completed Page 45"
       ]
      },
      {
       "output_type": "stream",
       "stream": "stdout",
       "text": [
        "\n",
        "Latest Published DateTime 2014-07-01 08:07:27\n",
        "Completed Page 46"
       ]
      },
      {
       "output_type": "stream",
       "stream": "stdout",
       "text": [
        "\n",
        "Latest Published DateTime 2014-06-30 11:06:41\n",
        "Completed Page 47"
       ]
      },
      {
       "output_type": "stream",
       "stream": "stdout",
       "text": [
        "\n",
        "Latest Published DateTime 2014-06-27 12:06:59\n",
        "Completed Page 48"
       ]
      },
      {
       "output_type": "stream",
       "stream": "stdout",
       "text": [
        "\n",
        "Latest Published DateTime 2014-06-26 06:06:18\n",
        "Completed Page 49"
       ]
      },
      {
       "output_type": "stream",
       "stream": "stdout",
       "text": [
        "\n",
        "Latest Published DateTime 2014-06-25 12:06:37\n",
        "Completed Page 50"
       ]
      },
      {
       "output_type": "stream",
       "stream": "stdout",
       "text": [
        "\n",
        "Latest Published DateTime 2014-06-23 01:06:22\n",
        "Completed Page 51"
       ]
      },
      {
       "output_type": "stream",
       "stream": "stdout",
       "text": [
        "\n",
        "Latest Published DateTime 2014-06-20 02:06:15\n",
        "Completed Page 52"
       ]
      },
      {
       "output_type": "stream",
       "stream": "stdout",
       "text": [
        "\n",
        "Latest Published DateTime 2014-06-19 12:06:44\n",
        "Completed Page 53"
       ]
      },
      {
       "output_type": "stream",
       "stream": "stdout",
       "text": [
        "\n",
        "Latest Published DateTime 2014-06-18 01:06:40\n",
        "Completed Page 54"
       ]
      },
      {
       "output_type": "stream",
       "stream": "stdout",
       "text": [
        "\n",
        "Latest Published DateTime 2014-06-17 12:06:08\n",
        "Completed Page 55"
       ]
      },
      {
       "output_type": "stream",
       "stream": "stdout",
       "text": [
        "\n",
        "Latest Published DateTime 2014-06-16 01:06:42\n",
        "Completed Page 56"
       ]
      },
      {
       "output_type": "stream",
       "stream": "stdout",
       "text": [
        "\n",
        "Latest Published DateTime 2014-06-14 06:06:09\n",
        "Completed Page 57"
       ]
      },
      {
       "output_type": "stream",
       "stream": "stdout",
       "text": [
        "\n",
        "Latest Published DateTime 2014-06-12 12:06:26\n",
        "Completed Page 58"
       ]
      },
      {
       "output_type": "stream",
       "stream": "stdout",
       "text": [
        "\n",
        "Latest Published DateTime 2014-06-11 09:06:36\n",
        "Completed Page 59"
       ]
      },
      {
       "output_type": "stream",
       "stream": "stdout",
       "text": [
        "\n",
        "Latest Published DateTime 2014-06-10 09:06:59\n",
        "Completed Page 60"
       ]
      },
      {
       "output_type": "stream",
       "stream": "stdout",
       "text": [
        "\n",
        "Latest Published DateTime 2014-06-09 10:06:12\n",
        "Completed Page 61"
       ]
      },
      {
       "output_type": "stream",
       "stream": "stdout",
       "text": [
        "\n",
        "Latest Published DateTime 2014-06-06 07:06:10\n",
        "Completed Page 62"
       ]
      },
      {
       "output_type": "stream",
       "stream": "stdout",
       "text": [
        "\n",
        "Latest Published DateTime 2014-06-05 05:06:18\n",
        "Completed Page 63"
       ]
      },
      {
       "output_type": "stream",
       "stream": "stdout",
       "text": [
        "\n",
        "Latest Published DateTime 2014-06-03 05:06:41\n",
        "Completed Page 64"
       ]
      },
      {
       "output_type": "stream",
       "stream": "stdout",
       "text": [
        "\n",
        "Latest Published DateTime 2014-06-02 03:06:54\n",
        "Completed Page 65"
       ]
      },
      {
       "output_type": "stream",
       "stream": "stdout",
       "text": [
        "\n",
        "Latest Published DateTime 2014-05-31 08:05:18\n",
        "Completed Page 66"
       ]
      },
      {
       "output_type": "stream",
       "stream": "stdout",
       "text": [
        "\n",
        "Latest Published DateTime 2014-05-29 01:05:08\n",
        "Completed Page 67"
       ]
      },
      {
       "output_type": "stream",
       "stream": "stdout",
       "text": [
        "\n",
        "Latest Published DateTime 2014-05-28 03:05:07\n",
        "Completed Page 68"
       ]
      },
      {
       "output_type": "stream",
       "stream": "stdout",
       "text": [
        "\n",
        "Latest Published DateTime 2014-05-27 10:05:52\n",
        "Completed Page 69"
       ]
      },
      {
       "output_type": "stream",
       "stream": "stdout",
       "text": [
        "\n",
        "Latest Published DateTime 2014-05-25 09:05:35\n",
        "Completed Page 70"
       ]
      },
      {
       "output_type": "stream",
       "stream": "stdout",
       "text": [
        "\n",
        "Latest Published DateTime 2014-05-22 03:05:29\n",
        "Completed Page 71"
       ]
      },
      {
       "output_type": "stream",
       "stream": "stdout",
       "text": [
        "\n",
        "Latest Published DateTime 2014-05-21 12:05:38\n",
        "Completed Page 72"
       ]
      },
      {
       "output_type": "stream",
       "stream": "stdout",
       "text": [
        "\n",
        "Latest Published DateTime 2014-05-20 12:05:57\n",
        "Completed Page 73"
       ]
      },
      {
       "output_type": "stream",
       "stream": "stdout",
       "text": [
        "\n",
        "Latest Published DateTime 2014-05-19 09:05:09\n",
        "Completed Page 74"
       ]
      },
      {
       "output_type": "stream",
       "stream": "stdout",
       "text": [
        "\n",
        "Latest Published DateTime 2014-05-16 12:05:38\n",
        "Completed Page 75"
       ]
      },
      {
       "output_type": "stream",
       "stream": "stdout",
       "text": [
        "\n",
        "Latest Published DateTime 2014-05-15 09:05:56\n",
        "Completed Page 76"
       ]
      },
      {
       "output_type": "stream",
       "stream": "stdout",
       "text": [
        "\n",
        "Latest Published DateTime 2014-05-14 07:05:55\n",
        "Completed Page 77"
       ]
      },
      {
       "output_type": "stream",
       "stream": "stdout",
       "text": [
        "\n",
        "Latest Published DateTime 2014-05-13 05:05:30\n",
        "Completed Page 78"
       ]
      },
      {
       "output_type": "stream",
       "stream": "stdout",
       "text": [
        "\n",
        "Latest Published DateTime 2014-05-10 08:05:25\n",
        "Completed Page 79"
       ]
      },
      {
       "output_type": "stream",
       "stream": "stdout",
       "text": [
        "\n",
        "Latest Published DateTime 2014-05-08 05:05:35\n",
        "Completed Page 80"
       ]
      },
      {
       "output_type": "stream",
       "stream": "stdout",
       "text": [
        "\n",
        "Latest Published DateTime 2014-05-06 08:05:38\n",
        "Completed Page 81"
       ]
      },
      {
       "output_type": "stream",
       "stream": "stdout",
       "text": [
        "\n",
        "Latest Published DateTime 2014-05-04 08:05:35\n",
        "Completed Page 82"
       ]
      },
      {
       "output_type": "stream",
       "stream": "stdout",
       "text": [
        "\n",
        "Latest Published DateTime 2014-05-01 10:05:17\n",
        "Completed Page 83"
       ]
      },
      {
       "output_type": "stream",
       "stream": "stdout",
       "text": [
        "\n",
        "Latest Published DateTime 2014-04-30 07:04:13\n",
        "Completed Page 84"
       ]
      },
      {
       "output_type": "stream",
       "stream": "stdout",
       "text": [
        "\n",
        "Latest Published DateTime 2014-04-29 07:04:10\n",
        "Completed Page 85"
       ]
      },
      {
       "output_type": "stream",
       "stream": "stdout",
       "text": [
        "\n",
        "Latest Published DateTime 2014-04-28 06:04:26\n",
        "Completed Page 86"
       ]
      },
      {
       "output_type": "stream",
       "stream": "stdout",
       "text": [
        "\n",
        "Latest Published DateTime 2014-04-25 05:04:19\n",
        "Completed Page 87"
       ]
      },
      {
       "output_type": "stream",
       "stream": "stdout",
       "text": [
        "\n",
        "Latest Published DateTime 2014-04-24 05:04:00\n",
        "Completed Page 88"
       ]
      },
      {
       "output_type": "stream",
       "stream": "stdout",
       "text": [
        "\n",
        "Latest Published DateTime 2014-04-23 03:04:24\n",
        "Completed Page 89"
       ]
      },
      {
       "output_type": "stream",
       "stream": "stdout",
       "text": [
        "\n",
        "Latest Published DateTime 2014-04-21 02:04:55\n",
        "Completed Page 90"
       ]
      },
      {
       "output_type": "stream",
       "stream": "stdout",
       "text": [
        "\n",
        "Latest Published DateTime 2014-04-18 09:04:17\n",
        "Completed Page 91"
       ]
      },
      {
       "output_type": "stream",
       "stream": "stdout",
       "text": [
        "\n",
        "Latest Published DateTime 2014-04-16 01:04:17\n",
        "Completed Page 92"
       ]
      },
      {
       "output_type": "stream",
       "stream": "stdout",
       "text": [
        "\n",
        "Latest Published DateTime 2014-04-15 10:04:05\n",
        "Completed Page 93"
       ]
      },
      {
       "output_type": "stream",
       "stream": "stdout",
       "text": [
        "\n",
        "Latest Published DateTime 2014-04-13 12:04:01\n",
        "Completed Page 94"
       ]
      },
      {
       "output_type": "stream",
       "stream": "stdout",
       "text": [
        "\n",
        "Latest Published DateTime 2014-04-10 02:04:16\n",
        "Completed Page 95"
       ]
      },
      {
       "output_type": "stream",
       "stream": "stdout",
       "text": [
        "\n",
        "Latest Published DateTime 2014-04-09 12:04:12\n",
        "Completed Page 96"
       ]
      },
      {
       "output_type": "stream",
       "stream": "stdout",
       "text": [
        "\n",
        "Latest Published DateTime 2014-04-08 06:04:39\n",
        "Completed Page 97"
       ]
      },
      {
       "output_type": "stream",
       "stream": "stdout",
       "text": [
        "\n",
        "Latest Published DateTime 2014-04-06 07:04:36\n",
        "Completed Page 98"
       ]
      },
      {
       "output_type": "stream",
       "stream": "stdout",
       "text": [
        "\n",
        "Latest Published DateTime 2014-04-03 02:04:17\n",
        "Completed Page 99"
       ]
      },
      {
       "output_type": "stream",
       "stream": "stdout",
       "text": [
        "\n",
        "Latest Published DateTime 2014-04-02 11:04:53\n",
        "Completed Page 100"
       ]
      },
      {
       "output_type": "stream",
       "stream": "stdout",
       "text": [
        "\n",
        "Latest Published DateTime 2014-04-01 08:04:23\n",
        "Completed Page 101"
       ]
      },
      {
       "output_type": "stream",
       "stream": "stdout",
       "text": [
        "\n",
        "Latest Published DateTime 2014-03-31 05:03:39\n",
        "Completed Page 102"
       ]
      },
      {
       "output_type": "stream",
       "stream": "stdout",
       "text": [
        "\n",
        "Latest Published DateTime 2014-03-28 07:03:58\n",
        "Completed Page 103"
       ]
      },
      {
       "output_type": "stream",
       "stream": "stdout",
       "text": [
        "\n",
        "Latest Published DateTime 2014-03-26 06:03:30\n",
        "Completed Page 104"
       ]
      },
      {
       "output_type": "stream",
       "stream": "stdout",
       "text": [
        "\n",
        "Latest Published DateTime 2014-03-26 04:03:46\n",
        "Completed Page 105"
       ]
      },
      {
       "output_type": "stream",
       "stream": "stdout",
       "text": [
        "\n",
        "Latest Published DateTime 2014-03-25 07:03:46\n",
        "Completed Page 106"
       ]
      },
      {
       "output_type": "stream",
       "stream": "stdout",
       "text": [
        "\n",
        "Latest Published DateTime 2014-03-24 08:03:17\n",
        "Completed Page 107"
       ]
      },
      {
       "output_type": "stream",
       "stream": "stdout",
       "text": [
        "\n",
        "Latest Published DateTime 2014-03-21 09:03:22\n",
        "Completed Page 108"
       ]
      },
      {
       "output_type": "stream",
       "stream": "stdout",
       "text": [
        "\n",
        "Latest Published DateTime 2014-03-20 08:03:46\n",
        "Completed Page 109"
       ]
      },
      {
       "output_type": "stream",
       "stream": "stdout",
       "text": [
        "\n",
        "Latest Published DateTime 2014-03-19 09:03:03\n",
        "Completed Page 110"
       ]
      },
      {
       "output_type": "stream",
       "stream": "stdout",
       "text": [
        "\n",
        "Latest Published DateTime 2014-03-18 08:03:15\n",
        "Completed Page 111"
       ]
      },
      {
       "output_type": "stream",
       "stream": "stdout",
       "text": [
        "\n",
        "Latest Published DateTime 2014-03-17 08:03:03\n",
        "Completed Page 112"
       ]
      },
      {
       "output_type": "stream",
       "stream": "stdout",
       "text": [
        "\n",
        "Latest Published DateTime 2014-03-14 11:03:51\n",
        "Completed Page 113"
       ]
      },
      {
       "output_type": "stream",
       "stream": "stdout",
       "text": [
        "\n",
        "Latest Published DateTime 2014-03-13 09:03:02\n",
        "Completed Page 114"
       ]
      },
      {
       "output_type": "stream",
       "stream": "stdout",
       "text": [
        "\n",
        "Latest Published DateTime 2014-03-12 06:03:42\n",
        "Completed Page 115"
       ]
      },
      {
       "output_type": "stream",
       "stream": "stdout",
       "text": [
        "\n",
        "Latest Published DateTime 2014-03-11 05:03:28\n",
        "Completed Page 116"
       ]
      },
      {
       "output_type": "stream",
       "stream": "stdout",
       "text": [
        "\n",
        "Latest Published DateTime 2014-03-09 12:03:48\n",
        "Completed Page 117"
       ]
      },
      {
       "output_type": "stream",
       "stream": "stdout",
       "text": [
        "\n",
        "Latest Published DateTime 2014-03-06 05:03:20\n",
        "Completed Page 118"
       ]
      },
      {
       "output_type": "stream",
       "stream": "stdout",
       "text": [
        "\n",
        "Latest Published DateTime 2014-03-05 09:03:11\n",
        "Completed Page 119"
       ]
      },
      {
       "output_type": "stream",
       "stream": "stdout",
       "text": [
        "\n",
        "Latest Published DateTime 2014-03-04 08:03:58\n",
        "Completed Page 120"
       ]
      },
      {
       "output_type": "stream",
       "stream": "stdout",
       "text": [
        "\n",
        "Latest Published DateTime 2014-03-03 08:03:17\n",
        "Completed Page 121"
       ]
      },
      {
       "output_type": "stream",
       "stream": "stdout",
       "text": [
        "\n",
        "Latest Published DateTime 2014-02-28 11:02:39\n",
        "Completed Page 122"
       ]
      },
      {
       "output_type": "stream",
       "stream": "stdout",
       "text": [
        "\n",
        "Latest Published DateTime 2014-02-27 09:02:34\n",
        "Completed Page 123"
       ]
      },
      {
       "output_type": "stream",
       "stream": "stdout",
       "text": [
        "\n",
        "Latest Published DateTime 2014-02-26 07:02:02\n",
        "Completed Page 124"
       ]
      },
      {
       "output_type": "stream",
       "stream": "stdout",
       "text": [
        "\n",
        "Latest Published DateTime 2014-02-25 07:02:14\n",
        "Completed Page 125"
       ]
      },
      {
       "output_type": "stream",
       "stream": "stdout",
       "text": [
        "\n",
        "Latest Published DateTime 2014-02-24 07:02:39\n",
        "Completed Page 126"
       ]
      },
      {
       "output_type": "stream",
       "stream": "stdout",
       "text": [
        "\n",
        "Latest Published DateTime 2014-02-22 12:02:27\n",
        "Completed Page 127"
       ]
      },
      {
       "output_type": "stream",
       "stream": "stdout",
       "text": [
        "\n",
        "Latest Published DateTime 2014-02-20 01:02:23\n",
        "Completed Page 128"
       ]
      },
      {
       "output_type": "stream",
       "stream": "stdout",
       "text": [
        "\n",
        "Latest Published DateTime 2014-02-19 01:02:06\n",
        "Completed Page 129"
       ]
      },
      {
       "output_type": "stream",
       "stream": "stdout",
       "text": [
        "\n",
        "Latest Published DateTime 2014-02-19 12:02:58\n",
        "Completed Page 130"
       ]
      },
      {
       "output_type": "stream",
       "stream": "stdout",
       "text": [
        "\n",
        "Latest Published DateTime 2014-02-17 10:02:25\n",
        "Completed Page 131"
       ]
      },
      {
       "output_type": "stream",
       "stream": "stdout",
       "text": [
        "\n",
        "Latest Published DateTime 2014-02-14 12:02:51\n",
        "Completed Page 132"
       ]
      },
      {
       "output_type": "stream",
       "stream": "stdout",
       "text": [
        "\n",
        "Latest Published DateTime 2014-02-13 10:02:20\n",
        "Completed Page 133"
       ]
      },
      {
       "output_type": "stream",
       "stream": "stdout",
       "text": [
        "\n",
        "Latest Published DateTime 2014-02-12 10:02:57\n",
        "Completed Page 134"
       ]
      },
      {
       "output_type": "stream",
       "stream": "stdout",
       "text": [
        "\n",
        "Latest Published DateTime 2014-02-11 10:02:00\n",
        "Completed Page 135"
       ]
      },
      {
       "output_type": "stream",
       "stream": "stdout",
       "text": [
        "\n",
        "Latest Published DateTime 2014-02-10 12:02:33\n",
        "Completed Page 136"
       ]
      },
      {
       "output_type": "stream",
       "stream": "stdout",
       "text": [
        "\n",
        "Latest Published DateTime 2014-02-07 03:02:42\n",
        "Completed Page 137"
       ]
      },
      {
       "output_type": "stream",
       "stream": "stdout",
       "text": [
        "\n",
        "Latest Published DateTime 2014-02-06 11:02:34\n",
        "Completed Page 138"
       ]
      },
      {
       "output_type": "stream",
       "stream": "stdout",
       "text": [
        "\n",
        "Latest Published DateTime 2014-02-05 08:02:44\n",
        "Completed Page 139"
       ]
      },
      {
       "output_type": "stream",
       "stream": "stdout",
       "text": [
        "\n",
        "Latest Published DateTime 2014-02-04 08:02:59\n",
        "Completed Page 140"
       ]
      },
      {
       "output_type": "stream",
       "stream": "stdout",
       "text": [
        "\n",
        "Latest Published DateTime 2014-02-03 08:02:56\n",
        "Completed Page 141"
       ]
      },
      {
       "output_type": "stream",
       "stream": "stdout",
       "text": [
        "\n",
        "Latest Published DateTime 2014-01-31 07:01:07\n",
        "Completed Page 142"
       ]
      },
      {
       "output_type": "stream",
       "stream": "stdout",
       "text": [
        "\n",
        "Latest Published DateTime 2014-01-29 05:01:57\n",
        "Completed Page 143"
       ]
      },
      {
       "output_type": "stream",
       "stream": "stdout",
       "text": [
        "\n",
        "Latest Published DateTime 2014-01-28 01:01:35\n",
        "Completed Page 144"
       ]
      },
      {
       "output_type": "stream",
       "stream": "stdout",
       "text": [
        "\n",
        "Latest Published DateTime 2014-01-27 04:01:18\n",
        "Completed Page 145"
       ]
      },
      {
       "output_type": "stream",
       "stream": "stdout",
       "text": [
        "\n",
        "Latest Published DateTime 2014-01-26 01:01:34\n",
        "Completed Page 146"
       ]
      },
      {
       "output_type": "stream",
       "stream": "stdout",
       "text": [
        "\n",
        "Latest Published DateTime 2014-01-24 05:01:05\n",
        "Completed Page 147"
       ]
      },
      {
       "output_type": "stream",
       "stream": "stdout",
       "text": [
        "\n",
        "Latest Published DateTime 2014-01-23 05:01:08\n",
        "Completed Page 148"
       ]
      },
      {
       "output_type": "stream",
       "stream": "stdout",
       "text": [
        "\n",
        "Latest Published DateTime 2014-01-22 05:01:16\n",
        "Completed Page 149"
       ]
      },
      {
       "output_type": "stream",
       "stream": "stdout",
       "text": [
        "\n",
        "Latest Published DateTime 2014-01-21 05:01:48\n",
        "Completed Page 150"
       ]
      },
      {
       "output_type": "stream",
       "stream": "stdout",
       "text": [
        "\n",
        "Latest Published DateTime 2014-01-20 05:01:32\n",
        "Completed Page 151"
       ]
      },
      {
       "output_type": "stream",
       "stream": "stdout",
       "text": [
        "\n",
        "Latest Published DateTime 2014-01-17 07:01:17\n",
        "Completed Page 152"
       ]
      },
      {
       "output_type": "stream",
       "stream": "stdout",
       "text": [
        "\n",
        "Latest Published DateTime 2014-01-16 06:01:28\n",
        "Completed Page 153"
       ]
      },
      {
       "output_type": "stream",
       "stream": "stdout",
       "text": [
        "\n",
        "Latest Published DateTime 2014-01-15 04:01:36\n",
        "Completed Page 154"
       ]
      },
      {
       "output_type": "stream",
       "stream": "stdout",
       "text": [
        "\n",
        "Latest Published DateTime 2014-01-14 12:01:42\n",
        "Completed Page 155"
       ]
      },
      {
       "output_type": "stream",
       "stream": "stdout",
       "text": [
        "\n",
        "Latest Published DateTime 2014-01-12 06:01:54\n",
        "Completed Page 156"
       ]
      },
      {
       "output_type": "stream",
       "stream": "stdout",
       "text": [
        "\n",
        "Latest Published DateTime 2014-01-09 04:01:27\n",
        "Completed Page 157"
       ]
      },
      {
       "output_type": "stream",
       "stream": "stdout",
       "text": [
        "\n",
        "Latest Published DateTime 2014-01-08 03:01:14\n",
        "Completed Page 158"
       ]
      },
      {
       "output_type": "stream",
       "stream": "stdout",
       "text": [
        "\n",
        "Latest Published DateTime 2014-01-07 06:01:02\n",
        "Completed Page 159"
       ]
      },
      {
       "output_type": "stream",
       "stream": "stdout",
       "text": [
        "\n",
        "Latest Published DateTime 2014-01-07 05:01:14\n",
        "Completed Page 160"
       ]
      },
      {
       "output_type": "stream",
       "stream": "stdout",
       "text": [
        "\n",
        "Latest Published DateTime 2014-01-06 09:01:55\n",
        "Completed Page 161"
       ]
      },
      {
       "output_type": "stream",
       "stream": "stdout",
       "text": [
        "\n",
        "Latest Published DateTime 2014-01-04 10:01:28\n",
        "Completed Page 162"
       ]
      },
      {
       "output_type": "stream",
       "stream": "stdout",
       "text": [
        "\n",
        "Latest Published DateTime 2014-01-02 11:01:31\n",
        "Completed Page 163"
       ]
      },
      {
       "output_type": "stream",
       "stream": "stdout",
       "text": [
        "\n",
        "Latest Published DateTime 2013-12-31 10:12:22\n",
        "Completed Page 164"
       ]
      },
      {
       "output_type": "stream",
       "stream": "stdout",
       "text": [
        "\n",
        "Latest Published DateTime 2013-12-27 08:12:58\n",
        "Completed Page 165"
       ]
      },
      {
       "output_type": "stream",
       "stream": "stdout",
       "text": [
        "\n",
        "Latest Published DateTime 2013-12-23 10:12:54\n",
        "Completed Page 166"
       ]
      },
      {
       "output_type": "stream",
       "stream": "stdout",
       "text": [
        "\n",
        "Latest Published DateTime 2013-12-20 04:12:45\n",
        "Completed Page 167"
       ]
      },
      {
       "output_type": "stream",
       "stream": "stdout",
       "text": [
        "\n",
        "Latest Published DateTime 2013-12-19 12:12:48\n",
        "Completed Page 168"
       ]
      },
      {
       "output_type": "stream",
       "stream": "stdout",
       "text": [
        "\n",
        "Latest Published DateTime 2013-12-18 02:12:17\n",
        "Completed Page 169"
       ]
      },
      {
       "output_type": "stream",
       "stream": "stdout",
       "text": [
        "\n",
        "Latest Published DateTime 2013-12-17 01:12:18\n",
        "Completed Page 170"
       ]
      },
      {
       "output_type": "stream",
       "stream": "stdout",
       "text": [
        "\n",
        "Latest Published DateTime 2013-12-17 05:12:17\n",
        "Completed Page 171"
       ]
      },
      {
       "output_type": "stream",
       "stream": "stdout",
       "text": [
        "\n",
        "Latest Published DateTime 2013-12-16 05:12:38\n",
        "Completed Page 172"
       ]
      },
      {
       "output_type": "stream",
       "stream": "stdout",
       "text": [
        "\n",
        "Latest Published DateTime 2013-12-13 09:12:46\n",
        "Completed Page 173"
       ]
      },
      {
       "output_type": "stream",
       "stream": "stdout",
       "text": [
        "\n",
        "Latest Published DateTime 2013-12-12 08:12:09\n",
        "Completed Page 174"
       ]
      },
      {
       "output_type": "stream",
       "stream": "stdout",
       "text": [
        "\n",
        "Latest Published DateTime 2013-12-11 10:12:42\n",
        "Completed Page 175"
       ]
      },
      {
       "output_type": "stream",
       "stream": "stdout",
       "text": [
        "\n",
        "Latest Published DateTime 2013-12-10 02:12:16\n",
        "Completed Page 176"
       ]
      },
      {
       "output_type": "stream",
       "stream": "stdout",
       "text": [
        "\n",
        "Latest Published DateTime 2013-12-09 03:12:45\n",
        "Completed Page 177"
       ]
      },
      {
       "output_type": "stream",
       "stream": "stdout",
       "text": [
        "\n",
        "Latest Published DateTime 2013-12-08 10:12:00\n",
        "Completed Page 178"
       ]
      },
      {
       "output_type": "stream",
       "stream": "stdout",
       "text": [
        "\n",
        "Latest Published DateTime 2013-12-06 07:12:25\n",
        "Completed Page 179"
       ]
      },
      {
       "output_type": "stream",
       "stream": "stdout",
       "text": [
        "\n",
        "Latest Published DateTime 2013-12-05 06:12:44\n",
        "Completed Page 180"
       ]
      },
      {
       "output_type": "stream",
       "stream": "stdout",
       "text": [
        "\n",
        "Latest Published DateTime 2013-12-04 07:12:58\n",
        "Completed Page 181"
       ]
      },
      {
       "output_type": "stream",
       "stream": "stdout",
       "text": [
        "\n",
        "Latest Published DateTime 2013-12-03 08:12:45\n",
        "Completed Page 182"
       ]
      },
      {
       "output_type": "stream",
       "stream": "stdout",
       "text": [
        "\n",
        "Latest Published DateTime 2013-12-02 09:12:42\n",
        "Completed Page 183"
       ]
      },
      {
       "output_type": "stream",
       "stream": "stdout",
       "text": [
        "\n",
        "Latest Published DateTime 2013-11-29 10:11:13\n",
        "Completed Page 184"
       ]
      },
      {
       "output_type": "stream",
       "stream": "stdout",
       "text": [
        "\n",
        "Latest Published DateTime 2013-11-27 08:11:45\n",
        "Completed Page 185"
       ]
      },
      {
       "output_type": "stream",
       "stream": "stdout",
       "text": [
        "\n",
        "Latest Published DateTime 2013-11-26 05:11:57\n",
        "Completed Page 186"
       ]
      },
      {
       "output_type": "stream",
       "stream": "stdout",
       "text": [
        "\n",
        "Latest Published DateTime 2013-11-25 01:11:19\n",
        "Completed Page 187"
       ]
      },
      {
       "output_type": "stream",
       "stream": "stdout",
       "text": [
        "\n",
        "Latest Published DateTime 2013-11-22 07:11:54\n",
        "Completed Page 188"
       ]
      },
      {
       "output_type": "stream",
       "stream": "stdout",
       "text": [
        "\n",
        "Latest Published DateTime 2013-11-21 06:11:10\n",
        "Completed Page 189"
       ]
      },
      {
       "output_type": "stream",
       "stream": "stdout",
       "text": [
        "\n",
        "Latest Published DateTime 2013-11-20 08:11:38\n",
        "Completed Page 190"
       ]
      },
      {
       "output_type": "stream",
       "stream": "stdout",
       "text": [
        "\n",
        "Latest Published DateTime 2013-11-19 09:11:44\n",
        "Completed Page 191"
       ]
      },
      {
       "output_type": "stream",
       "stream": "stdout",
       "text": [
        "\n",
        "Latest Published DateTime 2013-11-18 09:11:53\n",
        "Completed Page 192"
       ]
      },
      {
       "output_type": "stream",
       "stream": "stdout",
       "text": [
        "\n",
        "Latest Published DateTime 2013-11-16 12:11:26\n",
        "Completed Page 193"
       ]
      },
      {
       "output_type": "stream",
       "stream": "stdout",
       "text": [
        "\n",
        "Latest Published DateTime 2013-11-14 04:11:16\n",
        "Completed Page 194"
       ]
      },
      {
       "output_type": "stream",
       "stream": "stdout",
       "text": [
        "\n",
        "Latest Published DateTime 2013-11-13 03:11:31\n",
        "Completed Page 195"
       ]
      },
      {
       "output_type": "stream",
       "stream": "stdout",
       "text": [
        "\n",
        "Latest Published DateTime 2013-11-13 05:11:07\n",
        "Completed Page 196"
       ]
      },
      {
       "output_type": "stream",
       "stream": "stdout",
       "text": [
        "\n",
        "Latest Published DateTime 2013-11-12 06:11:56\n",
        "Completed Page 197"
       ]
      },
      {
       "output_type": "stream",
       "stream": "stdout",
       "text": [
        "\n",
        "Latest Published DateTime 2013-11-11 07:11:03\n",
        "Completed Page 198"
       ]
      },
      {
       "output_type": "stream",
       "stream": "stdout",
       "text": [
        "\n",
        "Latest Published DateTime 2013-11-08 09:11:18\n",
        "Completed Page 199"
       ]
      },
      {
       "output_type": "stream",
       "stream": "stdout",
       "text": [
        "\n",
        "Latest Published DateTime 2013-11-07 08:11:10\n",
        "Completed Page 200"
       ]
      },
      {
       "output_type": "stream",
       "stream": "stdout",
       "text": [
        "\n",
        "Latest Published DateTime 2013-11-06 10:11:05\n",
        "Completed Page 201"
       ]
      },
      {
       "output_type": "stream",
       "stream": "stdout",
       "text": [
        "\n",
        "Latest Published DateTime 2013-11-05 02:11:16\n",
        "Completed Page 202"
       ]
      },
      {
       "output_type": "stream",
       "stream": "stdout",
       "text": [
        "\n",
        "Latest Published DateTime 2013-11-05 12:11:27\n",
        "Completed Page 203"
       ]
      },
      {
       "output_type": "stream",
       "stream": "stdout",
       "text": [
        "\n",
        "Latest Published DateTime 2013-11-04 02:11:13\n",
        "Completed Page 204"
       ]
      },
      {
       "output_type": "stream",
       "stream": "stdout",
       "text": [
        "\n",
        "Latest Published DateTime 2013-11-01 06:11:55\n",
        "Completed Page 205"
       ]
      },
      {
       "output_type": "stream",
       "stream": "stdout",
       "text": [
        "\n",
        "Latest Published DateTime 2013-10-31 05:10:40\n",
        "Completed Page 206"
       ]
      },
      {
       "output_type": "stream",
       "stream": "stdout",
       "text": [
        "\n",
        "Latest Published DateTime 2013-10-30 07:10:57\n",
        "Completed Page 207"
       ]
      },
      {
       "output_type": "stream",
       "stream": "stdout",
       "text": [
        "\n",
        "Latest Published DateTime 2013-10-29 07:10:13\n",
        "Completed Page 208"
       ]
      },
      {
       "output_type": "stream",
       "stream": "stdout",
       "text": [
        "\n",
        "Latest Published DateTime 2013-10-28 12:10:56\n",
        "Completed Page 209"
       ]
      },
      {
       "output_type": "stream",
       "stream": "stdout",
       "text": [
        "\n",
        "Latest Published DateTime 2013-10-28 05:10:25\n",
        "Completed Page 210"
       ]
      },
      {
       "output_type": "stream",
       "stream": "stdout",
       "text": [
        "\n",
        "Latest Published DateTime 2013-10-25 10:10:37\n",
        "Completed Page 211"
       ]
      },
      {
       "output_type": "stream",
       "stream": "stdout",
       "text": [
        "\n",
        "Latest Published DateTime 2013-10-24 01:10:38\n",
        "Completed Page 212"
       ]
      },
      {
       "output_type": "stream",
       "stream": "stdout",
       "text": [
        "\n",
        "Latest Published DateTime 2013-10-23 10:10:16\n",
        "Completed Page 213"
       ]
      },
      {
       "output_type": "stream",
       "stream": "stdout",
       "text": [
        "\n",
        "Latest Published DateTime 2013-10-22 12:10:38\n",
        "Completed Page 214"
       ]
      },
      {
       "output_type": "stream",
       "stream": "stdout",
       "text": [
        "\n",
        "Latest Published DateTime 2013-10-22 12:10:51\n",
        "Completed Page 215"
       ]
      },
      {
       "output_type": "stream",
       "stream": "stdout",
       "text": [
        "\n",
        "Latest Published DateTime 2013-10-21 05:10:16\n",
        "Completed Page 216"
       ]
      },
      {
       "output_type": "stream",
       "stream": "stdout",
       "text": [
        "\n",
        "Latest Published DateTime 2013-10-18 07:10:37\n",
        "Completed Page 217"
       ]
      },
      {
       "output_type": "stream",
       "stream": "stdout",
       "text": [
        "\n",
        "Latest Published DateTime 2013-10-17 11:10:24\n",
        "Completed Page 218"
       ]
      },
      {
       "output_type": "stream",
       "stream": "stdout",
       "text": [
        "\n",
        "Latest Published DateTime 2013-10-16 02:10:39\n",
        "Completed Page 219"
       ]
      },
      {
       "output_type": "stream",
       "stream": "stdout",
       "text": [
        "\n",
        "Latest Published DateTime 2013-10-16 05:10:05\n",
        "Completed Page 220"
       ]
      },
      {
       "output_type": "stream",
       "stream": "stdout",
       "text": [
        "\n",
        "Latest Published DateTime 2013-10-15 07:10:00\n",
        "Completed Page 221"
       ]
      },
      {
       "output_type": "stream",
       "stream": "stdout",
       "text": [
        "\n",
        "Latest Published DateTime 2013-10-14 08:10:04\n",
        "Completed Page 222"
       ]
      },
      {
       "output_type": "stream",
       "stream": "stdout",
       "text": [
        "\n",
        "Latest Published DateTime 2013-10-11 12:10:51\n",
        "Completed Page 223"
       ]
      },
      {
       "output_type": "stream",
       "stream": "stdout",
       "text": [
        "\n",
        "Latest Published DateTime 2013-10-10 02:10:15\n",
        "Completed Page 224"
       ]
      },
      {
       "output_type": "stream",
       "stream": "stdout",
       "text": [
        "\n",
        "Latest Published DateTime 2013-10-10 04:10:43\n",
        "Completed Page 225"
       ]
      },
      {
       "output_type": "stream",
       "stream": "stdout",
       "text": [
        "\n",
        "Latest Published DateTime 2013-10-09 06:10:34\n",
        "Completed Page 226"
       ]
      },
      {
       "output_type": "stream",
       "stream": "stdout",
       "text": [
        "\n",
        "Latest Published DateTime 2013-10-08 08:10:24\n",
        "Completed Page 227"
       ]
      },
      {
       "output_type": "stream",
       "stream": "stdout",
       "text": [
        "\n",
        "Latest Published DateTime 2013-10-07 01:10:36\n",
        "Completed Page 228"
       ]
      },
      {
       "output_type": "stream",
       "stream": "stdout",
       "text": [
        "\n",
        "Latest Published DateTime 2013-10-07 01:10:58\n",
        "Completed Page 229"
       ]
      },
      {
       "output_type": "stream",
       "stream": "stdout",
       "text": [
        "\n",
        "Latest Published DateTime 2013-10-04 07:10:40\n",
        "Completed Page 230"
       ]
      },
      {
       "output_type": "stream",
       "stream": "stdout",
       "text": [
        "\n",
        "Latest Published DateTime 2013-10-03 09:10:36\n",
        "Completed Page 231"
       ]
      },
      {
       "output_type": "stream",
       "stream": "stdout",
       "text": [
        "\n",
        "Latest Published DateTime 2013-10-02 11:10:30\n",
        "Completed Page 232"
       ]
      },
      {
       "output_type": "stream",
       "stream": "stdout",
       "text": [
        "\n",
        "Latest Published DateTime 2013-10-01 09:10:39\n",
        "Completed Page 233"
       ]
      },
      {
       "output_type": "stream",
       "stream": "stdout",
       "text": [
        "\n",
        "Latest Published DateTime 2013-10-01 05:10:01\n",
        "Completed Page 234"
       ]
      },
      {
       "output_type": "stream",
       "stream": "stdout",
       "text": [
        "\n",
        "Latest Published DateTime 2013-09-30 07:09:58\n",
        "Completed Page 235"
       ]
      },
      {
       "output_type": "stream",
       "stream": "stdout",
       "text": [
        "\n",
        "Latest Published DateTime 2013-09-27 11:09:21\n",
        "Completed Page 236"
       ]
      },
      {
       "output_type": "stream",
       "stream": "stdout",
       "text": [
        "\n",
        "Latest Published DateTime 2013-09-26 12:09:31\n",
        "Completed Page 237"
       ]
      },
      {
       "output_type": "stream",
       "stream": "stdout",
       "text": [
        "\n",
        "Latest Published DateTime 2013-09-26 05:09:06\n",
        "Completed Page 238"
       ]
      },
      {
       "output_type": "stream",
       "stream": "stdout",
       "text": [
        "\n",
        "Latest Published DateTime 2013-09-25 09:09:36\n",
        "Completed Page 239"
       ]
      },
      {
       "output_type": "stream",
       "stream": "stdout",
       "text": [
        "\n",
        "Latest Published DateTime 2013-09-24 11:09:44\n",
        "Completed Page 240"
       ]
      },
      {
       "output_type": "stream",
       "stream": "stdout",
       "text": [
        "\n",
        "Latest Published DateTime 2013-09-23 02:09:09\n",
        "Completed Page 241"
       ]
      },
      {
       "output_type": "stream",
       "stream": "stdout",
       "text": [
        "\n",
        "Latest Published DateTime 2013-09-23 02:09:50\n",
        "Completed Page 242"
       ]
      },
      {
       "output_type": "stream",
       "stream": "stdout",
       "text": [
        "\n",
        "Latest Published DateTime 2013-09-20 08:09:11\n",
        "Completed Page 243"
       ]
      },
      {
       "output_type": "stream",
       "stream": "stdout",
       "text": [
        "\n",
        "Latest Published DateTime 2013-09-19 08:09:01\n",
        "Completed Page 244"
       ]
      },
      {
       "output_type": "stream",
       "stream": "stdout",
       "text": [
        "\n",
        "Latest Published DateTime 2013-09-18 10:09:11\n",
        "Completed Page 245"
       ]
      },
      {
       "output_type": "stream",
       "stream": "stdout",
       "text": [
        "\n",
        "Latest Published DateTime 2013-09-18 02:09:06\n",
        "Completed Page 246"
       ]
      },
      {
       "output_type": "stream",
       "stream": "stdout",
       "text": [
        "\n",
        "Latest Published DateTime 2013-09-17 06:09:11\n",
        "Completed Page 247"
       ]
      },
      {
       "output_type": "stream",
       "stream": "stdout",
       "text": [
        "\n",
        "Latest Published DateTime 2013-09-16 05:09:31\n",
        "Completed Page 248"
       ]
      },
      {
       "output_type": "stream",
       "stream": "stdout",
       "text": [
        "\n",
        "Latest Published DateTime 2013-09-16 01:09:19\n"
       ]
      }
     ],
     "prompt_number": 21
    },
    {
     "cell_type": "code",
     "collapsed": false,
     "input": [],
     "language": "python",
     "metadata": {},
     "outputs": []
    }
   ],
   "metadata": {}
  }
 ]
}