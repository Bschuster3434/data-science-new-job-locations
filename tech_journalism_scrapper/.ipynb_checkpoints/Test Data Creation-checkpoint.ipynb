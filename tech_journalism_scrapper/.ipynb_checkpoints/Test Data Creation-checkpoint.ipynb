{
 "metadata": {
  "name": ""
 },
 "nbformat": 3,
 "nbformat_minor": 0,
 "worksheets": [
  {
   "cells": [
    {
     "cell_type": "code",
     "collapsed": false,
     "input": [
      "import pandas as pd\n",
      "import numpy as np\n",
      "from pandas import DataFrame, Series"
     ],
     "language": "python",
     "metadata": {},
     "outputs": [],
     "prompt_number": 1
    },
    {
     "cell_type": "code",
     "collapsed": false,
     "input": [
      "output_dir = \"testing_data\"\n",
      "f_input = \"test_output_250_found_loc_only.csv\"\n",
      "df = DataFrame.from_csv(f_input, index_col=False) #Added Created Test Data and made sentences into column (non-index field)\n",
      "df_found = df[np.isfinite(df[\"Correct?\"])] #Eliminate fields that did not have a match to any known locations\n",
      "df_found = df_found.reindex(np.random.permutation(df_found.index)) #Randomize list by index (numerical list)"
     ],
     "language": "python",
     "metadata": {},
     "outputs": [],
     "prompt_number": 2
    },
    {
     "cell_type": "code",
     "collapsed": false,
     "input": [
      "l = len(df_found)\n",
      "train = df_found.iloc[:np.floor(l * .6)] #60% to Training Set\n",
      "test = df_found.iloc[np.floor(l * .6):np.floor(l * .8)] #20% to Test Set\n",
      "validate = df_found.iloc[np.floor(l * .8):] #20% to Validation Set"
     ],
     "language": "python",
     "metadata": {},
     "outputs": [],
     "prompt_number": 3
    },
    {
     "cell_type": "code",
     "collapsed": false,
     "input": [
      "#Created 3 csv's in their respective buckets\n",
      "train.to_csv(output_dir + r\"\\train.csv\", index=False)\n",
      "test.to_csv(output_dir + r\"\\test.csv\", index=False)\n",
      "validate.to_csv(output_dir + r\"\\validate.csv\", index=False)"
     ],
     "language": "python",
     "metadata": {},
     "outputs": [],
     "prompt_number": 4
    },
    {
     "cell_type": "code",
     "collapsed": false,
     "input": [],
     "language": "python",
     "metadata": {},
     "outputs": []
    }
   ],
   "metadata": {}
  }
 ]
}