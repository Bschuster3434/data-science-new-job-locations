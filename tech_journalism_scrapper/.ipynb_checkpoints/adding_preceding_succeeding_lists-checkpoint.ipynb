{
 "metadata": {
  "name": ""
 },
 "nbformat": 3,
 "nbformat_minor": 0,
 "worksheets": [
  {
   "cells": [
    {
     "cell_type": "code",
     "collapsed": false,
     "input": [
      "import pandas as pd\n",
      "import numpy as np\n",
      "from pandas import DataFrame, Series\n",
      "from sklearn.feature_extraction.text import CountVectorizer\n",
      "from sklearn.cluster import KMeans\n",
      "from scipy.cluster.vq import whiten\n",
      "from nltk import word_tokenize"
     ],
     "language": "python",
     "metadata": {},
     "outputs": [],
     "prompt_number": 10
    },
    {
     "cell_type": "code",
     "collapsed": false,
     "input": [
      "train_file = r\"test_output_250_articles.csv\""
     ],
     "language": "python",
     "metadata": {},
     "outputs": [],
     "prompt_number": 11
    },
    {
     "cell_type": "code",
     "collapsed": false,
     "input": [
      "train = DataFrame.from_csv(train_file, index_col=False)"
     ],
     "language": "python",
     "metadata": {},
     "outputs": [],
     "prompt_number": 12
    },
    {
     "cell_type": "code",
     "collapsed": false,
     "input": [
      "train = train[np.isfinite(train[\"Correct?\"])]"
     ],
     "language": "python",
     "metadata": {},
     "outputs": [],
     "prompt_number": 13
    },
    {
     "cell_type": "code",
     "collapsed": false,
     "input": [
      "train.groupby(\"Correct?\").count()"
     ],
     "language": "python",
     "metadata": {},
     "outputs": [
      {
       "html": [
        "<div style=\"max-height:1000px;max-width:1500px;overflow:auto;\">\n",
        "<table border=\"1\" class=\"dataframe\">\n",
        "  <thead>\n",
        "    <tr style=\"text-align: right;\">\n",
        "      <th></th>\n",
        "      <th>Sentence</th>\n",
        "      <th>Location</th>\n",
        "      <th>Correct?</th>\n",
        "      <th>StartLoc</th>\n",
        "      <th>EndLoc</th>\n",
        "    </tr>\n",
        "    <tr>\n",
        "      <th>Correct?</th>\n",
        "      <th></th>\n",
        "      <th></th>\n",
        "      <th></th>\n",
        "      <th></th>\n",
        "      <th></th>\n",
        "    </tr>\n",
        "  </thead>\n",
        "  <tbody>\n",
        "    <tr>\n",
        "      <th>0</th>\n",
        "      <td> 1049</td>\n",
        "      <td> 1049</td>\n",
        "      <td> 1049</td>\n",
        "      <td> 1049</td>\n",
        "      <td> 1049</td>\n",
        "    </tr>\n",
        "    <tr>\n",
        "      <th>1</th>\n",
        "      <td>  396</td>\n",
        "      <td>  396</td>\n",
        "      <td>  396</td>\n",
        "      <td>  396</td>\n",
        "      <td>  396</td>\n",
        "    </tr>\n",
        "  </tbody>\n",
        "</table>\n",
        "<p>2 rows \u00d7 5 columns</p>\n",
        "</div>"
       ],
       "metadata": {},
       "output_type": "pyout",
       "prompt_number": 23,
       "text": [
        "          Sentence  Location  Correct?  StartLoc  EndLoc\n",
        "Correct?                                                \n",
        "0             1049      1049      1049      1049    1049\n",
        "1              396       396       396       396     396\n",
        "\n",
        "[2 rows x 5 columns]"
       ]
      }
     ],
     "prompt_number": 23
    },
    {
     "cell_type": "code",
     "collapsed": false,
     "input": [
      "train.loc[train[\"Correct?\"] == 9, \"Correct?\"] = 0"
     ],
     "language": "python",
     "metadata": {},
     "outputs": [],
     "prompt_number": 22
    },
    {
     "cell_type": "code",
     "collapsed": false,
     "input": [
      "train.head()"
     ],
     "language": "python",
     "metadata": {},
     "outputs": [
      {
       "html": [
        "<div style=\"max-height:1000px;max-width:1500px;overflow:auto;\">\n",
        "<table border=\"1\" class=\"dataframe\">\n",
        "  <thead>\n",
        "    <tr style=\"text-align: right;\">\n",
        "      <th></th>\n",
        "      <th>Sentence</th>\n",
        "      <th>Location</th>\n",
        "      <th>Correct?</th>\n",
        "      <th>StartLoc</th>\n",
        "      <th>EndLoc</th>\n",
        "    </tr>\n",
        "  </thead>\n",
        "  <tbody>\n",
        "    <tr>\n",
        "      <th>4 </th>\n",
        "      <td> In a speech before the CTIA Tuesday, FCC Chair...</td>\n",
        "      <td> Wheeler</td>\n",
        "      <td> 0</td>\n",
        "      <td> 11</td>\n",
        "      <td> 11</td>\n",
        "    </tr>\n",
        "    <tr>\n",
        "      <th>5 </th>\n",
        "      <td> And many in DC are heartened by Wheeler s comm...</td>\n",
        "      <td> Wheeler</td>\n",
        "      <td> 0</td>\n",
        "      <td>  7</td>\n",
        "      <td>  7</td>\n",
        "    </tr>\n",
        "    <tr>\n",
        "      <th>6 </th>\n",
        "      <td> Wheeler is really from the Ben Bernanke school...</td>\n",
        "      <td>  Harold</td>\n",
        "      <td> 0</td>\n",
        "      <td> 17</td>\n",
        "      <td> 17</td>\n",
        "    </tr>\n",
        "    <tr>\n",
        "      <th>7 </th>\n",
        "      <td> Wheeler is really from the Ben Bernanke school...</td>\n",
        "      <td> Wheeler</td>\n",
        "      <td> 0</td>\n",
        "      <td>  0</td>\n",
        "      <td>  0</td>\n",
        "    </tr>\n",
        "    <tr>\n",
        "      <th>18</th>\n",
        "      <td> Thanks to John Oliver s rant, the average cons...</td>\n",
        "      <td>  Oliver</td>\n",
        "      <td> 0</td>\n",
        "      <td>  3</td>\n",
        "      <td>  3</td>\n",
        "    </tr>\n",
        "  </tbody>\n",
        "</table>\n",
        "<p>5 rows \u00d7 5 columns</p>\n",
        "</div>"
       ],
       "metadata": {},
       "output_type": "pyout",
       "prompt_number": 24,
       "text": [
        "                                             Sentence Location  Correct?  \\\n",
        "4   In a speech before the CTIA Tuesday, FCC Chair...  Wheeler         0   \n",
        "5   And many in DC are heartened by Wheeler s comm...  Wheeler         0   \n",
        "6   Wheeler is really from the Ben Bernanke school...   Harold         0   \n",
        "7   Wheeler is really from the Ben Bernanke school...  Wheeler         0   \n",
        "18  Thanks to John Oliver s rant, the average cons...   Oliver         0   \n",
        "\n",
        "    StartLoc  EndLoc  \n",
        "4         11      11  \n",
        "5          7       7  \n",
        "6         17      17  \n",
        "7          0       0  \n",
        "18         3       3  \n",
        "\n",
        "[5 rows x 5 columns]"
       ]
      }
     ],
     "prompt_number": 24
    },
    {
     "cell_type": "code",
     "collapsed": false,
     "input": [
      "def n_features_grabber(sentence, start, end, n = 5):\n",
      "    tok_sent = word_tokenize(sentence)\n",
      "    if start < n:\n",
      "        preceding = tok_sent[ : start] # If the start word is less n, then we return the whole beginning of the sentence\n",
      "    else:\n",
      "        preceding = tok_sent[ (start - n) : start]\n",
      "    if n + end > (len(sentence) - 1):\n",
      "        succedding = tok_sent[ (end + 1): ]\n",
      "    else:\n",
      "        succedding = tok_sent[ (end + 1) : (end + n + 1)]\n",
      "    return (preceding, succedding)"
     ],
     "language": "python",
     "metadata": {},
     "outputs": [],
     "prompt_number": 25
    },
    {
     "cell_type": "code",
     "collapsed": false,
     "input": [
      "pre_list = []\n",
      "suc_list = []\n",
      "for record in train.iterrows() :\n",
      "    sent = record[1][\"Sentence\"]\n",
      "    StartLoc = record[1][\"StartLoc\"]\n",
      "    EndLoc = record[1][\"EndLoc\"]\n",
      "    pre, suc = n_features_grabber(sent, StartLoc, EndLoc)\n",
      "    pre_list.append(pre)\n",
      "    suc_list.append(suc)"
     ],
     "language": "python",
     "metadata": {},
     "outputs": [],
     "prompt_number": 26
    },
    {
     "cell_type": "code",
     "collapsed": false,
     "input": [
      "def test():\n",
      "    sent = \"This is the test sentence for my words.\"\n",
      "    assert n_features_grabber(sent, 2, 2, n = 1) \n",
      "    assert n_features_grabber(sent, 2, 2, n = 1) == ([\"is\"], [\"test\"])\n",
      "    assert n_features_grabber(sent, 4, 5, n = 2) == ([\"the\", \"test\"], [\"my\", \"words\"])\n",
      "    assert n_features_grabber(sent, 0, 0, n = 1) == ([], [\"is\"])\n",
      "    assert n_features_grabber(sent, 7, 7, n = 3) == ([\"sentence\", \"for\", \"my\"], [\".\"])\n",
      "    assert n_features_grabber(sent, 8,8) == ([\"test\", \"sentence\", \"for\", \"my\", \"words\"], [])\n",
      "    return \"Test Passed!\"\n",
      "\n",
      "test()"
     ],
     "language": "python",
     "metadata": {},
     "outputs": [
      {
       "output_type": "stream",
       "stream": "stdout",
       "text": [
        "(['test', 'sentence', 'for', 'my', 'words'], [])\n"
       ]
      },
      {
       "metadata": {},
       "output_type": "pyout",
       "prompt_number": 45,
       "text": [
        "'Test Passed!'"
       ]
      }
     ],
     "prompt_number": 45
    },
    {
     "cell_type": "code",
     "collapsed": false,
     "input": [
      "train[\"Preceding_List\"] = pre_list\n",
      "train[\"Succeeding_List\"] = suc_list"
     ],
     "language": "python",
     "metadata": {},
     "outputs": [],
     "prompt_number": 35
    },
    {
     "cell_type": "code",
     "collapsed": false,
     "input": [
      "n = train.columns[:6] + train.columns[7:]\n",
      "train = train[n]"
     ],
     "language": "python",
     "metadata": {},
     "outputs": [],
     "prompt_number": 38
    },
    {
     "cell_type": "code",
     "collapsed": false,
     "input": [
      "train = train[[\"Sentence\", \"Location\", \"Correct?\", \"StartLoc\", \"EndLoc\", \"Preceding_List\", \"Succeeding_List\"]]"
     ],
     "language": "python",
     "metadata": {},
     "outputs": [],
     "prompt_number": 43
    },
    {
     "cell_type": "code",
     "collapsed": false,
     "input": [
      "train.to_csv(\"test_output_250_found_loc_only.csv\", index=False)"
     ],
     "language": "python",
     "metadata": {},
     "outputs": [],
     "prompt_number": 45
    },
    {
     "cell_type": "code",
     "collapsed": false,
     "input": [],
     "language": "python",
     "metadata": {},
     "outputs": []
    }
   ],
   "metadata": {}
  }
 ]
}