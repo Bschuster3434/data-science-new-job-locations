{
 "metadata": {
  "name": ""
 },
 "nbformat": 3,
 "nbformat_minor": 0,
 "worksheets": [
  {
   "cells": [
    {
     "cell_type": "raw",
     "metadata": {},
     "source": [
      "This is the script that takes the list of found locations and uses a bag of words ML model to see how accurately we can identify mis-identified locations.\n",
      "\n",
      "At this time, this research does not look promising. Less than half of the results are coming up with accurate predictions."
     ]
    },
    {
     "cell_type": "code",
     "collapsed": false,
     "input": [
      "import pandas as pd\n",
      "import numpy as np\n",
      "from pandas import DataFrame, Series"
     ],
     "language": "python",
     "metadata": {},
     "outputs": [],
     "prompt_number": 27
    },
    {
     "cell_type": "code",
     "collapsed": false,
     "input": [
      "train_csv = \"testing_data/train.csv\"\n",
      "train = DataFrame.from_csv(train_csv, index_col=False)\n",
      "#Splitting the training data into \"correct\" locations and \"incorrect\" locations\n",
      "correct = train[train[\"Correct?\"] == 1]\n",
      "incorrect = train[train[\"Correct?\"] == 0]"
     ],
     "language": "python",
     "metadata": {},
     "outputs": [],
     "prompt_number": 28
    },
    {
     "cell_type": "code",
     "collapsed": false,
     "input": [
      "def create_frequency(words):\n",
      "    \"\"\"\n",
      "    Given a list of words, this function creates a frequency \n",
      "    dictionary. The frequency is defined as the total count\n",
      "    of objects found divided by the total length of the\n",
      "    list.\n",
      "    \"\"\"\n",
      "    vocab = set(words)\n",
      "    list_len = len(words)\n",
      "    freq_dict = {}\n",
      "    for w in vocab:\n",
      "        count = words.count(w)\n",
      "        freq = count/float(list_len)\n",
      "        freq_dict[w] = freq\n",
      "    return freq_dict"
     ],
     "language": "python",
     "metadata": {},
     "outputs": [],
     "prompt_number": 29
    },
    {
     "cell_type": "code",
     "collapsed": false,
     "input": [
      "def flatten(lol):\n",
      "    \"\"\"\n",
      "    Takes a list of lists and flattens it into\n",
      "    a single dimension list.\n",
      "    \"\"\"\n",
      "    str_list = [str(string).split() for string in lol]\n",
      "    flat_list = [ a for i in str_list for a in i]\n",
      "    return flat_list"
     ],
     "language": "python",
     "metadata": {},
     "outputs": [],
     "prompt_number": 30
    },
    {
     "cell_type": "code",
     "collapsed": false,
     "input": [
      "def predict_correct(word_list):\n",
      "    \"\"\"\n",
      "    For each word in a given set of words, we calculate\n",
      "    the likelihood that the word list is associated\n",
      "    with a mis-identified location or not.\n",
      "    \n",
      "    If the total frequency 'score' for correct is greater\n",
      "    than incorrect, we predict correct. If the opposite is\n",
      "    true, predict correct. If no score was accumulated for\n",
      "    either correct or incorrect, return None.\n",
      "    \n",
      "    Each word is given a score based on the likelihood of\n",
      "    each word to be associated with the correct/incorrect\n",
      "    word list.\n",
      "    \"\"\"\n",
      "    incorrect = 0\n",
      "    correct = 0\n",
      "    for word in word_list:\n",
      "        try:\n",
      "            perc_corr = correct_dict[word]\n",
      "        except KeyError:\n",
      "            perc_corr = 0\n",
      "        correct += perc_corr\n",
      "        try:\n",
      "            perc_incorr = incorrect_dict[word]\n",
      "        except KeyError:\n",
      "            perc_incorr = 0\n",
      "        incorrect += perc_incorr\n",
      "        \n",
      "    if correct > incorrect:\n",
      "        return 1\n",
      "    elif correct < incorrect:\n",
      "        return 0\n",
      "    else:\n",
      "        return None    "
     ],
     "language": "python",
     "metadata": {},
     "outputs": [],
     "prompt_number": 31
    },
    {
     "cell_type": "code",
     "collapsed": false,
     "input": [
      "#Grabbing the Test set\n",
      "test_csv = \"testing_data/test.csv\"\n",
      "test = DataFrame.from_csv(test_csv, index_col=False)\n",
      "test = test.fillna(\"\")"
     ],
     "language": "python",
     "metadata": {},
     "outputs": [],
     "prompt_number": 33
    },
    {
     "cell_type": "code",
     "collapsed": false,
     "input": [
      "#Flattening the word lists and creating frequency dictionaries\n",
      "def run_bow_on_data(test, pre_or_suc):  \n",
      "    correct_word_list = flatten(correct[pre_or_suc])\n",
      "    incorrect_word_list = flatten(incorrect[pre_or_suc])\n",
      "    correct_dict = create_frequency(correct_word_list)\n",
      "    incorrect_dict = create_frequency(incorrect_word_list)\n",
      "\n",
      "    prediction_list = []\n",
      "    for i in test.index:\n",
      "        prec_word_list = test.loc[i][pre_or_suc]\n",
      "        if prec_word_list is np.nan:\n",
      "            prec_word_list = [\" \"]\n",
      "        prediction = predict_correct(prec_word_list)\n",
      "        prediction_list.append(prediction)\n",
      "    test[\"Prediction\"] = prediction_list\n",
      "\n",
      "    test = test[np.isfinite(test[\"Prediction\"])]\n",
      "    test[\"Correct Prediction\"] = test[\"Correct?\"] == test[\"Prediction\"]\n",
      "    return test.groupby(\"Correct Prediction\").count()"
     ],
     "language": "python",
     "metadata": {},
     "outputs": [],
     "prompt_number": 50
    },
    {
     "cell_type": "code",
     "collapsed": false,
     "input": [
      "run_bow_on_data(test, \"Succeeding_List\")"
     ],
     "language": "python",
     "metadata": {},
     "outputs": [
      {
       "output_type": "stream",
       "stream": "stderr",
       "text": [
        "-c:18: SettingWithCopyWarning: A value is trying to be set on a copy of a slice from a DataFrame.\n",
        "Try using .loc[row_index,col_indexer] = value instead\n"
       ]
      },
      {
       "html": [
        "<div style=\"max-height:1000px;max-width:1500px;overflow:auto;\">\n",
        "<table border=\"1\" class=\"dataframe\">\n",
        "  <thead>\n",
        "    <tr style=\"text-align: right;\">\n",
        "      <th></th>\n",
        "      <th>Sentence</th>\n",
        "      <th>Location</th>\n",
        "      <th>Correct?</th>\n",
        "      <th>StartLoc</th>\n",
        "      <th>EndLoc</th>\n",
        "      <th>Preceding_List</th>\n",
        "      <th>Succeeding_List</th>\n",
        "      <th>Prediction</th>\n",
        "      <th>Correct Prediction</th>\n",
        "    </tr>\n",
        "    <tr>\n",
        "      <th>Correct Prediction</th>\n",
        "      <th></th>\n",
        "      <th></th>\n",
        "      <th></th>\n",
        "      <th></th>\n",
        "      <th></th>\n",
        "      <th></th>\n",
        "      <th></th>\n",
        "      <th></th>\n",
        "      <th></th>\n",
        "    </tr>\n",
        "  </thead>\n",
        "  <tbody>\n",
        "    <tr>\n",
        "      <th>False</th>\n",
        "      <td> 124</td>\n",
        "      <td> 124</td>\n",
        "      <td> 124</td>\n",
        "      <td> 124</td>\n",
        "      <td> 124</td>\n",
        "      <td> 124</td>\n",
        "      <td> 124</td>\n",
        "      <td> 124</td>\n",
        "      <td> 124</td>\n",
        "    </tr>\n",
        "    <tr>\n",
        "      <th>True </th>\n",
        "      <td>  96</td>\n",
        "      <td>  96</td>\n",
        "      <td>  96</td>\n",
        "      <td>  96</td>\n",
        "      <td>  96</td>\n",
        "      <td>  96</td>\n",
        "      <td>  96</td>\n",
        "      <td>  96</td>\n",
        "      <td>  96</td>\n",
        "    </tr>\n",
        "  </tbody>\n",
        "</table>\n",
        "<p>2 rows \u00d7 9 columns</p>\n",
        "</div>"
       ],
       "metadata": {},
       "output_type": "pyout",
       "prompt_number": 52,
       "text": [
        "                    Sentence  Location  Correct?  StartLoc  EndLoc  \\\n",
        "Correct Prediction                                                   \n",
        "False                    124       124       124       124     124   \n",
        "True                      96        96        96        96      96   \n",
        "\n",
        "                    Preceding_List  Succeeding_List  Prediction  \\\n",
        "Correct Prediction                                                \n",
        "False                          124              124         124   \n",
        "True                            96               96          96   \n",
        "\n",
        "                    Correct Prediction  \n",
        "Correct Prediction                      \n",
        "False                              124  \n",
        "True                                96  \n",
        "\n",
        "[2 rows x 9 columns]"
       ]
      }
     ],
     "prompt_number": 52
    },
    {
     "cell_type": "code",
     "collapsed": false,
     "input": [],
     "language": "python",
     "metadata": {},
     "outputs": []
    }
   ],
   "metadata": {}
  }
 ]
}