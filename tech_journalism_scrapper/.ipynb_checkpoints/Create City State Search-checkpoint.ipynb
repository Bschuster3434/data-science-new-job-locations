{
 "metadata": {
  "name": ""
 },
 "nbformat": 3,
 "nbformat_minor": 0,
 "worksheets": [
  {
   "cells": [
    {
     "cell_type": "code",
     "collapsed": false,
     "input": [
      "import pandas as pd\n",
      "import numpy as np\n",
      "from pandas import DataFrame, Series\n",
      "from bs4 import BeautifulSoup\n",
      "import urllib2\n",
      "import datetime\n",
      "import sqlite3\n",
      "import time\n",
      "import os\n",
      "import pickle\n",
      "import re"
     ],
     "language": "python",
     "metadata": {},
     "outputs": [],
     "prompt_number": 1
    },
    {
     "cell_type": "code",
     "collapsed": false,
     "input": [
      "coors_path = os.path.abspath(os.path.join(os.path.dirname(os.getcwd()), '..', 'data-science-new-job-locations\\\\inc_5000_cities\\\\city_state_coors.pickle'))\n",
      "with open(coors_path, 'rb') as coors_file:\n",
      "    coors = pickle.load(coors_file)"
     ],
     "language": "python",
     "metadata": {},
     "outputs": [],
     "prompt_number": 2
    },
    {
     "cell_type": "code",
     "collapsed": false,
     "input": [
      "states = {\n",
      "        'AK': 'Alaska',\n",
      "        'AL': 'Alabama',\n",
      "        'AR': 'Arkansas',\n",
      "        'AS': 'American Samoa',\n",
      "        'AZ': 'Arizona',\n",
      "        'CA': 'California',\n",
      "        'CO': 'Colorado',\n",
      "        'CT': 'Connecticut',\n",
      "        'DC': 'District of Columbia',\n",
      "        'DE': 'Delaware',\n",
      "        'FL': 'Florida',\n",
      "        'GA': 'Georgia',\n",
      "        'GU': 'Guam',\n",
      "        'HI': 'Hawaii',\n",
      "        'IA': 'Iowa',\n",
      "        'ID': 'Idaho',\n",
      "        'IL': 'Illinois',\n",
      "        'IN': 'Indiana',\n",
      "        'KS': 'Kansas',\n",
      "        'KY': 'Kentucky',\n",
      "        'LA': 'Louisiana',\n",
      "        'MA': 'Massachusetts',\n",
      "        'MD': 'Maryland',\n",
      "        'ME': 'Maine',\n",
      "        'MI': 'Michigan',\n",
      "        'MN': 'Minnesota',\n",
      "        'MO': 'Missouri',\n",
      "        'MP': 'Northern Mariana Islands',\n",
      "        'MS': 'Mississippi',\n",
      "        'MT': 'Montana',\n",
      "        'NA': 'National',\n",
      "        'NC': 'North Carolina',\n",
      "        'ND': 'North Dakota',\n",
      "        'NE': 'Nebraska',\n",
      "        'NH': 'New Hampshire',\n",
      "        'NJ': 'New Jersey',\n",
      "        'NM': 'New Mexico',\n",
      "        'NV': 'Nevada',\n",
      "        'NY': 'New York',\n",
      "        'OH': 'Ohio',\n",
      "        'OK': 'Oklahoma',\n",
      "        'OR': 'Oregon',\n",
      "        'PA': 'Pennsylvania',\n",
      "        'PR': 'Puerto Rico',\n",
      "        'RI': 'Rhode Island',\n",
      "        'SC': 'South Carolina',\n",
      "        'SD': 'South Dakota',\n",
      "        'TN': 'Tennessee',\n",
      "        'TX': 'Texas',\n",
      "        'UT': 'Utah',\n",
      "        'VA': 'Virginia',\n",
      "        'VI': 'Virgin Islands',\n",
      "        'VT': 'Vermont',\n",
      "        'WA': 'Washington',\n",
      "        'WI': 'Wisconsin',\n",
      "        'WV': 'West Virginia',\n",
      "        'WY': 'Wyoming'\n",
      "}\n"
     ],
     "language": "python",
     "metadata": {},
     "outputs": [],
     "prompt_number": 35
    },
    {
     "cell_type": "code",
     "collapsed": false,
     "input": [
      "for keys in coors: print coors[key]; break"
     ],
     "language": "python",
     "metadata": {},
     "outputs": [
      {
       "output_type": "stream",
       "stream": "stdout",
       "text": [
        "{'lat': 40.88537729999999, 'city': 'Englewood Cliffs', 'state': 'NJ', 'lon': -73.9523597, 'city_state': 'Englewood Cliffs, NJ'}\n"
       ]
      }
     ],
     "prompt_number": 67
    },
    {
     "cell_type": "code",
     "collapsed": false,
     "input": [
      "cs_lookup = {}\n",
      "for key in coors.iterkeys():\n",
      "    nk_ccsa = re.sub('\\+', ' ', key) ##City Comma State Abbreviate\n",
      "    nk_cnsa = re.sub(',', '', nk_ccsa) ##City No-Comma State Abbreviate\n",
      "    \n",
      "    full_state = states[key[key.find(',') + 2:]]\n",
      "    nk_ccsf = nk_ccsa[:key.find(',') + 2] + full_state ##City Comma State Full\n",
      "    nk_cnsf = nk_cnsa[:key.find(',') + 1] + full_state ##City No-Comma State Full\n",
      "    \n",
      "    cs_vars = [nk_ccsa, nk_ccsf, nk_cnsa, nk_cnsf]\n",
      "    \n",
      "    for variation in cs_vars:\n",
      "        cs_lookup[variation] = key"
     ],
     "language": "python",
     "metadata": {},
     "outputs": [],
     "prompt_number": 61
    }
   ],
   "metadata": {}
  }
 ]
}