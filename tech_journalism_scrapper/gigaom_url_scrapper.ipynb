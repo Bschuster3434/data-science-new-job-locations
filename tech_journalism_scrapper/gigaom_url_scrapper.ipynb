{
 "metadata": {
  "name": ""
 },
 "nbformat": 3,
 "nbformat_minor": 0,
 "worksheets": [
  {
   "cells": [
    {
     "cell_type": "code",
     "collapsed": false,
     "input": [
      "import pandas as pd\n",
      "import numpy as np\n",
      "from pandas import DataFrame, Series\n",
      "from bs4 import BeautifulSoup\n",
      "import urllib2\n",
      "import datetime"
     ],
     "language": "python",
     "metadata": {},
     "outputs": [],
     "prompt_number": 1
    },
    {
     "cell_type": "code",
     "collapsed": false,
     "input": [
      "website = \"https://gigaom.com\"\n",
      "next_page = \"/page/\"\n",
      "start_next_page = 2"
     ],
     "language": "python",
     "metadata": {},
     "outputs": [],
     "prompt_number": 36
    },
    {
     "cell_type": "code",
     "collapsed": false,
     "input": [
      "response = urllib2.urlopen(website)\n",
      "page = response.read()\n",
      "time_collected = datetime.datetime.now()\n",
      "response.close()\n",
      "time_collected = time_collected.strftime(\"%Y-%m-%d %H:%m:%S\")"
     ],
     "language": "python",
     "metadata": {},
     "outputs": [],
     "prompt_number": 37
    },
    {
     "cell_type": "code",
     "collapsed": false,
     "input": [
      "articles = []\n",
      "soup = BeautifulSoup(page)\n",
      "art_divs = soup.findAll('div', id=lambda x: x and x.startswith('postloop-'))\n",
      "articles = [ div.findAll('article', id = lambda x: x and x.startswith(\"post-\")) for div in art_divs]\n",
      "articles = [item for sublist in articles for item in sublist]"
     ],
     "language": "python",
     "metadata": {},
     "outputs": [],
     "prompt_number": 38
    },
    {
     "cell_type": "code",
     "collapsed": false,
     "input": [
      "scrapped_articles = []\n",
      "for a in articles:\n",
      "    a_values = {}\n",
      "    published_datetime = a.find(\"time\", { \"class\" : \"time published\" })['title']\n",
      "    a_values[\"published_datetime\"] = datetime.datetime.strptime(published_datetime, \"%Y/%m/%d %H:%M:%S %p\")\n",
      "    a_values[\"article_link\"] = a.find(\"h1\", {\"class\" : \"entry-title\"}).find(\"a\")['href']\n",
      "    a_values[\"website\"] = website\n",
      "    a_values[\"retrieved_datetime\"] = time_collected\n",
      "    scrapped_articles.append(a_values)"
     ],
     "language": "python",
     "metadata": {},
     "outputs": [],
     "prompt_number": 41
    },
    {
     "cell_type": "code",
     "collapsed": false,
     "input": [
      "scrapped_articles[0]"
     ],
     "language": "python",
     "metadata": {},
     "outputs": [
      {
       "metadata": {},
       "output_type": "pyout",
       "prompt_number": 42,
       "text": [
        "{'article_link': 'https://gigaom.com/2014/09/12/apple-pay-bitcoin/',\n",
        " 'published_datetime': datetime.datetime(2014, 9, 12, 12, 7, 53),\n",
        " 'retrieved_datetime': '2014-09-12 15:09:40',\n",
        " 'website': 'https://gigaom.com'}"
       ]
      }
     ],
     "prompt_number": 42
    },
    {
     "cell_type": "code",
     "collapsed": false,
     "input": [],
     "language": "python",
     "metadata": {},
     "outputs": []
    }
   ],
   "metadata": {}
  }
 ]
}