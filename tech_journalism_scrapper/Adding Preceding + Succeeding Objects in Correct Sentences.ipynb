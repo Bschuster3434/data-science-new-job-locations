{
 "metadata": {
  "name": ""
 },
 "nbformat": 3,
 "nbformat_minor": 0,
 "worksheets": [
  {
   "cells": [
    {
     "cell_type": "code",
     "collapsed": false,
     "input": [
      "import pandas as pd\n",
      "import numpy as np\n",
      "from pandas import DataFrame, Series\n",
      "from sklearn.feature_extraction.text import CountVectorizer\n",
      "from sklearn.cluster import KMeans\n",
      "from scipy.cluster.vq import whiten\n",
      "from nltk import word_tokenize"
     ],
     "language": "python",
     "metadata": {},
     "outputs": [],
     "prompt_number": 1
    },
    {
     "cell_type": "code",
     "collapsed": false,
     "input": [
      "train_file = r\"test_output_250_articles.csv\"\n",
      "train = DataFrame.from_csv(train_file, index_col=False)\n",
      "#The following code limits the data set to just found locations\n",
      "train = train[np.isfinite(train[\"Correct?\"])]"
     ],
     "language": "python",
     "metadata": {},
     "outputs": [],
     "prompt_number": 2
    },
    {
     "cell_type": "code",
     "collapsed": false,
     "input": [
      "#Some incorrect locations were marked with 9 on accident\n",
      "train.groupby(\"Correct?\").count()"
     ],
     "language": "python",
     "metadata": {},
     "outputs": [
      {
       "html": [
        "<div style=\"max-height:1000px;max-width:1500px;overflow:auto;\">\n",
        "<table border=\"1\" class=\"dataframe\">\n",
        "  <thead>\n",
        "    <tr style=\"text-align: right;\">\n",
        "      <th></th>\n",
        "      <th>Sentence</th>\n",
        "      <th>Location</th>\n",
        "      <th>Correct?</th>\n",
        "      <th>StartLoc</th>\n",
        "      <th>EndLoc</th>\n",
        "    </tr>\n",
        "    <tr>\n",
        "      <th>Correct?</th>\n",
        "      <th></th>\n",
        "      <th></th>\n",
        "      <th></th>\n",
        "      <th></th>\n",
        "      <th></th>\n",
        "    </tr>\n",
        "  </thead>\n",
        "  <tbody>\n",
        "    <tr>\n",
        "      <th>0</th>\n",
        "      <td> 1019</td>\n",
        "      <td> 1019</td>\n",
        "      <td> 1019</td>\n",
        "      <td> 1019</td>\n",
        "      <td> 1019</td>\n",
        "    </tr>\n",
        "    <tr>\n",
        "      <th>1</th>\n",
        "      <td>  396</td>\n",
        "      <td>  396</td>\n",
        "      <td>  396</td>\n",
        "      <td>  396</td>\n",
        "      <td>  396</td>\n",
        "    </tr>\n",
        "    <tr>\n",
        "      <th>9</th>\n",
        "      <td>   30</td>\n",
        "      <td>   30</td>\n",
        "      <td>   30</td>\n",
        "      <td>   30</td>\n",
        "      <td>   30</td>\n",
        "    </tr>\n",
        "  </tbody>\n",
        "</table>\n",
        "<p>3 rows \u00d7 5 columns</p>\n",
        "</div>"
       ],
       "metadata": {},
       "output_type": "pyout",
       "prompt_number": 5,
       "text": [
        "          Sentence  Location  Correct?  StartLoc  EndLoc\n",
        "Correct?                                                \n",
        "0             1019      1019      1019      1019    1019\n",
        "1              396       396       396       396     396\n",
        "9               30        30        30        30      30\n",
        "\n",
        "[3 rows x 5 columns]"
       ]
      }
     ],
     "prompt_number": 5
    },
    {
     "cell_type": "code",
     "collapsed": false,
     "input": [
      "train.loc[train[\"Correct?\"] == 9, \"Correct?\"] = 0"
     ],
     "language": "python",
     "metadata": {},
     "outputs": [],
     "prompt_number": 6
    },
    {
     "cell_type": "code",
     "collapsed": false,
     "input": [
      "def n_features_grabber(sentence, start, end, n = 5):\n",
      "    \"\"\"\n",
      "    Grabs the n number of preceding and succedding objects.\n",
      "    The objects are defined by nltk's 'word_tokenize' function\n",
      "    returns a string that can later be manipulated\n",
      "    \"\"\"\n",
      "    tok_sent = word_tokenize(sentence)\n",
      "    if start < n:\n",
      "        preceding = tok_sent[ : start] # If the start word is less n, then we return the whole beginning of the sentence\n",
      "    else:\n",
      "        preceding = tok_sent[ (start - n) : start]\n",
      "    if n + end > (len(sentence) - 1):\n",
      "        succeeding = tok_sent[ (end + 1): ]\n",
      "    else:\n",
      "        succeeding = tok_sent[ (end + 1) : (end + n + 1)]\n",
      "    return (' '.join(preceding), ' '.join(succeeding))"
     ],
     "language": "python",
     "metadata": {},
     "outputs": [],
     "prompt_number": 1
    },
    {
     "cell_type": "code",
     "collapsed": false,
     "input": [
      "#Testing the function for accuracty\n",
      "def test():\n",
      "    sent = \"This is the test sentence for my words.\"\n",
      "    assert n_features_grabber(sent, 2, 2, n = 1) == (\"is\", \"test\")\n",
      "    assert n_features_grabber(sent, 4, 5, n = 2) == (\"the test\", \"my words\")\n",
      "    assert n_features_grabber(sent, 0, 0, n = 1) == (\"\", \"is\")\n",
      "    assert n_features_grabber(sent, 7, 7, n = 3) == (\"sentence for my\", \".\")\n",
      "    assert n_features_grabber(sent, 8,8) == (\"test sentence for my words\", \"\")\n",
      "    return \"Test Passed!\"\n",
      "\n",
      "test()"
     ],
     "language": "python",
     "metadata": {},
     "outputs": [
      {
       "metadata": {},
       "output_type": "pyout",
       "prompt_number": 18,
       "text": [
        "'Test Passed!'"
       ]
      }
     ],
     "prompt_number": 18
    },
    {
     "cell_type": "code",
     "collapsed": false,
     "input": [
      "#For every record in the training set, it finds the preceding and succeeding\n",
      "#And returns it in an ordered list\n",
      "pre_list = []\n",
      "suc_list = []\n",
      "for record in train.iterrows():\n",
      "    sent = record[1][\"Sentence\"]\n",
      "    StartLoc = record[1][\"StartLoc\"]\n",
      "    EndLoc = record[1][\"EndLoc\"]\n",
      "    pre, suc = n_features_grabber(sent, StartLoc, EndLoc)\n",
      "    pre_list.append(pre)\n",
      "    suc_list.append(suc)\n",
      "    \n",
      "train[\"Preceding_List\"] = pre_list\n",
      "train[\"Succeeding_List\"] = suc_list"
     ],
     "language": "python",
     "metadata": {},
     "outputs": [],
     "prompt_number": 17
    },
    {
     "cell_type": "code",
     "collapsed": false,
     "input": [
      "train = train[[\"Sentence\", \"Location\", \"Correct?\", \"StartLoc\", \"EndLoc\", \"Preceding_List\", \"Succeeding_List\"]]\n",
      "train.to_csv(\"test_output_250_found_loc_only.csv\", index=False)"
     ],
     "language": "python",
     "metadata": {},
     "outputs": [],
     "prompt_number": 29
    },
    {
     "cell_type": "code",
     "collapsed": false,
     "input": [],
     "language": "python",
     "metadata": {},
     "outputs": []
    }
   ],
   "metadata": {}
  }
 ]
}