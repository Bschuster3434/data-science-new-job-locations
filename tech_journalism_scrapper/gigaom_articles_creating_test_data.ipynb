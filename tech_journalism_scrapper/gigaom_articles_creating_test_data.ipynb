{
 "metadata": {
  "name": ""
 },
 "nbformat": 3,
 "nbformat_minor": 0,
 "worksheets": [
  {
   "cells": [
    {
     "cell_type": "code",
     "collapsed": false,
     "input": [
      "import sqlite3\n",
      "import time\n",
      "from goose import Goose\n",
      "import pickle\n",
      "import pandas as pd\n",
      "import re\n",
      "from nltk import sent_tokenize, word_tokenize"
     ],
     "language": "python",
     "metadata": {},
     "outputs": [],
     "prompt_number": 103
    },
    {
     "cell_type": "code",
     "collapsed": false,
     "input": [
      "def search_sents_for_google_locations(link_sql):\n",
      "    all_article_urls = grab_available_urls(link_sql)\n",
      "    all_article_contents = [grab_article_content(url) for url in article_urls]\n",
      "    \n",
      "    google_cs_list = city_state_names()\n",
      "    \n",
      "    sents_with_locations = [] #Structure (sentence, (#_of_locations_found [, (n1a), (n2a, n2b)]))\n",
      "    for next_content in all_article_contents:\n",
      "        sents = sent_tolkenize(next_content)\n",
      "        for next_sent in sents:\n",
      "            loc_tuple = find_google_cs(next_sent, google_cs_list)\n",
      "            sent_loc_tuple = (next_sent, loc_tuple)\n",
      "            sent_with_google_cs.append(sent_loc_tuple)\n",
      "\n",
      "    return sent_with_google_cs"
     ],
     "language": "python",
     "metadata": {},
     "outputs": [],
     "prompt_number": 104
    },
    {
     "cell_type": "code",
     "collapsed": false,
     "input": [
      "def find_google_cs(sent, google_cs_list):\n",
      "    locations_found = []\n",
      "    for loc in google_cs_list:\n",
      "        all_finds = [m.start() for m in re.finditer(loc, sent)]\n",
      "        for loc_f in all_finds:\n",
      "            part_sent = sent[:loc_f]\n",
      "            part_tokenized_sent = word_tokenize(part_sent)\n",
      "            tokenize_loc = word_tokenize(loc)\n",
      "            first_point = len(part_tokenized_sent)\n",
      "            last_point = first_point + len(tokenize_loc) - 1\n",
      "            locations_found.append((first_point, last_point))\n",
      "    if len(locations_found) == 0:\n",
      "        return(len(locations_found))\n",
      "    else:\n",
      "        return (len(locations_found), tuple(locations_found))"
     ],
     "language": "python",
     "metadata": {},
     "outputs": [],
     "prompt_number": 118
    },
    {
     "cell_type": "code",
     "collapsed": false,
     "input": [
      "def test():\n",
      "    sent_1 = \"I am the one who knocks in Utah.\"\n",
      "    sent_2 = \"I don't have any named states in here.\"\n",
      "    sent_3 = \"I am from San Francisco.\"\n",
      "    sent_4 = \"I am from Utah, and she too is from Utah.\"\n",
      "    cities = [\"Omaha\", \"Utah\", \"Texas\", \"San Francisco\"]\n",
      "    assert find_google_cs(sent_1, cities) == (1, ((7,7),))\n",
      "    assert find_google_cs(sent_2, cities) == (0)\n",
      "    assert find_google_cs(sent_3, cities) == (1, ((3, 4),))\n",
      "    assert find_google_cs(sent_4, cities) == (2, ((3, 3), (10, 10)))\n",
      "    return \"Test Passed\"\n",
      "\n",
      "test()\n"
     ],
     "language": "python",
     "metadata": {},
     "outputs": [
      {
       "metadata": {},
       "output_type": "pyout",
       "prompt_number": 119,
       "text": [
        "'Test Passed'"
       ]
      }
     ],
     "prompt_number": 119
    },
    {
     "cell_type": "code",
     "collapsed": false,
     "input": [
      "def grab_available_urls(article_sql):\n",
      "    conn = sqlite3.connect(\"TechScrapper.db\")\n",
      "    c = conn.cursor()\n",
      "    c.execute(article_sql)\n",
      "    urls = [row[0] for row in c.fetchall()]\n",
      "    conn.close()\n",
      "    return urls"
     ],
     "language": "python",
     "metadata": {},
     "outputs": [],
     "prompt_number": 31
    },
    {
     "cell_type": "code",
     "collapsed": false,
     "input": [
      "def city_state_names():    \n",
      "    f = \"gcs_US_City_States_Only.csv\"\n",
      "    df = pd.DataFrame.from_csv(f)\n",
      "    names = df.Name.unique()\n",
      "    return names"
     ],
     "language": "python",
     "metadata": {},
     "outputs": [],
     "prompt_number": 62
    },
    {
     "cell_type": "code",
     "collapsed": false,
     "input": [
      "def grab_article_content(url):\n",
      "    g = Goose()\n",
      "    article = g.extract(url=url)\n",
      "    content = article.cleaned_text.encode(\"ascii\", \"ignore\")\n",
      "    return content"
     ],
     "language": "python",
     "metadata": {},
     "outputs": [],
     "prompt_number": 9
    },
    {
     "cell_type": "code",
     "collapsed": false,
     "input": [
      "def test():\n",
      "    url = \"https://docs.python.org/2/tutorial/errors.html\"\n",
      "    content = grab_article_content(url)\n",
      "    assert content[:10] == 'Until now '\n",
      "    return \"Test Passed\""
     ],
     "language": "python",
     "metadata": {},
     "outputs": [],
     "prompt_number": 12
    },
    {
     "cell_type": "code",
     "collapsed": false,
     "input": [
      "def grab_test_sentence():\n",
      "    article = \"https://gigaom.com/2014/09/17/the-behind-the-scenes-look-at-how-instagram-made-its-android-app-run-twice-as-fast/\"\n",
      "    content = grab_article_content(article)\n",
      "    sents = sent_tokenize(content)"
     ],
     "language": "python",
     "metadata": {},
     "outputs": [],
     "prompt_number": 35
    },
    {
     "cell_type": "code",
     "collapsed": false,
     "input": [],
     "language": "python",
     "metadata": {},
     "outputs": []
    }
   ],
   "metadata": {}
  }
 ]
}