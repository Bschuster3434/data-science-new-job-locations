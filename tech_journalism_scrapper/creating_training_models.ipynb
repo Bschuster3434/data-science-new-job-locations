{
 "metadata": {
  "name": ""
 },
 "nbformat": 3,
 "nbformat_minor": 0,
 "worksheets": [
  {
   "cells": [
    {
     "cell_type": "code",
     "collapsed": false,
     "input": [
      "import pandas as pd\n",
      "import numpy as np\n",
      "from pandas import DataFrame, Series"
     ],
     "language": "python",
     "metadata": {},
     "outputs": [],
     "prompt_number": 59
    },
    {
     "cell_type": "code",
     "collapsed": false,
     "input": [
      "train_csv = \"testing_data/train.csv\"\n",
      "train = DataFrame.from_csv(train_csv, index_col=False)\n",
      "correct = train[train[\"Correct?\"] == 1]\n",
      "incorrect = train[train[\"Correct?\"] == 0]"
     ],
     "language": "python",
     "metadata": {},
     "outputs": [],
     "prompt_number": 60
    },
    {
     "cell_type": "code",
     "collapsed": false,
     "input": [
      "train[\"Preceding_List\"][0].split()"
     ],
     "language": "python",
     "metadata": {},
     "outputs": [
      {
       "metadata": {},
       "output_type": "pyout",
       "prompt_number": 61,
       "text": [
        "['A', 'swanky', 'hotel', 'in', 'New']"
       ]
      }
     ],
     "prompt_number": 61
    },
    {
     "cell_type": "code",
     "collapsed": false,
     "input": [
      "def create_frequency(words):\n",
      "    vocab = set(words)\n",
      "    list_len = len(words)\n",
      "    freq_dict = {}\n",
      "    for w in vocab:\n",
      "        count = words.count(w)\n",
      "        freq = count/float(list_len)\n",
      "        freq_dict[w] = freq\n",
      "    return freq_dict"
     ],
     "language": "python",
     "metadata": {},
     "outputs": [],
     "prompt_number": 62
    },
    {
     "cell_type": "code",
     "collapsed": false,
     "input": [
      "def flatten(lol):\n",
      "    str_list = [str(string).split() for string in lol]\n",
      "    flat_list = [ a for i in str_list for a in i]\n",
      "    return flat_list"
     ],
     "language": "python",
     "metadata": {},
     "outputs": [],
     "prompt_number": 63
    },
    {
     "cell_type": "code",
     "collapsed": false,
     "input": [
      "correct_word_list = flatten(correct[\"Preceding_List\"])\n",
      "incorrect_word_list = flatten(incorrect[\"Preceding_List\"])"
     ],
     "language": "python",
     "metadata": {},
     "outputs": [],
     "prompt_number": 64
    },
    {
     "cell_type": "code",
     "collapsed": false,
     "input": [
      "correct_dict = create_frequency(correct_word_list)\n",
      "incorrect_dict = create_frequency(incorrect_word_list)"
     ],
     "language": "python",
     "metadata": {},
     "outputs": [],
     "prompt_number": 65
    },
    {
     "cell_type": "code",
     "collapsed": false,
     "input": [
      "test = test.fillna(\"\")"
     ],
     "language": "python",
     "metadata": {},
     "outputs": [],
     "prompt_number": 67
    },
    {
     "cell_type": "code",
     "collapsed": false,
     "input": [
      "def predict_correct(word_list):\n",
      "    incorrect = 0\n",
      "    correct = 0\n",
      "    for word in word_list:\n",
      "        try:\n",
      "            perc_corr = correct_dict[word]\n",
      "        except KeyError:\n",
      "            perc_corr = 0\n",
      "        correct += perc_corr\n",
      "        try:\n",
      "            perc_incorr = incorrect_dict[word]\n",
      "        except KeyError:\n",
      "            perc_incorr = 0\n",
      "        incorrect += perc_incorr\n",
      "        \n",
      "    if perc_corr > perc_incorr:\n",
      "        return 1\n",
      "    elif perc_corr < perc_incorr:\n",
      "        return 0\n",
      "    else:\n",
      "        return None\n",
      "        "
     ],
     "language": "python",
     "metadata": {},
     "outputs": [],
     "prompt_number": 68
    },
    {
     "cell_type": "code",
     "collapsed": false,
     "input": [
      "test_csv = \"testing_data/test.csv\"\n",
      "test = DataFrame.from_csv(test_csv, index_col=False)\n",
      "prediction_list = []\n",
      "for i in range(len(test)):\n",
      "    prec_word_list = test.loc[i][\"Preceding_List\"]\n",
      "    if prec_word_list is np.nan:\n",
      "        prec_word_list = [\" \"]\n",
      "    prediction = predict_correct(prec_word_list)\n",
      "    prediction_list.append(prediction)\n",
      "test[\"Prediction\"] = prediction_list"
     ],
     "language": "python",
     "metadata": {},
     "outputs": [],
     "prompt_number": 69
    },
    {
     "cell_type": "code",
     "collapsed": false,
     "input": [
      "len(test[\"Prediction\"])"
     ],
     "language": "python",
     "metadata": {},
     "outputs": [
      {
       "metadata": {},
       "output_type": "pyout",
       "prompt_number": 71,
       "text": [
        "289"
       ]
      }
     ],
     "prompt_number": 71
    },
    {
     "cell_type": "code",
     "collapsed": false,
     "input": [
      "test.groupby(\"Prediction\").count()"
     ],
     "language": "python",
     "metadata": {},
     "outputs": [
      {
       "html": [
        "<div style=\"max-height:1000px;max-width:1500px;overflow:auto;\">\n",
        "<table border=\"1\" class=\"dataframe\">\n",
        "  <thead>\n",
        "    <tr style=\"text-align: right;\">\n",
        "      <th></th>\n",
        "      <th>Sentence</th>\n",
        "      <th>Location</th>\n",
        "      <th>Correct?</th>\n",
        "      <th>StartLoc</th>\n",
        "      <th>EndLoc</th>\n",
        "      <th>Preceding_List</th>\n",
        "      <th>Succeeding_List</th>\n",
        "      <th>Prediction</th>\n",
        "    </tr>\n",
        "    <tr>\n",
        "      <th>Prediction</th>\n",
        "      <th></th>\n",
        "      <th></th>\n",
        "      <th></th>\n",
        "      <th></th>\n",
        "      <th></th>\n",
        "      <th></th>\n",
        "      <th></th>\n",
        "      <th></th>\n",
        "    </tr>\n",
        "  </thead>\n",
        "  <tbody>\n",
        "    <tr>\n",
        "      <th>0</th>\n",
        "      <td> 13</td>\n",
        "      <td> 13</td>\n",
        "      <td> 13</td>\n",
        "      <td> 13</td>\n",
        "      <td> 13</td>\n",
        "      <td> 13</td>\n",
        "      <td> 13</td>\n",
        "      <td> 13</td>\n",
        "    </tr>\n",
        "    <tr>\n",
        "      <th>1</th>\n",
        "      <td> 51</td>\n",
        "      <td> 51</td>\n",
        "      <td> 51</td>\n",
        "      <td> 51</td>\n",
        "      <td> 51</td>\n",
        "      <td> 51</td>\n",
        "      <td> 51</td>\n",
        "      <td> 51</td>\n",
        "    </tr>\n",
        "  </tbody>\n",
        "</table>\n",
        "<p>2 rows \u00d7 8 columns</p>\n",
        "</div>"
       ],
       "metadata": {},
       "output_type": "pyout",
       "prompt_number": 79,
       "text": [
        "            Sentence  Location  Correct?  StartLoc  EndLoc  Preceding_List  \\\n",
        "Prediction                                                                   \n",
        "0                 13        13        13        13      13              13   \n",
        "1                 51        51        51        51      51              51   \n",
        "\n",
        "            Succeeding_List  Prediction  \n",
        "Prediction                               \n",
        "0                        13          13  \n",
        "1                        51          51  \n",
        "\n",
        "[2 rows x 8 columns]"
       ]
      }
     ],
     "prompt_number": 79
    },
    {
     "cell_type": "code",
     "collapsed": false,
     "input": [],
     "language": "python",
     "metadata": {},
     "outputs": []
    }
   ],
   "metadata": {}
  }
 ]
}