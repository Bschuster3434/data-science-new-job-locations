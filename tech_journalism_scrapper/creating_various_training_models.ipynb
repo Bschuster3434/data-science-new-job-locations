{
 "metadata": {
  "name": ""
 },
 "nbformat": 3,
 "nbformat_minor": 0,
 "worksheets": [
  {
   "cells": [
    {
     "cell_type": "code",
     "collapsed": false,
     "input": [
      "import pandas as pd\n",
      "import numpy as np\n",
      "from pandas import DataFrame, Series\n",
      "from sklearn.feature_extraction.text import CountVectorizer\n",
      "from sklearn.cluster import KMeans\n",
      "from scipy.cluster.vq import whiten\n",
      "from nltk import word_tokenize"
     ],
     "language": "python",
     "metadata": {},
     "outputs": [],
     "prompt_number": 21
    },
    {
     "cell_type": "code",
     "collapsed": false,
     "input": [
      "train_file = r\"testing_data\\train.csv\""
     ],
     "language": "python",
     "metadata": {},
     "outputs": [],
     "prompt_number": 52
    },
    {
     "cell_type": "code",
     "collapsed": false,
     "input": [
      "train = DataFrame.from_csv(train_file, index_col=False)"
     ],
     "language": "python",
     "metadata": {},
     "outputs": [],
     "prompt_number": 53
    },
    {
     "cell_type": "code",
     "collapsed": false,
     "input": [
      "train.loc[train[\"Correct?\"] == 9, [\"Correct?\"]] = 0"
     ],
     "language": "python",
     "metadata": {},
     "outputs": [],
     "prompt_number": 54
    },
    {
     "cell_type": "code",
     "collapsed": false,
     "input": [
      "train.head()"
     ],
     "language": "python",
     "metadata": {},
     "outputs": [
      {
       "html": [
        "<div style=\"max-height:1000px;max-width:1500px;overflow:auto;\">\n",
        "<table border=\"1\" class=\"dataframe\">\n",
        "  <thead>\n",
        "    <tr style=\"text-align: right;\">\n",
        "      <th></th>\n",
        "      <th>Sentence</th>\n",
        "      <th>Location</th>\n",
        "      <th>Correct?</th>\n",
        "      <th>StartLoc</th>\n",
        "      <th>EndLoc</th>\n",
        "    </tr>\n",
        "  </thead>\n",
        "  <tbody>\n",
        "    <tr>\n",
        "      <th>0</th>\n",
        "      <td> ) When the Frankfurt court issued the countryw...</td>\n",
        "      <td> Frankfurt</td>\n",
        "      <td> 1</td>\n",
        "      <td>  3</td>\n",
        "      <td>  3</td>\n",
        "    </tr>\n",
        "    <tr>\n",
        "      <th>1</th>\n",
        "      <td>   The New York Times calls it  data janitor work.</td>\n",
        "      <td>      York</td>\n",
        "      <td> 0</td>\n",
        "      <td>  2</td>\n",
        "      <td>  2</td>\n",
        "    </tr>\n",
        "    <tr>\n",
        "      <th>2</th>\n",
        "      <td> This will also be Intel s first system to ship...</td>\n",
        "      <td>    Bryant</td>\n",
        "      <td> 0</td>\n",
        "      <td> 26</td>\n",
        "      <td> 26</td>\n",
        "    </tr>\n",
        "    <tr>\n",
        "      <th>3</th>\n",
        "      <td> The timing of the Tesla announcement was great...</td>\n",
        "      <td>    Nevada</td>\n",
        "      <td> 1</td>\n",
        "      <td> 11</td>\n",
        "      <td> 11</td>\n",
        "    </tr>\n",
        "    <tr>\n",
        "      <th>4</th>\n",
        "      <td> The Obama Administration on Thursday announced...</td>\n",
        "      <td>      Alex</td>\n",
        "      <td> 0</td>\n",
        "      <td> 34</td>\n",
        "      <td> 34</td>\n",
        "    </tr>\n",
        "  </tbody>\n",
        "</table>\n",
        "<p>5 rows \u00d7 5 columns</p>\n",
        "</div>"
       ],
       "metadata": {},
       "output_type": "pyout",
       "prompt_number": 55,
       "text": [
        "                                            Sentence   Location  Correct?  \\\n",
        "0  ) When the Frankfurt court issued the countryw...  Frankfurt         1   \n",
        "1    The New York Times calls it  data janitor work.       York         0   \n",
        "2  This will also be Intel s first system to ship...     Bryant         0   \n",
        "3  The timing of the Tesla announcement was great...     Nevada         1   \n",
        "4  The Obama Administration on Thursday announced...       Alex         0   \n",
        "\n",
        "   StartLoc  EndLoc  \n",
        "0         3       3  \n",
        "1         2       2  \n",
        "2        26      26  \n",
        "3        11      11  \n",
        "4        34      34  \n",
        "\n",
        "[5 rows x 5 columns]"
       ]
      }
     ],
     "prompt_number": 55
    },
    {
     "cell_type": "code",
     "collapsed": false,
     "input": [
      "def n_features_grabber(sentence, start, end, n = 5):\n",
      "    tok_sent = word_tokenize(sentence)\n",
      "    if start < n:\n",
      "        preceding = tok_sent[ : start] # If the start word is less n, then we return the whole beginning of the sentence\n",
      "    else:\n",
      "        preceding = tok_sent[ (start - n) : start]\n",
      "    if n + end > (len(sentence) - 1):\n",
      "        succedding = tok_sent[ (end + 1): ]\n",
      "    else:\n",
      "        succedding = tok_sent[ (end + 1) : (end + n + 1)]\n",
      "    return (preceding, succedding)"
     ],
     "language": "python",
     "metadata": {},
     "outputs": [],
     "prompt_number": 56
    },
    {
     "cell_type": "code",
     "collapsed": false,
     "input": [
      "pre_list = []\n",
      "suc_list = []\n",
      "for record in train.iterrows() :\n",
      "    sent = record[1][\"Sentence\"]\n",
      "    StartLoc = record[1][\"StartLoc\"]\n",
      "    EndLoc = record[1][\"EndLoc\"]\n",
      "    pre, suc = n_features_grabber(sent, StartLoc, EndLoc)\n",
      "    pre_list.append(pre)\n",
      "    suc_list.append(suc)"
     ],
     "language": "python",
     "metadata": {},
     "outputs": [],
     "prompt_number": 61
    },
    {
     "cell_type": "code",
     "collapsed": false,
     "input": [
      "train"
     ],
     "language": "python",
     "metadata": {},
     "outputs": [
      {
       "metadata": {},
       "output_type": "pyout",
       "prompt_number": 63,
       "text": [
        "867"
       ]
      }
     ],
     "prompt_number": 63
    },
    {
     "cell_type": "code",
     "collapsed": false,
     "input": [
      "def test():\n",
      "    sent = \"This is the test sentence for my words.\"\n",
      "    assert n_features_grabber(sent, 2, 2, n = 1) \n",
      "    assert n_features_grabber(sent, 2, 2, n = 1) == ([\"is\"], [\"test\"])\n",
      "    assert n_features_grabber(sent, 4, 5, n = 2) == ([\"the\", \"test\"], [\"my\", \"words\"])\n",
      "    assert n_features_grabber(sent, 0, 0, n = 1) == ([], [\"is\"])\n",
      "    assert n_features_grabber(sent, 7, 7, n = 3) == ([\"sentence\", \"for\", \"my\"], [\".\"])\n",
      "    assert n_features_grabber(sent, 8,8) == ([\"test\", \"sentence\", \"for\", \"my\", \"words\"], [])\n",
      "    return \"Test Passed!\"\n",
      "\n",
      "test()"
     ],
     "language": "python",
     "metadata": {},
     "outputs": [
      {
       "output_type": "stream",
       "stream": "stdout",
       "text": [
        "(['test', 'sentence', 'for', 'my', 'words'], [])\n"
       ]
      },
      {
       "metadata": {},
       "output_type": "pyout",
       "prompt_number": 45,
       "text": [
        "'Test Passed!'"
       ]
      }
     ],
     "prompt_number": 45
    },
    {
     "cell_type": "code",
     "collapsed": false,
     "input": [],
     "language": "python",
     "metadata": {},
     "outputs": []
    }
   ],
   "metadata": {}
  }
 ]
}