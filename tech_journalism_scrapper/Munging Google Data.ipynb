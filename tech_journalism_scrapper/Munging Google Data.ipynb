{
 "metadata": {
  "name": ""
 },
 "nbformat": 3,
 "nbformat_minor": 0,
 "worksheets": [
  {
   "cells": [
    {
     "cell_type": "code",
     "collapsed": false,
     "input": [
      "import pandas as pd\n",
      "from pandas import DataFrame, Series"
     ],
     "language": "python",
     "metadata": {},
     "outputs": [],
     "prompt_number": 1
    },
    {
     "cell_type": "code",
     "collapsed": false,
     "input": [
      "f = \"all_google_locations.csv\""
     ],
     "language": "python",
     "metadata": {},
     "outputs": [],
     "prompt_number": 27
    },
    {
     "cell_type": "code",
     "collapsed": false,
     "input": [
      "df = DataFrame.from_csv(f)"
     ],
     "language": "python",
     "metadata": {},
     "outputs": [],
     "prompt_number": 28
    },
    {
     "cell_type": "code",
     "collapsed": false,
     "input": [
      "df.columns"
     ],
     "language": "python",
     "metadata": {},
     "outputs": [
      {
       "metadata": {},
       "output_type": "pyout",
       "prompt_number": 29,
       "text": [
        "Index([u'Name', u'Canonical Name', u'Parent ID', u'Country Code', u'Target Type', u'Status'], dtype=object)"
       ]
      }
     ],
     "prompt_number": 29
    },
    {
     "cell_type": "code",
     "collapsed": false,
     "input": [
      "df[\"Target Type\"].unique()"
     ],
     "language": "python",
     "metadata": {},
     "outputs": [
      {
       "metadata": {},
       "output_type": "pyout",
       "prompt_number": 34,
       "text": [
        "array(['City', 'County', 'Borough', 'Province', 'State', 'Country',\n",
        "       'DMA Region', 'Territory', 'Canton', 'Region'], dtype=object)"
       ]
      }
     ],
     "prompt_number": 34
    },
    {
     "cell_type": "code",
     "collapsed": false,
     "input": [
      "df[df[\"Target Type\"] == \"Region\"].head()"
     ],
     "language": "python",
     "metadata": {},
     "outputs": [
      {
       "html": [
        "<div style=\"max-height:1000px;max-width:1500px;overflow:auto;\">\n",
        "<table border=\"1\" class=\"dataframe\">\n",
        "  <thead>\n",
        "    <tr style=\"text-align: right;\">\n",
        "      <th></th>\n",
        "      <th>Name</th>\n",
        "      <th>Canonical Name</th>\n",
        "      <th>Parent ID</th>\n",
        "      <th>Country Code</th>\n",
        "      <th>Target Type</th>\n",
        "      <th>Status</th>\n",
        "    </tr>\n",
        "    <tr>\n",
        "      <th>Criteria ID</th>\n",
        "      <th></th>\n",
        "      <th></th>\n",
        "      <th></th>\n",
        "      <th></th>\n",
        "      <th></th>\n",
        "      <th></th>\n",
        "    </tr>\n",
        "  </thead>\n",
        "  <tbody>\n",
        "    <tr>\n",
        "      <th>20152</th>\n",
        "      <td> Antofagasta Region</td>\n",
        "      <td> Antofagasta Region,Chile</td>\n",
        "      <td> 2152</td>\n",
        "      <td> CL</td>\n",
        "      <td> Region</td>\n",
        "      <td> Active</td>\n",
        "    </tr>\n",
        "    <tr>\n",
        "      <th>20153</th>\n",
        "      <td>   Araucania Region</td>\n",
        "      <td>   Araucania Region,Chile</td>\n",
        "      <td> 2152</td>\n",
        "      <td> CL</td>\n",
        "      <td> Region</td>\n",
        "      <td> Active</td>\n",
        "    </tr>\n",
        "    <tr>\n",
        "      <th>20154</th>\n",
        "      <td>      Biobio Region</td>\n",
        "      <td>      Biobio Region,Chile</td>\n",
        "      <td> 2152</td>\n",
        "      <td> CL</td>\n",
        "      <td> Region</td>\n",
        "      <td> Active</td>\n",
        "    </tr>\n",
        "    <tr>\n",
        "      <th>20155</th>\n",
        "      <td>    Coquimbo Region</td>\n",
        "      <td>    Coquimbo Region,Chile</td>\n",
        "      <td> 2152</td>\n",
        "      <td> CL</td>\n",
        "      <td> Region</td>\n",
        "      <td> Active</td>\n",
        "    </tr>\n",
        "    <tr>\n",
        "      <th>20156</th>\n",
        "      <td>   O'Higgins Region</td>\n",
        "      <td>   O'Higgins Region,Chile</td>\n",
        "      <td> 2152</td>\n",
        "      <td> CL</td>\n",
        "      <td> Region</td>\n",
        "      <td> Active</td>\n",
        "    </tr>\n",
        "  </tbody>\n",
        "</table>\n",
        "</div>"
       ],
       "metadata": {},
       "output_type": "pyout",
       "prompt_number": 31,
       "text": [
        "                           Name            Canonical Name  Parent ID  \\\n",
        "Criteria ID                                                            \n",
        "20152        Antofagasta Region  Antofagasta Region,Chile       2152   \n",
        "20153          Araucania Region    Araucania Region,Chile       2152   \n",
        "20154             Biobio Region       Biobio Region,Chile       2152   \n",
        "20155           Coquimbo Region     Coquimbo Region,Chile       2152   \n",
        "20156          O'Higgins Region    O'Higgins Region,Chile       2152   \n",
        "\n",
        "            Country Code Target Type  Status  \n",
        "Criteria ID                                   \n",
        "20152                 CL      Region  Active  \n",
        "20153                 CL      Region  Active  \n",
        "20154                 CL      Region  Active  \n",
        "20155                 CL      Region  Active  \n",
        "20156                 CL      Region  Active  "
       ]
      }
     ],
     "prompt_number": 31
    },
    {
     "cell_type": "code",
     "collapsed": false,
     "input": [
      "t_types = [\"City\", \"County\", \"Borough\", \"Province\", \"State\", \"Country\", \"DMA Region\", \"Territory\", \"Canton\", \"Region\"]"
     ],
     "language": "python",
     "metadata": {},
     "outputs": [],
     "prompt_number": 32
    },
    {
     "cell_type": "code",
     "collapsed": false,
     "input": [
      "df = df[df[\"Target Type\"].isin(t_types)]"
     ],
     "language": "python",
     "metadata": {},
     "outputs": [],
     "prompt_number": 33
    },
    {
     "cell_type": "code",
     "collapsed": false,
     "input": [],
     "language": "python",
     "metadata": {},
     "outputs": []
    },
    {
     "cell_type": "code",
     "collapsed": false,
     "input": [
      "df.to_csv(\"all_major_locations.csv\")"
     ],
     "language": "python",
     "metadata": {},
     "outputs": [],
     "prompt_number": 35
    },
    {
     "cell_type": "code",
     "collapsed": false,
     "input": [],
     "language": "python",
     "metadata": {},
     "outputs": []
    }
   ],
   "metadata": {}
  }
 ]
}