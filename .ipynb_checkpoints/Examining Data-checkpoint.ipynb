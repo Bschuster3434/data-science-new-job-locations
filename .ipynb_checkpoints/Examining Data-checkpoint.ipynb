{
 "metadata": {
  "name": ""
 },
 "nbformat": 3,
 "nbformat_minor": 0,
 "worksheets": [
  {
   "cells": [
    {
     "cell_type": "code",
     "collapsed": false,
     "input": [
      "import pandas as pd\n",
      "import numpy as np\n",
      "from pandas import DataFrame, Series"
     ],
     "language": "python",
     "metadata": {},
     "outputs": [],
     "prompt_number": 1
    },
    {
     "cell_type": "code",
     "collapsed": false,
     "input": [
      "ds_jobs_file = 'data_science_jobs_info.csv'\n",
      "population = 'us_population.csv'"
     ],
     "language": "python",
     "metadata": {},
     "outputs": [],
     "prompt_number": 6
    },
    {
     "cell_type": "code",
     "collapsed": false,
     "input": [
      "df_jobs = DataFrame.from_csv(ds_jobs_file, index_col = None)\n",
      "df_pop = DataFrame.from_csv(population, index_col= None)"
     ],
     "language": "python",
     "metadata": {},
     "outputs": [],
     "prompt_number": 7
    },
    {
     "cell_type": "code",
     "collapsed": false,
     "input": [
      "df_pop.head()"
     ],
     "language": "python",
     "metadata": {},
     "outputs": [
      {
       "html": [
        "<div style=\"max-height:1000px;max-width:1500px;overflow:auto;\">\n",
        "<table border=\"1\" class=\"dataframe\">\n",
        "  <thead>\n",
        "    <tr style=\"text-align: right;\">\n",
        "      <th></th>\n",
        "      <th>\ufeff_input</th>\n",
        "      <th>_num</th>\n",
        "      <th>_widgetName</th>\n",
        "      <th>_source</th>\n",
        "      <th>_resultNumber</th>\n",
        "      <th>_pageUrl</th>\n",
        "      <th>city</th>\n",
        "      <th>state</th>\n",
        "      <th>est_pop_2013</th>\n",
        "      <th>est_pop_2013/_source</th>\n",
        "      <th>location</th>\n",
        "    </tr>\n",
        "  </thead>\n",
        "  <tbody>\n",
        "    <tr>\n",
        "      <th>0</th>\n",
        "      <td> webpage/url:http://en.wikipedia.org/wiki/List_...</td>\n",
        "      <td> 1</td>\n",
        "      <td> wikipedia us population info</td>\n",
        "      <td> wikipedia us population info</td>\n",
        "      <td> 1</td>\n",
        "      <td> http://en.wikipedia.org/wiki/List_of_United_St...</td>\n",
        "      <td>     New York</td>\n",
        "      <td>     New York</td>\n",
        "      <td> 8405837</td>\n",
        "      <td> 8405837</td>\n",
        "      <td>  40.6643\u00b0N 73.9385\u00b0W</td>\n",
        "    </tr>\n",
        "    <tr>\n",
        "      <th>1</th>\n",
        "      <td> webpage/url:http://en.wikipedia.org/wiki/List_...</td>\n",
        "      <td> 2</td>\n",
        "      <td> wikipedia us population info</td>\n",
        "      <td> wikipedia us population info</td>\n",
        "      <td> 2</td>\n",
        "      <td> http://en.wikipedia.org/wiki/List_of_United_St...</td>\n",
        "      <td>  Los Angeles</td>\n",
        "      <td>   California</td>\n",
        "      <td> 3884307</td>\n",
        "      <td> 3884307</td>\n",
        "      <td> 34.0194\u00b0N 118.4108\u00b0W</td>\n",
        "    </tr>\n",
        "    <tr>\n",
        "      <th>2</th>\n",
        "      <td> webpage/url:http://en.wikipedia.org/wiki/List_...</td>\n",
        "      <td> 3</td>\n",
        "      <td> wikipedia us population info</td>\n",
        "      <td> wikipedia us population info</td>\n",
        "      <td> 3</td>\n",
        "      <td> http://en.wikipedia.org/wiki/List_of_United_St...</td>\n",
        "      <td>      Chicago</td>\n",
        "      <td>     Illinois</td>\n",
        "      <td> 2718782</td>\n",
        "      <td> 2718782</td>\n",
        "      <td>  41.8376\u00b0N 87.6818\u00b0W</td>\n",
        "    </tr>\n",
        "    <tr>\n",
        "      <th>3</th>\n",
        "      <td> webpage/url:http://en.wikipedia.org/wiki/List_...</td>\n",
        "      <td> 4</td>\n",
        "      <td> wikipedia us population info</td>\n",
        "      <td> wikipedia us population info</td>\n",
        "      <td> 4</td>\n",
        "      <td> http://en.wikipedia.org/wiki/List_of_United_St...</td>\n",
        "      <td>      Houston</td>\n",
        "      <td>        Texas</td>\n",
        "      <td> 2195914</td>\n",
        "      <td> 2195914</td>\n",
        "      <td>  29.7805\u00b0N 95.3863\u00b0W</td>\n",
        "    </tr>\n",
        "    <tr>\n",
        "      <th>4</th>\n",
        "      <td> webpage/url:http://en.wikipedia.org/wiki/List_...</td>\n",
        "      <td> 5</td>\n",
        "      <td> wikipedia us population info</td>\n",
        "      <td> wikipedia us population info</td>\n",
        "      <td> 5</td>\n",
        "      <td> http://en.wikipedia.org/wiki/List_of_United_St...</td>\n",
        "      <td> Philadelphia</td>\n",
        "      <td> Pennsylvania</td>\n",
        "      <td> 1553165</td>\n",
        "      <td> 1553165</td>\n",
        "      <td>  40.0094\u00b0N 75.1333\u00b0W</td>\n",
        "    </tr>\n",
        "  </tbody>\n",
        "</table>\n",
        "</div>"
       ],
       "metadata": {},
       "output_type": "pyout",
       "prompt_number": 9,
       "text": [
        "                                             \ufeff_input  _num  \\\n",
        "0  webpage/url:http://en.wikipedia.org/wiki/List_...     1   \n",
        "1  webpage/url:http://en.wikipedia.org/wiki/List_...     2   \n",
        "2  webpage/url:http://en.wikipedia.org/wiki/List_...     3   \n",
        "3  webpage/url:http://en.wikipedia.org/wiki/List_...     4   \n",
        "4  webpage/url:http://en.wikipedia.org/wiki/List_...     5   \n",
        "\n",
        "                    _widgetName                       _source  _resultNumber  \\\n",
        "0  wikipedia us population info  wikipedia us population info              1   \n",
        "1  wikipedia us population info  wikipedia us population info              2   \n",
        "2  wikipedia us population info  wikipedia us population info              3   \n",
        "3  wikipedia us population info  wikipedia us population info              4   \n",
        "4  wikipedia us population info  wikipedia us population info              5   \n",
        "\n",
        "                                            _pageUrl          city  \\\n",
        "0  http://en.wikipedia.org/wiki/List_of_United_St...      New York   \n",
        "1  http://en.wikipedia.org/wiki/List_of_United_St...   Los Angeles   \n",
        "2  http://en.wikipedia.org/wiki/List_of_United_St...       Chicago   \n",
        "3  http://en.wikipedia.org/wiki/List_of_United_St...       Houston   \n",
        "4  http://en.wikipedia.org/wiki/List_of_United_St...  Philadelphia   \n",
        "\n",
        "          state  est_pop_2013  est_pop_2013/_source              location  \n",
        "0      New York       8405837               8405837   40.6643\u00b0N 73.9385\u00b0W  \n",
        "1    California       3884307               3884307  34.0194\u00b0N 118.4108\u00b0W  \n",
        "2      Illinois       2718782               2718782   41.8376\u00b0N 87.6818\u00b0W  \n",
        "3         Texas       2195914               2195914   29.7805\u00b0N 95.3863\u00b0W  \n",
        "4  Pennsylvania       1553165               1553165   40.0094\u00b0N 75.1333\u00b0W  "
       ]
      }
     ],
     "prompt_number": 9
    },
    {
     "cell_type": "code",
     "collapsed": false,
     "input": [
      "df_jobs.columns"
     ],
     "language": "python",
     "metadata": {},
     "outputs": [
      {
       "metadata": {},
       "output_type": "pyout",
       "prompt_number": 10,
       "text": [
        "Index([u'\ufeff_input', u'_num', u'_widgetName', u'_source', u'_resultNumber', u'_pageUrl', u'location', u'total_results', u'first_result_title', u'second_result_title', u'third_result_title', u'fourth_result_title', u'fifth_result_title', u'sixth_result_title'], dtype=object)"
       ]
      }
     ],
     "prompt_number": 10
    },
    {
     "cell_type": "code",
     "collapsed": false,
     "input": [
      "df_jobs.location"
     ],
     "language": "python",
     "metadata": {},
     "outputs": [
      {
       "metadata": {},
       "output_type": "pyout",
       "prompt_number": 11,
       "text": [
        "0            Chicago IL\n",
        "1            Seattle WA\n",
        "2             Boston MA\n",
        "3      Oklahoma City OK\n",
        "4         Sacramento CA\n",
        "5            Madison WI\n",
        "6        Kansas City MO\n",
        "7            Orlando FL\n",
        "8              Miami FL\n",
        "9              Tampa FL\n",
        "10         Milwaukee WI\n",
        "11             Omaha NE\n",
        "12          Hartford CT\n",
        "13    Salt Lake City UT\n",
        "14         Cleveland OH\n",
        "15         Charlotte NC\n",
        "16        Washington DC\n",
        "17     New York City NY\n",
        "18     San Francisco CA\n",
        "19          Columbus OH\n",
        "20         Iowa City IA\n",
        "21        Pittsburgh PA\n",
        "22       San Antonio TX\n",
        "23          San Jose CA\n",
        "24           Detroit MI\n",
        "25       Minneapolis MN\n",
        "26      Grand Rapids MI\n",
        "27           Raleigh NC\n",
        "28            Austin TX\n",
        "29         Las Vegas NV\n",
        "30            Denver CO\n",
        "31      Philadelphia PA\n",
        "32      Philadelphia PA\n",
        "33           Atlanta GA\n",
        "34       Los Angeles CA\n",
        "Name: location, dtype: object"
       ]
      }
     ],
     "prompt_number": 11
    },
    {
     "cell_type": "code",
     "collapsed": false,
     "input": [],
     "language": "python",
     "metadata": {},
     "outputs": []
    }
   ],
   "metadata": {}
  }
 ]
}